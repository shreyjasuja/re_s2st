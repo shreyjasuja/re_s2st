{
 "cells": [
  {
   "cell_type": "markdown",
   "id": "2d3aeb89-dd56-43dd-8db1-e9e2fc98202e",
   "metadata": {},
   "source": [
    "Let set up the basic Chameleon Configuration\n"
   ]
  },
  {
   "cell_type": "code",
   "execution_count": 1,
   "id": "b8993820-43bb-4ab3-8667-9a57039cb89a",
   "metadata": {},
   "outputs": [
    {
     "name": "stdout",
     "output_type": "stream",
     "text": [
      "Now using CHI@UC:\n",
      "URL: https://chi.uc.chameleoncloud.org\n",
      "Location: Argonne National Laboratory, Lemont, Illinois, USA\n",
      "Support contact: help@chameleoncloud.org\n"
     ]
    }
   ],
   "source": [
    "import chi, os, time\n",
    "from chi import lease\n",
    "from chi import server\n",
    "\n",
    "PROJECT_NAME = os.getenv('OS_PROJECT_NAME') # change this if you need to\n",
    "chi.use_site(\"CHI@UC\")\n",
    "chi.set(\"project_name\", PROJECT_NAME)\n",
    "username = os.getenv('USER') # all exp resources will have this prefix"
   ]
  },
  {
   "cell_type": "markdown",
   "id": "ca5da136-642b-4c50-b0d5-c711a245ae9a",
   "metadata": {},
   "source": [
    "Set the `NODE_TYPE` to resource server where you performed your experiment"
   ]
  },
  {
   "cell_type": "code",
   "execution_count": 2,
   "id": "5d9595bd-4000-4497-a1e1-c1f6ea3e0146",
   "metadata": {},
   "outputs": [],
   "source": [
    "NODE_TYPE=\"gpu_rtx_6000\""
   ]
  },
  {
   "cell_type": "markdown",
   "id": "e1e8b246-b16a-42e1-9c24-45077611d317",
   "metadata": {},
   "source": [
    "Lets access the resources where our evaluation was conducted"
   ]
  },
  {
   "cell_type": "code",
   "execution_count": 3,
   "id": "ea777214-dc37-4b17-94f2-61641341f4c0",
   "metadata": {},
   "outputs": [],
   "source": [
    "l = lease.get_lease(f\"colab-{username}-{NODE_TYPE}-v2\")\n",
    "reservation_id = lease.get_node_reservation(l[\"id\"])\n",
    "server_id = server.get_server_id(f\"colab-{username}-{NODE_TYPE}-v2\")\n",
    "server.wait_for_active(server_id)\n",
    "reserved_fip = [d['addr'] for d in chi.server.show_server(server_id).addresses['sharednet1'] if d['OS-EXT-IPS:type']=='floating'][0]"
   ]
  },
  {
   "cell_type": "code",
   "execution_count": 7,
   "id": "c7de1639-7deb-400b-b7eb-a9e19b94e2fb",
   "metadata": {},
   "outputs": [],
   "source": [
    "from chi import ssh\n",
    "node = ssh.Remote(reserved_fip)"
   ]
  },
  {
   "cell_type": "code",
   "execution_count": 64,
   "id": "b410a53e-a920-42bf-884d-4e92dfae66dd",
   "metadata": {},
   "outputs": [],
   "source": [
    "# Define the remote directory path and the local path to download to\n",
    "remote_directory = 'results/'\n",
    "archive_name='covost2_results.tar.gz'\n"
   ]
  },
  {
   "cell_type": "markdown",
   "id": "d2563569-bb14-4107-b2db-ae6e39174b30",
   "metadata": {},
   "source": [
    "The ssh implementation provided by `python-chi` as a wrapper over Fabric, only allows for single file transfer. In order to transfer the directory we would nead to archive the entire remote directory then transfer the archive file"
   ]
  },
  {
   "cell_type": "code",
   "execution_count": 66,
   "id": "9b1fce90-e608-4bd5-8efe-8fd31a8feac6",
   "metadata": {},
   "outputs": [
    {
     "data": {
      "text/plain": [
       "<Result cmd='tar -czf covost2_results.tar.gz -C results/ .' exited=0>"
      ]
     },
     "execution_count": 66,
     "metadata": {},
     "output_type": "execute_result"
    }
   ],
   "source": [
    "node.run(f'tar -czf {archive_name} -C {remote_directory} .')"
   ]
  },
  {
   "cell_type": "code",
   "execution_count": 67,
   "id": "5d411bd7-8d96-4885-bee0-95c7a2286eec",
   "metadata": {},
   "outputs": [
    {
     "data": {
      "text/plain": [
       "<fabric.transfer.Result at 0x7f001be87730>"
      ]
     },
     "execution_count": 67,
     "metadata": {},
     "output_type": "execute_result"
    }
   ],
   "source": [
    "node.get(archive_name)"
   ]
  },
  {
   "cell_type": "code",
   "execution_count": 69,
   "id": "8c2614a7-546a-4f8f-a9df-2840680ff0de",
   "metadata": {},
   "outputs": [],
   "source": [
    "import tarfile\n",
    "with tarfile.open(archive_name) as tar:\n",
    "    tar.extractall(path=remote_directory)"
   ]
  },
  {
   "cell_type": "markdown",
   "id": "57531b75-8e61-463a-8f41-c0d533349c62",
   "metadata": {
    "tags": []
   },
   "source": [
    "## Divide language in different categories\n"
   ]
  },
  {
   "cell_type": "markdown",
   "id": "ede6663d-83ed-46ae-a814-3ee57c70f122",
   "metadata": {},
   "source": [
    "While evaluating performance in terms of translation capabilities, we need to divide our languages between high, mid and low resource categories depending on what amount of data is available in each language. This distribution has been provided by Babu et al.,2021 in their XLS-R [paper](https://arxiv.org/pdf/2111.09296.pdf)."
   ]
  },
  {
   "cell_type": "code",
   "execution_count": 71,
   "id": "500dcbac-0e0c-4543-8723-375233dae00c",
   "metadata": {},
   "outputs": [],
   "source": [
    "res_levels=[\"low_res\",\"mid_res\",\"high_res\"]\n",
    "\n",
    "high_res=['ca','de','fr','es']\n",
    "mid_res=['zh-CN','fa','it','ru','pt']\n",
    "low_res=['mn','ta','lv','et','cy','sl','ja','tr','ar','nl','sv-SE','id']\n"
   ]
  },
  {
   "cell_type": "code",
   "execution_count": 72,
   "id": "164ac4d5-3d76-41dc-8758-b622528805c8",
   "metadata": {},
   "outputs": [],
   "source": [
    "def resource_level_results(scores,model_name):\n",
    "    res_scores=collections.defaultdict(float)\n",
    "    for level in res_levels:\n",
    "        for lang in eval(level):\n",
    "            res_scores[level]+=scores[lang]\n",
    "        res_scores['all']+=res_scores[level]\n",
    "        res_scores[level]/=len(eval(level))\n",
    "    res_scores['all']/=21.0\n",
    "    return {\n",
    "      \"Model\":model_name,\n",
    "      \"High\" : round(res_scores[\"high_res\"],1),\n",
    "      \"Mid\" : round(res_scores[\"mid_res\"],1),\n",
    "      \"Low\" : round(res_scores[\"low_res\"],1),\n",
    "      \"All\" : round(res_scores['all'],1)\n",
    "    }"
   ]
  },
  {
   "cell_type": "code",
   "execution_count": 73,
   "id": "f8ef4e69-d63c-4eb5-8fb4-ddb1416bf6df",
   "metadata": {},
   "outputs": [],
   "source": [
    "final_results=[]\n",
    "\n",
    "lang_codes= low_res + mid_res +high_res"
   ]
  },
  {
   "cell_type": "code",
   "execution_count": 74,
   "id": "12b2dbd7-ff4c-4b05-ab8c-e3c7c5ae1461",
   "metadata": {},
   "outputs": [
    {
     "data": {
      "text/plain": [
       "'{\"columns\":[\"Model\",\"High\",\"Mid\",\"Low\",\"All\"],\"index\":[0,1,2,3,4],\"data\":[[\"XMEF-X\",34.2,20.2,5.9,14.7],[\"XLS-R (2B)\",36.1,27.7,15.1,22.1],[\"mSLAM-CTC (2B)\",37.8,29.6,18.5,24.8],[\"Maestro\",38.2,31.3,18.4,25.2],[\"Zero-Shot Whisper\",36.2,32.6,25.2,29.1]]}'"
      ]
     },
     "execution_count": 74,
     "metadata": {},
     "output_type": "execute_result"
    }
   ],
   "source": [
    "import pandas as pd\n",
    "\n",
    "# Data as interpreted from the provided image\n",
    "data = {\n",
    "    \"Model\": [\"XMEF-X\", \"XLS-R (2B)\", \"mSLAM-CTC (2B)\", \"Maestro\", \"Zero-Shot Whisper\"],\n",
    "    \"High\": [34.2, 36.1, 37.8, 38.2, 36.2],\n",
    "    \"Mid\": [20.2, 27.7, 29.6, 31.3, 32.6],\n",
    "    \"Low\": [5.9, 15.1, 18.5, 18.4, 25.2],\n",
    "    \"All\": [14.7, 22.1, 24.8, 25.2, 29.1]\n",
    "}\n",
    "\n",
    "# Convert to pandas DataFrame\n",
    "df = pd.DataFrame(data)\n",
    "\n",
    "# Convert DataFrame to JSON\n",
    "json_data = df.to_json(orient='split')\n",
    "json_data\n"
   ]
  },
  {
   "cell_type": "code",
   "execution_count": 76,
   "id": "71b2d976-e3ed-4df8-9858-e68aa16c4d91",
   "metadata": {},
   "outputs": [
    {
     "data": {
      "text/html": [
       "<div>\n",
       "<style scoped>\n",
       "    .dataframe tbody tr th:only-of-type {\n",
       "        vertical-align: middle;\n",
       "    }\n",
       "\n",
       "    .dataframe tbody tr th {\n",
       "        vertical-align: top;\n",
       "    }\n",
       "\n",
       "    .dataframe thead th {\n",
       "        text-align: right;\n",
       "    }\n",
       "</style>\n",
       "<table border=\"1\" class=\"dataframe\">\n",
       "  <thead>\n",
       "    <tr style=\"text-align: right;\">\n",
       "      <th></th>\n",
       "      <th>Model</th>\n",
       "      <th>High</th>\n",
       "      <th>Mid</th>\n",
       "      <th>Low</th>\n",
       "      <th>All</th>\n",
       "    </tr>\n",
       "  </thead>\n",
       "  <tbody>\n",
       "    <tr>\n",
       "      <th>0</th>\n",
       "      <td>XMEF-X</td>\n",
       "      <td>34.2</td>\n",
       "      <td>20.2</td>\n",
       "      <td>5.9</td>\n",
       "      <td>14.7</td>\n",
       "    </tr>\n",
       "    <tr>\n",
       "      <th>1</th>\n",
       "      <td>XLS-R (2B)</td>\n",
       "      <td>36.1</td>\n",
       "      <td>27.7</td>\n",
       "      <td>15.1</td>\n",
       "      <td>22.1</td>\n",
       "    </tr>\n",
       "    <tr>\n",
       "      <th>2</th>\n",
       "      <td>mSLAM-CTC (2B)</td>\n",
       "      <td>37.8</td>\n",
       "      <td>29.6</td>\n",
       "      <td>18.5</td>\n",
       "      <td>24.8</td>\n",
       "    </tr>\n",
       "    <tr>\n",
       "      <th>3</th>\n",
       "      <td>Maestro</td>\n",
       "      <td>38.2</td>\n",
       "      <td>31.3</td>\n",
       "      <td>18.4</td>\n",
       "      <td>25.2</td>\n",
       "    </tr>\n",
       "    <tr>\n",
       "      <th>4</th>\n",
       "      <td>Zero-Shot Whisper</td>\n",
       "      <td>36.2</td>\n",
       "      <td>32.6</td>\n",
       "      <td>25.2</td>\n",
       "      <td>29.1</td>\n",
       "    </tr>\n",
       "  </tbody>\n",
       "</table>\n",
       "</div>"
      ],
      "text/plain": [
       "               Model  High   Mid   Low   All\n",
       "0             XMEF-X  34.2  20.2   5.9  14.7\n",
       "1         XLS-R (2B)  36.1  27.7  15.1  22.1\n",
       "2     mSLAM-CTC (2B)  37.8  29.6  18.5  24.8\n",
       "3            Maestro  38.2  31.3  18.4  25.2\n",
       "4  Zero-Shot Whisper  36.2  32.6  25.2  29.1"
      ]
     },
     "execution_count": 76,
     "metadata": {},
     "output_type": "execute_result"
    }
   ],
   "source": [
    "pd.read_json(json_data, orient='split')"
   ]
  },
  {
   "cell_type": "code",
   "execution_count": 79,
   "id": "f7bb152a-fa23-481c-85b8-a7022ff2d7d6",
   "metadata": {},
   "outputs": [],
   "source": [
    "import json\n",
    "with open('claims/whisper_claim_covost2.json','w') as f:\n",
    "          json.dump(json_data,f)"
   ]
  },
  {
   "cell_type": "code",
   "execution_count": null,
   "id": "40453157-3a85-4544-9e08-6f44eb4d80d5",
   "metadata": {},
   "outputs": [],
   "source": []
  }
 ],
 "metadata": {
  "kernelspec": {
   "display_name": "Python 3 (ipykernel)",
   "language": "python",
   "name": "python3"
  },
  "language_info": {
   "codemirror_mode": {
    "name": "ipython",
    "version": 3
   },
   "file_extension": ".py",
   "mimetype": "text/x-python",
   "name": "python",
   "nbconvert_exporter": "python",
   "pygments_lexer": "ipython3",
   "version": "3.10.9"
  }
 },
 "nbformat": 4,
 "nbformat_minor": 5
}
