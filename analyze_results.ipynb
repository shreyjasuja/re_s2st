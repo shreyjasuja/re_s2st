{
 "cells": [
  {
   "cell_type": "markdown",
   "id": "2d3aeb89-dd56-43dd-8db1-e9e2fc98202e",
   "metadata": {},
   "source": [
    "Let set up the basic Chameleon Configuration\n"
   ]
  },
  {
   "cell_type": "code",
   "execution_count": 1,
   "id": "b8993820-43bb-4ab3-8667-9a57039cb89a",
   "metadata": {},
   "outputs": [
    {
     "ename": "ModuleNotFoundError",
     "evalue": "No module named 'chi'",
     "output_type": "error",
     "traceback": [
      "\u001b[0;31m---------------------------------------------------------------------------\u001b[0m",
      "\u001b[0;31mModuleNotFoundError\u001b[0m                       Traceback (most recent call last)",
      "Cell \u001b[0;32mIn[1], line 1\u001b[0m\n\u001b[0;32m----> 1\u001b[0m \u001b[38;5;28;01mimport\u001b[39;00m \u001b[38;5;21;01mchi\u001b[39;00m\u001b[38;5;241m,\u001b[39m \u001b[38;5;21;01mos\u001b[39;00m\u001b[38;5;241m,\u001b[39m \u001b[38;5;21;01mtime\u001b[39;00m\n\u001b[1;32m      2\u001b[0m \u001b[38;5;28;01mfrom\u001b[39;00m \u001b[38;5;21;01mchi\u001b[39;00m \u001b[38;5;28;01mimport\u001b[39;00m lease\n\u001b[1;32m      3\u001b[0m \u001b[38;5;28;01mfrom\u001b[39;00m \u001b[38;5;21;01mchi\u001b[39;00m \u001b[38;5;28;01mimport\u001b[39;00m server\n",
      "\u001b[0;31mModuleNotFoundError\u001b[0m: No module named 'chi'"
     ]
    }
   ],
   "source": [
    "import chi, os, time\n",
    "from chi import lease\n",
    "from chi import server\n",
    "\n",
    "PROJECT_NAME = os.getenv('OS_PROJECT_NAME') # change this if you need to\n",
    "chi.use_site(\"CHI@UC\")\n",
    "chi.set(\"project_name\", PROJECT_NAME)\n",
    "username = os.getenv('USER') # all exp resources will have this prefix"
   ]
  },
  {
   "cell_type": "markdown",
   "id": "ca5da136-642b-4c50-b0d5-c711a245ae9a",
   "metadata": {},
   "source": [
    "Set the `NODE_TYPE` to resource server where you performed your experiment"
   ]
  },
  {
   "cell_type": "code",
   "execution_count": 2,
   "id": "5d9595bd-4000-4497-a1e1-c1f6ea3e0146",
   "metadata": {},
   "outputs": [],
   "source": [
    "NODE_TYPE=\"gpu_rtx_6000\""
   ]
  },
  {
   "cell_type": "markdown",
   "id": "e1e8b246-b16a-42e1-9c24-45077611d317",
   "metadata": {},
   "source": [
    "Lets access the resources where our evaluation was conducted"
   ]
  },
  {
   "cell_type": "code",
   "execution_count": 3,
   "id": "ea777214-dc37-4b17-94f2-61641341f4c0",
   "metadata": {},
   "outputs": [],
   "source": [
    "l = lease.get_lease(f\"colab-{username}-{NODE_TYPE}-v2\")\n",
    "reservation_id = lease.get_node_reservation(l[\"id\"])\n",
    "server_id = server.get_server_id(f\"colab-{username}-{NODE_TYPE}-v2\")\n",
    "server.wait_for_active(server_id)\n",
    "reserved_fip = [d['addr'] for d in chi.server.show_server(server_id).addresses['sharednet1'] if d['OS-EXT-IPS:type']=='floating'][0]"
   ]
  },
  {
   "cell_type": "markdown",
   "id": "7b8186bc",
   "metadata": {},
   "source": [
    "### Transfer raw results from the resource server to the jupyter server"
   ]
  },
  {
   "cell_type": "code",
   "execution_count": 7,
   "id": "c7de1639-7deb-400b-b7eb-a9e19b94e2fb",
   "metadata": {},
   "outputs": [],
   "source": [
    "from chi import ssh\n",
    "node = ssh.Remote(reserved_fip)"
   ]
  },
  {
   "cell_type": "code",
   "execution_count": 64,
   "id": "b410a53e-a920-42bf-884d-4e92dfae66dd",
   "metadata": {},
   "outputs": [],
   "source": [
    "# Define the remote directory path and the local path to download to\n",
    "remote_directory = 'results/'\n",
    "archive_name='covost2_results.tar.gz'\n"
   ]
  },
  {
   "cell_type": "markdown",
   "id": "d2563569-bb14-4107-b2db-ae6e39174b30",
   "metadata": {},
   "source": [
    "The ssh implementation provided by `python-chi` as a wrapper over Fabric, only allows for single file transfer. In order to transfer the directory we would nead to archive the entire remote directory then transfer the archive file"
   ]
  },
  {
   "cell_type": "code",
   "execution_count": 66,
   "id": "9b1fce90-e608-4bd5-8efe-8fd31a8feac6",
   "metadata": {},
   "outputs": [
    {
     "data": {
      "text/plain": [
       "<Result cmd='tar -czf covost2_results.tar.gz -C results/ .' exited=0>"
      ]
     },
     "execution_count": 66,
     "metadata": {},
     "output_type": "execute_result"
    }
   ],
   "source": [
    "node.run(f'tar -czf {archive_name} -C {remote_directory} .')"
   ]
  },
  {
   "cell_type": "code",
   "execution_count": 67,
   "id": "5d411bd7-8d96-4885-bee0-95c7a2286eec",
   "metadata": {},
   "outputs": [
    {
     "data": {
      "text/plain": [
       "<fabric.transfer.Result at 0x7f001be87730>"
      ]
     },
     "execution_count": 67,
     "metadata": {},
     "output_type": "execute_result"
    }
   ],
   "source": [
    "node.get(archive_name)"
   ]
  },
  {
   "cell_type": "code",
   "execution_count": 69,
   "id": "8c2614a7-546a-4f8f-a9df-2840680ff0de",
   "metadata": {},
   "outputs": [],
   "source": [
    "import tarfile\n",
    "with tarfile.open(archive_name) as tar:\n",
    "    tar.extractall(path=remote_directory)"
   ]
  },
  {
   "cell_type": "markdown",
   "id": "76e85291",
   "metadata": {},
   "source": [
    "## Reproduced results summaries"
   ]
  },
  {
   "cell_type": "markdown",
   "id": "204908f6",
   "metadata": {},
   "source": [
    "### CoVoST2 evaluation summary"
   ]
  },
  {
   "cell_type": "markdown",
   "id": "71e56f95",
   "metadata": {},
   "source": [
    "Lets first summarize the results of the CoVoST2 evaluation. We have the scores for four models on this data for X→eng translations for 21 languages. These models are: \n",
    "\n",
    "1) Whisper \n",
    "2) XLS-R\n",
    "3) Seamless Medium\n",
    "4) Seamless Large\n"
   ]
  },
  {
   "cell_type": "markdown",
   "id": "57531b75-8e61-463a-8f41-c0d533349c62",
   "metadata": {
    "tags": []
   },
   "source": [
    "#### Divide language in different categories\n"
   ]
  },
  {
   "cell_type": "markdown",
   "id": "ede6663d-83ed-46ae-a814-3ee57c70f122",
   "metadata": {},
   "source": [
    "While evaluating performance in terms of translation capabilities, we need to divide our languages between high, mid and low resource categories depending on what amount of data is available in each language. This distribution has been provided by Babu et al.,2021 in their XLS-R [paper](https://arxiv.org/pdf/2111.09296.pdf)."
   ]
  },
  {
   "cell_type": "code",
   "execution_count": 35,
   "id": "500dcbac-0e0c-4543-8723-375233dae00c",
   "metadata": {},
   "outputs": [],
   "source": [
    "res_levels=[\"low_res\",\"mid_res\",\"high_res\"]\n",
    "\n",
    "high_res=['ca','de','fr','es']\n",
    "mid_res=['zh-CN','fa','it','ru','pt']\n",
    "low_res=['mn','ta','lv','et','cy','sl','ja','tr','ar','nl','sv-SE','id']\n"
   ]
  },
  {
   "cell_type": "code",
   "execution_count": 73,
   "id": "164ac4d5-3d76-41dc-8758-b622528805c8",
   "metadata": {},
   "outputs": [],
   "source": [
    "import collections\n",
    "def resource_level_results(scores,model_name):\n",
    "    res_scores=collections.defaultdict(float)\n",
    "    for level in res_levels:\n",
    "        for lang in eval(level):\n",
    "            res_scores[level]+=scores[lang]\n",
    "        res_scores['all']+=res_scores[level]\n",
    "        res_scores[level]/=len(eval(level))\n",
    "    res_scores['all']/=21.0\n",
    "    return {\n",
    "      \"Model\":model_name,\n",
    "      \"High\" : round(res_scores[\"high_res\"],1),\n",
    "      \"Mid\" : round(res_scores[\"mid_res\"],1),\n",
    "      \"Low\" : round(res_scores[\"low_res\"],1),\n",
    "      \"All\" : round(res_scores['all'],1)\n",
    "    }"
   ]
  },
  {
   "cell_type": "code",
   "execution_count": 151,
   "id": "40453157-3a85-4544-9e08-6f44eb4d80d5",
   "metadata": {},
   "outputs": [],
   "source": [
    "import os, json\n",
    "re_results=[]\n",
    "score_directory='results/covost2/scores/'\n",
    "#read all the json files\n",
    "for files in os.listdir(score_directory):\n",
    "    with open(score_directory+files) as f:\n",
    "        scores=json.load(f)\n",
    "        model_name=files.split('.')[0]\n",
    "        re_results.append(resource_level_results(scores,model_name))\n",
    "\n",
    "re_results_df=pd.DataFrame(re_results)\n",
    "\n",
    "\n"
   ]
  },
  {
   "cell_type": "code",
   "execution_count": 164,
   "id": "fb4eec98",
   "metadata": {},
   "outputs": [],
   "source": [
    "re_results_df.to_json('claims/re_covost_summary.json',orient='split')"
   ]
  },
  {
   "cell_type": "markdown",
   "id": "0e66db00",
   "metadata": {},
   "source": [
    "## Whisper Claim 1"
   ]
  },
  {
   "cell_type": "code",
   "execution_count": 179,
   "id": "71b2d976-e3ed-4df8-9858-e68aa16c4d91",
   "metadata": {},
   "outputs": [],
   "source": [
    "#read the claim data\n",
    "import pandas as pd\n",
    "claims_df= pd.read_json('claims/whisper_claim_1.json',orient='split')"
   ]
  },
  {
   "cell_type": "code",
   "execution_count": 165,
   "id": "de79392f",
   "metadata": {},
   "outputs": [
    {
     "data": {
      "text/html": [
       "<div>\n",
       "<style scoped>\n",
       "    .dataframe tbody tr th:only-of-type {\n",
       "        vertical-align: middle;\n",
       "    }\n",
       "\n",
       "    .dataframe tbody tr th {\n",
       "        vertical-align: top;\n",
       "    }\n",
       "\n",
       "    .dataframe thead th {\n",
       "        text-align: right;\n",
       "    }\n",
       "</style>\n",
       "<table border=\"1\" class=\"dataframe\">\n",
       "  <thead>\n",
       "    <tr style=\"text-align: right;\">\n",
       "      <th></th>\n",
       "      <th>Model</th>\n",
       "      <th>High</th>\n",
       "      <th>Mid</th>\n",
       "      <th>Low</th>\n",
       "      <th>All</th>\n",
       "    </tr>\n",
       "  </thead>\n",
       "  <tbody>\n",
       "    <tr>\n",
       "      <th>0</th>\n",
       "      <td>XMEF-X</td>\n",
       "      <td>34.2</td>\n",
       "      <td>20.2</td>\n",
       "      <td>5.9</td>\n",
       "      <td>14.7</td>\n",
       "    </tr>\n",
       "    <tr>\n",
       "      <th>1</th>\n",
       "      <td>XLS-R (2B)</td>\n",
       "      <td>36.1</td>\n",
       "      <td>27.7</td>\n",
       "      <td>15.1</td>\n",
       "      <td>22.1</td>\n",
       "    </tr>\n",
       "    <tr>\n",
       "      <th>2</th>\n",
       "      <td>mSLAM-CTC (2B)</td>\n",
       "      <td>37.8</td>\n",
       "      <td>29.6</td>\n",
       "      <td>18.5</td>\n",
       "      <td>24.8</td>\n",
       "    </tr>\n",
       "    <tr>\n",
       "      <th>3</th>\n",
       "      <td>Maestro</td>\n",
       "      <td>38.2</td>\n",
       "      <td>31.3</td>\n",
       "      <td>18.4</td>\n",
       "      <td>25.2</td>\n",
       "    </tr>\n",
       "    <tr>\n",
       "      <th>4</th>\n",
       "      <td>Zero-Shot Whisper</td>\n",
       "      <td>36.2</td>\n",
       "      <td>32.6</td>\n",
       "      <td>25.2</td>\n",
       "      <td>29.1</td>\n",
       "    </tr>\n",
       "  </tbody>\n",
       "</table>\n",
       "</div>"
      ],
      "text/plain": [
       "               Model  High   Mid   Low   All\n",
       "0             XMEF-X  34.2  20.2   5.9  14.7\n",
       "1         XLS-R (2B)  36.1  27.7  15.1  22.1\n",
       "2     mSLAM-CTC (2B)  37.8  29.6  18.5  24.8\n",
       "3            Maestro  38.2  31.3  18.4  25.2\n",
       "4  Zero-Shot Whisper  36.2  32.6  25.2  29.1"
      ]
     },
     "execution_count": 165,
     "metadata": {},
     "output_type": "execute_result"
    }
   ],
   "source": [
    "claims_df"
   ]
  },
  {
   "cell_type": "code",
   "execution_count": 178,
   "id": "74686335",
   "metadata": {},
   "outputs": [
    {
     "data": {
      "text/html": [
       "<div>\n",
       "<style scoped>\n",
       "    .dataframe tbody tr th:only-of-type {\n",
       "        vertical-align: middle;\n",
       "    }\n",
       "\n",
       "    .dataframe tbody tr th {\n",
       "        vertical-align: top;\n",
       "    }\n",
       "\n",
       "    .dataframe thead th {\n",
       "        text-align: right;\n",
       "    }\n",
       "</style>\n",
       "<table border=\"1\" class=\"dataframe\">\n",
       "  <thead>\n",
       "    <tr style=\"text-align: right;\">\n",
       "      <th></th>\n",
       "      <th>Model</th>\n",
       "      <th>High</th>\n",
       "      <th>Mid</th>\n",
       "      <th>Low</th>\n",
       "      <th>All</th>\n",
       "    </tr>\n",
       "  </thead>\n",
       "  <tbody>\n",
       "    <tr>\n",
       "      <th>0</th>\n",
       "      <td>Seamless Medium</td>\n",
       "      <td>37.3</td>\n",
       "      <td>33.6</td>\n",
       "      <td>28.3</td>\n",
       "      <td>31.3</td>\n",
       "    </tr>\n",
       "    <tr>\n",
       "      <th>1</th>\n",
       "      <td>Seamless Large</td>\n",
       "      <td>39.3</td>\n",
       "      <td>36.2</td>\n",
       "      <td>31.9</td>\n",
       "      <td>34.3</td>\n",
       "    </tr>\n",
       "    <tr>\n",
       "      <th>2</th>\n",
       "      <td>XLS-R (2B)</td>\n",
       "      <td>36.0</td>\n",
       "      <td>27.8</td>\n",
       "      <td>15.4</td>\n",
       "      <td>22.3</td>\n",
       "    </tr>\n",
       "    <tr>\n",
       "      <th>3</th>\n",
       "      <td>Whisper Large-v2</td>\n",
       "      <td>35.2</td>\n",
       "      <td>32.6</td>\n",
       "      <td>23.8</td>\n",
       "      <td>28.1</td>\n",
       "    </tr>\n",
       "  </tbody>\n",
       "</table>\n",
       "</div>"
      ],
      "text/plain": [
       "              Model  High   Mid   Low   All\n",
       "0   Seamless Medium  37.3  33.6  28.3  31.3\n",
       "1    Seamless Large  39.3  36.2  31.9  34.3\n",
       "2        XLS-R (2B)  36.0  27.8  15.4  22.3\n",
       "3  Whisper Large-v2  35.2  32.6  23.8  28.1"
      ]
     },
     "execution_count": 178,
     "metadata": {},
     "output_type": "execute_result"
    }
   ],
   "source": [
    "re_results_df= pd.read_json('claims/re_covost_summary.json',orient='split')\n",
    "re_results_df"
   ]
  },
  {
   "cell_type": "code",
   "execution_count": 167,
   "id": "6a8685c5",
   "metadata": {},
   "outputs": [],
   "source": [
    "from fuzzywuzzy import process"
   ]
  },
  {
   "cell_type": "code",
   "execution_count": 168,
   "id": "6417077e",
   "metadata": {},
   "outputs": [],
   "source": [
    "def apply_brackets(claims_df, avoid_cols=[\"Model\"]):\n",
    "    df=claims_df.copy()\n",
    "    for col in df.columns:\n",
    "        if col not in avoid_cols:\n",
    "            df[col]=df[col].apply(lambda x: f\"({x})\")\n",
    "    return df"
   ]
  },
  {
   "cell_type": "code",
   "execution_count": 169,
   "id": "a359a443",
   "metadata": {},
   "outputs": [],
   "source": [
    "def fuzzy_combine_results(claims_df, re_results_df, value_cols=['High', 'Mid', 'Low', 'All']):\n",
    "    combined_results=claims_df.copy()\n",
    "\n",
    "    # Create a set to keep track of matched models from final_results_df\n",
    "    matched_models = set()\n",
    "\n",
    "    # ensuring that each model from final_results_df is only used once\n",
    "    for index, claim_model in claims_df['Model'].items():\n",
    "\n",
    "        lookup_list=[model for model in re_results_df['Model'] if model not in matched_models]\n",
    "\n",
    "        if not lookup_list:\n",
    "            break\n",
    "\n",
    "        # Extract best match that hasn't been used already\n",
    "        best_match, score = process.extractOne(\n",
    "            claim_model,\n",
    "            lookup_list\n",
    "            \n",
    "        )\n",
    "\n",
    "        # If a good match is found and not already used\n",
    "        if best_match and score >= 50:\n",
    "            # Mark this model as matched to prevent further matches\n",
    "            matched_models.add(best_match)\n",
    "\n",
    "            # For each score column, append the final_results value to the claims value\n",
    "            for col in value_cols:\n",
    "                final_value = re_results_df.loc[re_results_df['Model'] == best_match, col].iloc[0]\n",
    "                combined_results.at[index, col] = f\"{final_value} {combined_results.at[index, col]}\"\n",
    "\n",
    "    return combined_results\n",
    "    \n",
    "        "
   ]
  },
  {
   "cell_type": "code",
   "execution_count": 170,
   "id": "8894c7cb",
   "metadata": {},
   "outputs": [
    {
     "data": {
      "text/html": [
       "<div>\n",
       "<style scoped>\n",
       "    .dataframe tbody tr th:only-of-type {\n",
       "        vertical-align: middle;\n",
       "    }\n",
       "\n",
       "    .dataframe tbody tr th {\n",
       "        vertical-align: top;\n",
       "    }\n",
       "\n",
       "    .dataframe thead th {\n",
       "        text-align: right;\n",
       "    }\n",
       "</style>\n",
       "<table border=\"1\" class=\"dataframe\">\n",
       "  <thead>\n",
       "    <tr style=\"text-align: right;\">\n",
       "      <th></th>\n",
       "      <th>Model</th>\n",
       "      <th>High</th>\n",
       "      <th>Mid</th>\n",
       "      <th>Low</th>\n",
       "      <th>All</th>\n",
       "    </tr>\n",
       "  </thead>\n",
       "  <tbody>\n",
       "    <tr>\n",
       "      <th>0</th>\n",
       "      <td>XMEF-X</td>\n",
       "      <td>(34.2)</td>\n",
       "      <td>(20.2)</td>\n",
       "      <td>(5.9)</td>\n",
       "      <td>(14.7)</td>\n",
       "    </tr>\n",
       "    <tr>\n",
       "      <th>1</th>\n",
       "      <td>XLS-R (2B)</td>\n",
       "      <td>36.0 (36.1)</td>\n",
       "      <td>27.8 (27.7)</td>\n",
       "      <td>15.4 (15.1)</td>\n",
       "      <td>22.3 (22.1)</td>\n",
       "    </tr>\n",
       "    <tr>\n",
       "      <th>2</th>\n",
       "      <td>mSLAM-CTC (2B)</td>\n",
       "      <td>(37.8)</td>\n",
       "      <td>(29.6)</td>\n",
       "      <td>(18.5)</td>\n",
       "      <td>(24.8)</td>\n",
       "    </tr>\n",
       "    <tr>\n",
       "      <th>3</th>\n",
       "      <td>Maestro</td>\n",
       "      <td>(38.2)</td>\n",
       "      <td>(31.3)</td>\n",
       "      <td>(18.4)</td>\n",
       "      <td>(25.2)</td>\n",
       "    </tr>\n",
       "    <tr>\n",
       "      <th>4</th>\n",
       "      <td>Zero-Shot Whisper</td>\n",
       "      <td>35.2 (36.2)</td>\n",
       "      <td>32.6 (32.6)</td>\n",
       "      <td>23.8 (25.2)</td>\n",
       "      <td>28.1 (29.1)</td>\n",
       "    </tr>\n",
       "  </tbody>\n",
       "</table>\n",
       "</div>"
      ],
      "text/plain": [
       "               Model         High          Mid          Low          All\n",
       "0             XMEF-X       (34.2)       (20.2)        (5.9)       (14.7)\n",
       "1         XLS-R (2B)  36.0 (36.1)  27.8 (27.7)  15.4 (15.1)  22.3 (22.1)\n",
       "2     mSLAM-CTC (2B)       (37.8)       (29.6)       (18.5)       (24.8)\n",
       "3            Maestro       (38.2)       (31.3)       (18.4)       (25.2)\n",
       "4  Zero-Shot Whisper  35.2 (36.2)  32.6 (32.6)  23.8 (25.2)  28.1 (29.1)"
      ]
     },
     "execution_count": 170,
     "metadata": {},
     "output_type": "execute_result"
    }
   ],
   "source": [
    "merged_df=fuzzy_combine_results(apply_brackets(claims_df), re_results_df)\n",
    "merged_df"
   ]
  },
  {
   "cell_type": "code",
   "execution_count": 171,
   "id": "0d51d092",
   "metadata": {},
   "outputs": [],
   "source": [
    "merged_df.to_json('claims/re_whisper_claim_1.json',orient='split')"
   ]
  },
  {
   "cell_type": "markdown",
   "id": "832752ba",
   "metadata": {},
   "source": [
    "## Seamless Claim 1"
   ]
  },
  {
   "cell_type": "code",
   "execution_count": 180,
   "id": "d44d5797",
   "metadata": {},
   "outputs": [],
   "source": [
    "#read the claim data\n",
    "claims_df= pd.read_json('claims/seamless_claim_1.json',orient='split')"
   ]
  },
  {
   "cell_type": "code",
   "execution_count": 181,
   "id": "381f5c08",
   "metadata": {},
   "outputs": [
    {
     "data": {
      "text/html": [
       "<div>\n",
       "<style scoped>\n",
       "    .dataframe tbody tr th:only-of-type {\n",
       "        vertical-align: middle;\n",
       "    }\n",
       "\n",
       "    .dataframe tbody tr th {\n",
       "        vertical-align: top;\n",
       "    }\n",
       "\n",
       "    .dataframe thead th {\n",
       "        text-align: right;\n",
       "    }\n",
       "</style>\n",
       "<table border=\"1\" class=\"dataframe\">\n",
       "  <thead>\n",
       "    <tr style=\"text-align: right;\">\n",
       "      <th></th>\n",
       "      <th>Model</th>\n",
       "      <th>size</th>\n",
       "      <th>FLEURS X→eng (n=81)</th>\n",
       "      <th>FLEURS eng→X (n=88)</th>\n",
       "      <th>CoVoST 2 X→eng (n=21)</th>\n",
       "      <th>CoVoST 2 eng→X (n=15)</th>\n",
       "    </tr>\n",
       "  </thead>\n",
       "  <tbody>\n",
       "    <tr>\n",
       "      <th>0</th>\n",
       "      <td>XLS-R-2B-S2T</td>\n",
       "      <td>2.6B</td>\n",
       "      <td></td>\n",
       "      <td>x</td>\n",
       "      <td>22.1</td>\n",
       "      <td>27.8</td>\n",
       "    </tr>\n",
       "    <tr>\n",
       "      <th>1</th>\n",
       "      <td>WHISPER-LARGE-v2</td>\n",
       "      <td>1.5B</td>\n",
       "      <td>17.9</td>\n",
       "      <td>x</td>\n",
       "      <td>29.1</td>\n",
       "      <td>x</td>\n",
       "    </tr>\n",
       "    <tr>\n",
       "      <th>2</th>\n",
       "      <td>AUDIOPaLM-2-8B-AST</td>\n",
       "      <td>8.0B</td>\n",
       "      <td>19.7</td>\n",
       "      <td>x</td>\n",
       "      <td>37.8</td>\n",
       "      <td>x</td>\n",
       "    </tr>\n",
       "    <tr>\n",
       "      <th>3</th>\n",
       "      <td>SEAMLESSM4T-MEDIUM</td>\n",
       "      <td>1.2B</td>\n",
       "      <td>20.9</td>\n",
       "      <td>19.2</td>\n",
       "      <td>29.8</td>\n",
       "      <td>26.6</td>\n",
       "    </tr>\n",
       "    <tr>\n",
       "      <th>4</th>\n",
       "      <td>SEAMLESSM4T-LARGE</td>\n",
       "      <td>2.3B</td>\n",
       "      <td>24.0</td>\n",
       "      <td>21.5</td>\n",
       "      <td>34.1</td>\n",
       "      <td>30.6</td>\n",
       "    </tr>\n",
       "  </tbody>\n",
       "</table>\n",
       "</div>"
      ],
      "text/plain": [
       "                Model  size FLEURS X→eng (n=81) FLEURS eng→X (n=88)  \\\n",
       "0        XLS-R-2B-S2T  2.6B                                       x   \n",
       "1    WHISPER-LARGE-v2  1.5B                17.9                   x   \n",
       "2  AUDIOPaLM-2-8B-AST  8.0B                19.7                   x   \n",
       "3  SEAMLESSM4T-MEDIUM  1.2B                20.9                19.2   \n",
       "4   SEAMLESSM4T-LARGE  2.3B                24.0                21.5   \n",
       "\n",
       "   CoVoST 2 X→eng (n=21) CoVoST 2 eng→X (n=15)  \n",
       "0                   22.1                  27.8  \n",
       "1                   29.1                     x  \n",
       "2                   37.8                     x  \n",
       "3                   29.8                  26.6  \n",
       "4                   34.1                  30.6  "
      ]
     },
     "execution_count": 181,
     "metadata": {},
     "output_type": "execute_result"
    }
   ],
   "source": [
    "claims_df"
   ]
  },
  {
   "cell_type": "markdown",
   "id": "40230ef1",
   "metadata": {},
   "source": [
    "#### CoVoST2 X→eng related entries"
   ]
  },
  {
   "cell_type": "code",
   "execution_count": 182,
   "id": "10f80ded",
   "metadata": {},
   "outputs": [
    {
     "data": {
      "text/html": [
       "<div>\n",
       "<style scoped>\n",
       "    .dataframe tbody tr th:only-of-type {\n",
       "        vertical-align: middle;\n",
       "    }\n",
       "\n",
       "    .dataframe tbody tr th {\n",
       "        vertical-align: top;\n",
       "    }\n",
       "\n",
       "    .dataframe thead th {\n",
       "        text-align: right;\n",
       "    }\n",
       "</style>\n",
       "<table border=\"1\" class=\"dataframe\">\n",
       "  <thead>\n",
       "    <tr style=\"text-align: right;\">\n",
       "      <th></th>\n",
       "      <th>Model</th>\n",
       "      <th>High</th>\n",
       "      <th>Mid</th>\n",
       "      <th>Low</th>\n",
       "      <th>All</th>\n",
       "    </tr>\n",
       "  </thead>\n",
       "  <tbody>\n",
       "    <tr>\n",
       "      <th>0</th>\n",
       "      <td>Seamless Medium</td>\n",
       "      <td>37.3</td>\n",
       "      <td>33.6</td>\n",
       "      <td>28.3</td>\n",
       "      <td>31.3</td>\n",
       "    </tr>\n",
       "    <tr>\n",
       "      <th>1</th>\n",
       "      <td>Seamless Large</td>\n",
       "      <td>39.3</td>\n",
       "      <td>36.2</td>\n",
       "      <td>31.9</td>\n",
       "      <td>34.3</td>\n",
       "    </tr>\n",
       "    <tr>\n",
       "      <th>2</th>\n",
       "      <td>XLS-R (2B)</td>\n",
       "      <td>36.0</td>\n",
       "      <td>27.8</td>\n",
       "      <td>15.4</td>\n",
       "      <td>22.3</td>\n",
       "    </tr>\n",
       "    <tr>\n",
       "      <th>3</th>\n",
       "      <td>Whisper Large-v2</td>\n",
       "      <td>35.2</td>\n",
       "      <td>32.6</td>\n",
       "      <td>23.8</td>\n",
       "      <td>28.1</td>\n",
       "    </tr>\n",
       "  </tbody>\n",
       "</table>\n",
       "</div>"
      ],
      "text/plain": [
       "              Model  High   Mid   Low   All\n",
       "0   Seamless Medium  37.3  33.6  28.3  31.3\n",
       "1    Seamless Large  39.3  36.2  31.9  34.3\n",
       "2        XLS-R (2B)  36.0  27.8  15.4  22.3\n",
       "3  Whisper Large-v2  35.2  32.6  23.8  28.1"
      ]
     },
     "execution_count": 182,
     "metadata": {},
     "output_type": "execute_result"
    }
   ],
   "source": [
    "re_results_df=pd.read_json('claims/re_covost_summary.json',orient='split')\n",
    "re_results_df"
   ]
  },
  {
   "cell_type": "code",
   "execution_count": 183,
   "id": "62047ba6",
   "metadata": {},
   "outputs": [
    {
     "name": "stderr",
     "output_type": "stream",
     "text": [
      "/var/folders/lm/tjjq1w4j18q5433w54ry70k80000gn/T/ipykernel_57259/2281868353.py:4: SettingWithCopyWarning: \n",
      "A value is trying to be set on a copy of a slice from a DataFrame\n",
      "\n",
      "See the caveats in the documentation: https://pandas.pydata.org/pandas-docs/stable/user_guide/indexing.html#returning-a-view-versus-a-copy\n",
      "  re_results_df.rename(columns = {'All':'CoVoST 2 X→eng (n=21)'}, inplace = True)\n"
     ]
    },
    {
     "data": {
      "text/html": [
       "<div>\n",
       "<style scoped>\n",
       "    .dataframe tbody tr th:only-of-type {\n",
       "        vertical-align: middle;\n",
       "    }\n",
       "\n",
       "    .dataframe tbody tr th {\n",
       "        vertical-align: top;\n",
       "    }\n",
       "\n",
       "    .dataframe thead th {\n",
       "        text-align: right;\n",
       "    }\n",
       "</style>\n",
       "<table border=\"1\" class=\"dataframe\">\n",
       "  <thead>\n",
       "    <tr style=\"text-align: right;\">\n",
       "      <th></th>\n",
       "      <th>Model</th>\n",
       "      <th>CoVoST 2 X→eng (n=21)</th>\n",
       "    </tr>\n",
       "  </thead>\n",
       "  <tbody>\n",
       "    <tr>\n",
       "      <th>0</th>\n",
       "      <td>Seamless Medium</td>\n",
       "      <td>31.3</td>\n",
       "    </tr>\n",
       "    <tr>\n",
       "      <th>1</th>\n",
       "      <td>Seamless Large</td>\n",
       "      <td>34.3</td>\n",
       "    </tr>\n",
       "    <tr>\n",
       "      <th>2</th>\n",
       "      <td>XLS-R (2B)</td>\n",
       "      <td>22.3</td>\n",
       "    </tr>\n",
       "    <tr>\n",
       "      <th>3</th>\n",
       "      <td>Whisper Large-v2</td>\n",
       "      <td>28.1</td>\n",
       "    </tr>\n",
       "  </tbody>\n",
       "</table>\n",
       "</div>"
      ],
      "text/plain": [
       "              Model  CoVoST 2 X→eng (n=21)\n",
       "0   Seamless Medium                   31.3\n",
       "1    Seamless Large                   34.3\n",
       "2        XLS-R (2B)                   22.3\n",
       "3  Whisper Large-v2                   28.1"
      ]
     },
     "execution_count": 183,
     "metadata": {},
     "output_type": "execute_result"
    }
   ],
   "source": [
    "#keep only Model and All columns and rename All column to CoVoST 2 X→eng (n=21)\n",
    "\n",
    "re_results_df=re_results_df[['Model','All']]\n",
    "re_results_df.rename(columns = {'All':'CoVoST 2 X→eng (n=21)'}, inplace = True)\n",
    "\n",
    "re_results_df"
   ]
  },
  {
   "cell_type": "code",
   "execution_count": 184,
   "id": "a32b0b7d",
   "metadata": {},
   "outputs": [],
   "source": [
    "merged_df=fuzzy_combine_results(apply_brackets(claims_df,[\"Model\",\"size\"]), re_results_df,value_cols=['CoVoST 2 X→eng (n=21)'])"
   ]
  },
  {
   "cell_type": "code",
   "execution_count": 185,
   "id": "452730a1",
   "metadata": {},
   "outputs": [
    {
     "data": {
      "text/html": [
       "<div>\n",
       "<style scoped>\n",
       "    .dataframe tbody tr th:only-of-type {\n",
       "        vertical-align: middle;\n",
       "    }\n",
       "\n",
       "    .dataframe tbody tr th {\n",
       "        vertical-align: top;\n",
       "    }\n",
       "\n",
       "    .dataframe thead th {\n",
       "        text-align: right;\n",
       "    }\n",
       "</style>\n",
       "<table border=\"1\" class=\"dataframe\">\n",
       "  <thead>\n",
       "    <tr style=\"text-align: right;\">\n",
       "      <th></th>\n",
       "      <th>Model</th>\n",
       "      <th>size</th>\n",
       "      <th>FLEURS X→eng (n=81)</th>\n",
       "      <th>FLEURS eng→X (n=88)</th>\n",
       "      <th>CoVoST 2 X→eng (n=21)</th>\n",
       "      <th>CoVoST 2 eng→X (n=15)</th>\n",
       "    </tr>\n",
       "  </thead>\n",
       "  <tbody>\n",
       "    <tr>\n",
       "      <th>0</th>\n",
       "      <td>XLS-R-2B-S2T</td>\n",
       "      <td>2.6B</td>\n",
       "      <td>()</td>\n",
       "      <td>(x)</td>\n",
       "      <td>22.3 (22.1)</td>\n",
       "      <td>(27.8)</td>\n",
       "    </tr>\n",
       "    <tr>\n",
       "      <th>1</th>\n",
       "      <td>WHISPER-LARGE-v2</td>\n",
       "      <td>1.5B</td>\n",
       "      <td>(17.9)</td>\n",
       "      <td>(x)</td>\n",
       "      <td>28.1 (29.1)</td>\n",
       "      <td>(x)</td>\n",
       "    </tr>\n",
       "    <tr>\n",
       "      <th>2</th>\n",
       "      <td>AUDIOPaLM-2-8B-AST</td>\n",
       "      <td>8.0B</td>\n",
       "      <td>(19.7)</td>\n",
       "      <td>(x)</td>\n",
       "      <td>(37.8)</td>\n",
       "      <td>(x)</td>\n",
       "    </tr>\n",
       "    <tr>\n",
       "      <th>3</th>\n",
       "      <td>SEAMLESSM4T-MEDIUM</td>\n",
       "      <td>1.2B</td>\n",
       "      <td>(20.9)</td>\n",
       "      <td>(19.2)</td>\n",
       "      <td>31.3 (29.8)</td>\n",
       "      <td>(26.6)</td>\n",
       "    </tr>\n",
       "    <tr>\n",
       "      <th>4</th>\n",
       "      <td>SEAMLESSM4T-LARGE</td>\n",
       "      <td>2.3B</td>\n",
       "      <td>(24.0)</td>\n",
       "      <td>(21.5)</td>\n",
       "      <td>34.3 (34.1)</td>\n",
       "      <td>(30.6)</td>\n",
       "    </tr>\n",
       "  </tbody>\n",
       "</table>\n",
       "</div>"
      ],
      "text/plain": [
       "                Model  size FLEURS X→eng (n=81) FLEURS eng→X (n=88)  \\\n",
       "0        XLS-R-2B-S2T  2.6B                  ()                 (x)   \n",
       "1    WHISPER-LARGE-v2  1.5B              (17.9)                 (x)   \n",
       "2  AUDIOPaLM-2-8B-AST  8.0B              (19.7)                 (x)   \n",
       "3  SEAMLESSM4T-MEDIUM  1.2B              (20.9)              (19.2)   \n",
       "4   SEAMLESSM4T-LARGE  2.3B              (24.0)              (21.5)   \n",
       "\n",
       "  CoVoST 2 X→eng (n=21) CoVoST 2 eng→X (n=15)  \n",
       "0           22.3 (22.1)                (27.8)  \n",
       "1           28.1 (29.1)                   (x)  \n",
       "2                (37.8)                   (x)  \n",
       "3           31.3 (29.8)                (26.6)  \n",
       "4           34.3 (34.1)                (30.6)  "
      ]
     },
     "execution_count": 185,
     "metadata": {},
     "output_type": "execute_result"
    }
   ],
   "source": [
    "merged_df"
   ]
  },
  {
   "cell_type": "code",
   "execution_count": null,
   "id": "76a03826",
   "metadata": {},
   "outputs": [],
   "source": []
  },
  {
   "cell_type": "code",
   "execution_count": null,
   "id": "2225373f",
   "metadata": {},
   "outputs": [],
   "source": []
  }
 ],
 "metadata": {
  "kernelspec": {
   "display_name": "Python 3 (ipykernel)",
   "language": "python",
   "name": "python3"
  },
  "language_info": {
   "codemirror_mode": {
    "name": "ipython",
    "version": 3
   },
   "file_extension": ".py",
   "mimetype": "text/x-python",
   "name": "python",
   "nbconvert_exporter": "python",
   "pygments_lexer": "ipython3",
   "version": "3.11.5"
  }
 },
 "nbformat": 4,
 "nbformat_minor": 5
}
