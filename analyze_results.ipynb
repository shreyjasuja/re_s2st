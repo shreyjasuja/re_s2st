{
 "cells": [
  {
   "cell_type": "markdown",
   "id": "3c7e32dd-240d-4b2e-9fd7-be176a0831e2",
   "metadata": {},
   "source": [
    "# Results Analysis"
   ]
  },
  {
   "cell_type": "markdown",
   "id": "5dd95dd2-17d1-4550-bf96-6425d255c84f",
   "metadata": {},
   "source": [
    "This notebook will help you to anlayze the evaluation results from inference over CoVoST2 and FLEURS datasets. If you are only interested in one of the dataset's inference results. You should run only those concerned cells.\n",
    "\n",
    "**Make sure you ran notebooks 2. `covost2_eval.ipynb` and 3. `fleurs_eval.ipynb` to transfer the evaluation results**"
   ]
  },
  {
   "cell_type": "markdown",
   "id": "7b8186bc",
   "metadata": {
    "tags": []
   },
   "source": [
    "### Transfer raw results from the resource server to the jupyter server"
   ]
  },
  {
   "cell_type": "markdown",
   "id": "381fcdb9-9242-46a6-bb87-69c1f855629f",
   "metadata": {},
   "source": [
    "This section will help you fetch results from your baremetal GPU instance where you reproduced the results. The scores and and generated output will be later used to compare against the original claims in the paper. \n",
    "\n",
    "Feel free to skip this section if you have already fetched the results from the remote server."
   ]
  },
  {
   "cell_type": "code",
   "execution_count": 1,
   "id": "75f963a6-6426-4f23-a0de-41aadebbeff4",
   "metadata": {},
   "outputs": [],
   "source": [
    "#put here the reserved fip of the instance where the expr\n",
    "reserved_fip=\"192.5.86.195\""
   ]
  },
  {
   "cell_type": "code",
   "execution_count": 2,
   "id": "c7de1639-7deb-400b-b7eb-a9e19b94e2fb",
   "metadata": {},
   "outputs": [],
   "source": [
    "from chi import ssh\n",
    "node = ssh.Remote(reserved_fip)"
   ]
  },
  {
   "cell_type": "code",
   "execution_count": 3,
   "id": "b410a53e-a920-42bf-884d-4e92dfae66dd",
   "metadata": {},
   "outputs": [],
   "source": [
    "# Define the remote directory path and the local path to download to\n",
    "remote_directory = 'results/'\n",
    "archive_name='results.tar.gz'\n"
   ]
  },
  {
   "cell_type": "markdown",
   "id": "d2563569-bb14-4107-b2db-ae6e39174b30",
   "metadata": {},
   "source": [
    "The ssh implementation provided by `python-chi` as a wrapper over Fabric, only allows for single file transfer. In order to transfer the directory we would nead to archive the entire remote directory then transfer the archive file"
   ]
  },
  {
   "cell_type": "code",
   "execution_count": 4,
   "id": "9b1fce90-e608-4bd5-8efe-8fd31a8feac6",
   "metadata": {},
   "outputs": [
    {
     "name": "stderr",
     "output_type": "stream",
     "text": [
      "/opt/conda/lib/python3.10/site-packages/paramiko/client.py:852: UserWarning: Unknown ssh-ed25519 host key for 192.5.86.195: b'7f0dde22c4db6cdbbe54db8bc4b68201'\n",
      "  warnings.warn(\n"
     ]
    },
    {
     "data": {
      "text/plain": [
       "<Result cmd='tar -czf results.tar.gz -C results/ .' exited=0>"
      ]
     },
     "execution_count": 4,
     "metadata": {},
     "output_type": "execute_result"
    }
   ],
   "source": [
    "node.run(f'tar -czf {archive_name} -C {remote_directory} .') #archive the results"
   ]
  },
  {
   "cell_type": "code",
   "execution_count": 5,
   "id": "5d411bd7-8d96-4885-bee0-95c7a2286eec",
   "metadata": {},
   "outputs": [
    {
     "data": {
      "text/plain": [
       "<fabric.transfer.Result at 0x7ff21164b340>"
      ]
     },
     "execution_count": 5,
     "metadata": {},
     "output_type": "execute_result"
    }
   ],
   "source": [
    "node.get(archive_name) #download the archive"
   ]
  },
  {
   "cell_type": "code",
   "execution_count": 6,
   "id": "8c2614a7-546a-4f8f-a9df-2840680ff0de",
   "metadata": {},
   "outputs": [],
   "source": [
    "import tarfile\n",
    "with tarfile.open(archive_name) as tar:\n",
    "    tar.extractall(path=remote_directory) #extract the archive"
   ]
  },
  {
   "cell_type": "markdown",
   "id": "ed1bbfc0-58ac-4751-9ced-03f53d63dc24",
   "metadata": {
    "tags": []
   },
   "source": [
    "## Lets see how our generated results look"
   ]
  },
  {
   "cell_type": "code",
   "execution_count": 9,
   "id": "e45aaa4d",
   "metadata": {},
   "outputs": [],
   "source": [
    "import os, json\n",
    "import pandas as pd"
   ]
  },
  {
   "cell_type": "markdown",
   "id": "5b0b0aec-950e-4ec2-8ce7-65cdc8f66027",
   "metadata": {
    "tags": []
   },
   "source": [
    "### CoVoST 2 generated results examples"
   ]
  },
  {
   "cell_type": "markdown",
   "id": "5f204dec-3683-45f9-a44a-d9bb3d540677",
   "metadata": {},
   "source": [
    "Lets select a language of choice"
   ]
  },
  {
   "cell_type": "code",
   "execution_count": 38,
   "id": "afc43356-c164-4821-a05c-c122a8dd7404",
   "metadata": {},
   "outputs": [],
   "source": [
    "language='ca'"
   ]
  },
  {
   "cell_type": "markdown",
   "id": "e69cedcb-5a8e-4399-b6af-7351aabbb597",
   "metadata": {},
   "source": [
    "Select initial 5 generated results of chosen language from each model"
   ]
  },
  {
   "cell_type": "code",
   "execution_count": 39,
   "id": "b2dd94ac-b8bd-4d05-914d-41e7dffd2ef7",
   "metadata": {},
   "outputs": [],
   "source": [
    "generated_results_directory_covost='results/covost2/generations/'\n",
    "results_dict={}\n",
    "for files in os.listdir(generated_results_directory_covost):\n",
    "    if files.endswith('.json'):\n",
    "        with open(generated_results_directory_covost+files) as f:\n",
    "            generated_translations=json.load(f)\n",
    "        model_name=files.split('.')[0]\n",
    "        results_dict[model_name]=generated_translations[language][:5]\n",
    "        \n",
    "        \n",
    "        "
   ]
  },
  {
   "cell_type": "code",
   "execution_count": 40,
   "id": "aa040302-c808-4d39-96bc-b66c4f9f963a",
   "metadata": {},
   "outputs": [],
   "source": [
    "pd.set_option('display.max_colwidth', None)"
   ]
  },
  {
   "cell_type": "code",
   "execution_count": 41,
   "id": "08719260-8286-45ed-9880-72e10387430b",
   "metadata": {},
   "outputs": [
    {
     "data": {
      "text/html": [
       "<div>\n",
       "<style scoped>\n",
       "    .dataframe tbody tr th:only-of-type {\n",
       "        vertical-align: middle;\n",
       "    }\n",
       "\n",
       "    .dataframe tbody tr th {\n",
       "        vertical-align: top;\n",
       "    }\n",
       "\n",
       "    .dataframe thead th {\n",
       "        text-align: right;\n",
       "    }\n",
       "</style>\n",
       "<table border=\"1\" class=\"dataframe\">\n",
       "  <thead>\n",
       "    <tr style=\"text-align: right;\">\n",
       "      <th></th>\n",
       "      <th>XLS-R (2B)</th>\n",
       "      <th>Whisper Large-v2</th>\n",
       "      <th>Seamless large</th>\n",
       "      <th>Seamless medium</th>\n",
       "    </tr>\n",
       "  </thead>\n",
       "  <tbody>\n",
       "    <tr>\n",
       "      <th>0</th>\n",
       "      <td>It supervises the issuance of residence permits.</td>\n",
       "      <td>Supervisor, let me see the large box, and I'm going to see what's in it.</td>\n",
       "      <td>He oversees the mission of the concession and admission resolutions.</td>\n",
       "      <td>It supervises the issuance of housing concession resolutions.</td>\n",
       "    </tr>\n",
       "    <tr>\n",
       "      <th>1</th>\n",
       "      <td>Inspections of slaughterhouses and livestock farms in the event of a declaration of diseases.</td>\n",
       "      <td>Inspection of elevators and splities into case of illness report</td>\n",
       "      <td>Inspect slaughterhouses and livestock farms in case of disease declaration.</td>\n",
       "      <td>Inspect herdsmen and livestock farms in case of a disease declaration.</td>\n",
       "    </tr>\n",
       "    <tr>\n",
       "      <th>2</th>\n",
       "      <td>In March, he asked for a few days in February to mislead his mother.</td>\n",
       "      <td>In March he asked her a few days in February to deceive his mother.</td>\n",
       "      <td>In March, he asked her for a few days in February to cheat on his mother.</td>\n",
       "      <td>In March, he asked her for a few days in February to deceive his mother.</td>\n",
       "    </tr>\n",
       "    <tr>\n",
       "      <th>3</th>\n",
       "      <td>Let's go to Gàtova.</td>\n",
       "      <td>Thank you.</td>\n",
       "      <td>Let's go to Gàtova.</td>\n",
       "      <td>Let's go to Gàtova.</td>\n",
       "    </tr>\n",
       "    <tr>\n",
       "      <th>4</th>\n",
       "      <td>Self-confidence and the ability to deal with things is ripe and unassuming, it is flexible and secure.</td>\n",
       "      <td>Self-confidence and the ability to deal with things is mature and not anxious. It is flexible and safe.</td>\n",
       "      <td>Self-confidence and the ability to deal with things is mature and unconcerned; it is flexible and secure.</td>\n",
       "      <td>Self-confidence and the ability to deal with things is mature and unwanted, it is flexible and safe.</td>\n",
       "    </tr>\n",
       "  </tbody>\n",
       "</table>\n",
       "</div>"
      ],
      "text/plain": [
       "                                                                                               XLS-R (2B)  \\\n",
       "0                                                        It supervises the issuance of residence permits.   \n",
       "1           Inspections of slaughterhouses and livestock farms in the event of a declaration of diseases.   \n",
       "2                                    In March, he asked for a few days in February to mislead his mother.   \n",
       "3                                                                                     Let's go to Gàtova.   \n",
       "4  Self-confidence and the ability to deal with things is ripe and unassuming, it is flexible and secure.   \n",
       "\n",
       "                                                                                           Whisper Large-v2  \\\n",
       "0                                  Supervisor, let me see the large box, and I'm going to see what's in it.   \n",
       "1                                          Inspection of elevators and splities into case of illness report   \n",
       "2                                       In March he asked her a few days in February to deceive his mother.   \n",
       "3                                                                                                Thank you.   \n",
       "4   Self-confidence and the ability to deal with things is mature and not anxious. It is flexible and safe.   \n",
       "\n",
       "                                                                                              Seamless large  \\\n",
       "0                                       He oversees the mission of the concession and admission resolutions.   \n",
       "1                                Inspect slaughterhouses and livestock farms in case of disease declaration.   \n",
       "2                                  In March, he asked her for a few days in February to cheat on his mother.   \n",
       "3                                                                                        Let's go to Gàtova.   \n",
       "4  Self-confidence and the ability to deal with things is mature and unconcerned; it is flexible and secure.   \n",
       "\n",
       "                                                                                        Seamless medium  \n",
       "0                                         It supervises the issuance of housing concession resolutions.  \n",
       "1                                Inspect herdsmen and livestock farms in case of a disease declaration.  \n",
       "2                              In March, he asked her for a few days in February to deceive his mother.  \n",
       "3                                                                                   Let's go to Gàtova.  \n",
       "4  Self-confidence and the ability to deal with things is mature and unwanted, it is flexible and safe.  "
      ]
     },
     "execution_count": 41,
     "metadata": {},
     "output_type": "execute_result"
    }
   ],
   "source": [
    "pd.DataFrame(results_dict)"
   ]
  },
  {
   "cell_type": "markdown",
   "id": "7eb57949-cc44-467a-8237-b8be898a22d5",
   "metadata": {
    "tags": []
   },
   "source": [
    "### Fleurs generated results examples"
   ]
  },
  {
   "cell_type": "markdown",
   "id": "b28e4d63-810c-4f24-ad72-79249754b7b9",
   "metadata": {},
   "source": [
    "Since for `fleurs` dataset we did mapping based on 639-3 codes, this code for Armenian, `hy` would be `hye`"
   ]
  },
  {
   "cell_type": "code",
   "execution_count": 56,
   "id": "1cee5145-13e6-4ca3-911f-0dcb3adc7914",
   "metadata": {},
   "outputs": [],
   "source": [
    "mapped_lang='hye'"
   ]
  },
  {
   "cell_type": "code",
   "execution_count": 57,
   "id": "df1b9428-2a7e-4dfb-81a2-3448ea3b284f",
   "metadata": {},
   "outputs": [],
   "source": [
    "generated_results_directory_fleurs='results/fleurs/generations/'"
   ]
  },
  {
   "cell_type": "markdown",
   "id": "33f9ce00-e198-4fdb-92f1-9fb3f263d6fc",
   "metadata": {},
   "source": [
    "Select initial 5 generated results of chosen language from each model"
   ]
  },
  {
   "cell_type": "code",
   "execution_count": 58,
   "id": "0221bfc7-c013-45e3-b2cb-23dc860145e2",
   "metadata": {},
   "outputs": [],
   "source": [
    "results_dict={}\n",
    "for files in os.listdir(generated_results_directory_fleurs):\n",
    "    if files.endswith('.json'):\n",
    "        with open(generated_results_directory_fleurs+files) as f:\n",
    "            generated_translations=json.load(f)\n",
    "        model_name=files.split('.')[0]\n",
    "        results_dict[model_name]=[ generated_translations[mapped_lang][key] for key in list(generated_translations[mapped_lang].keys())[:5]]"
   ]
  },
  {
   "cell_type": "code",
   "execution_count": 59,
   "id": "1c9459aa-d5e8-43b0-9120-ee493ad45436",
   "metadata": {},
   "outputs": [
    {
     "data": {
      "text/html": [
       "<div>\n",
       "<style scoped>\n",
       "    .dataframe tbody tr th:only-of-type {\n",
       "        vertical-align: middle;\n",
       "    }\n",
       "\n",
       "    .dataframe tbody tr th {\n",
       "        vertical-align: top;\n",
       "    }\n",
       "\n",
       "    .dataframe thead th {\n",
       "        text-align: right;\n",
       "    }\n",
       "</style>\n",
       "<table border=\"1\" class=\"dataframe\">\n",
       "  <thead>\n",
       "    <tr style=\"text-align: right;\">\n",
       "      <th></th>\n",
       "      <th>Whisper large-v2_asr</th>\n",
       "      <th>Whisper large-v2</th>\n",
       "      <th>Seamless large</th>\n",
       "      <th>Seamless medium</th>\n",
       "      <th>Whisper Large-v2 ASR + NLLB-1</th>\n",
       "    </tr>\n",
       "  </thead>\n",
       "  <tbody>\n",
       "    <tr>\n",
       "      <th>0</th>\n",
       "      <td>այն մեզ տվել է գնացքը, ավտոմեկինան և շատ այլ փոխադրման սարքեր։</td>\n",
       "      <td>It gave us access to a car and many other transportation devices.</td>\n",
       "      <td>It gave us trains, cars, and many other transportation devices.</td>\n",
       "      <td>It gave us trains, cars, and many other transportation devices.</td>\n",
       "      <td>It gave us trains, cars, and many other means of transportation.</td>\n",
       "    </tr>\n",
       "    <tr>\n",
       "      <th>1</th>\n",
       "      <td>Մյուս կողմից արուցի և ջան պայմաները բնական այն շատ երկրնենում և ամբողջ տարին երդհեվեքությունը շարնակվում է հիմնականում անընդհատ կերպով։</td>\n",
       "      <td>On the other hand, the weather and living conditions are generally good in the country, and the humidity continues throughout the year, mainly continuously.</td>\n",
       "      <td>On the other hand, ice and snow conditions are normal in many countries, and transportation continues throughout the year, mostly continuously.</td>\n",
       "      <td>On the other hand, snow and ice conditions are natural in many countries, and traffic continues throughout the year, mainly in a continuous manner.</td>\n",
       "      <td>On the other hand, the conditions of the rainforest and the jungle are natural in most of the country and throughout the year the</td>\n",
       "    </tr>\n",
       "    <tr>\n",
       "      <th>2</th>\n",
       "      <td>Նախ բուլուր ձիավորները կրում են ձիավարման համար նախատեսված կրունքով և հարդ բավականին նեղ ներբանով կոշիքներ։</td>\n",
       "      <td>In the beginning, all the warriors wore the armor they were ordered to wear, and the armor was made of fine silk.</td>\n",
       "      <td>First, the bulldozers wear shoes with a mounting braid and a rather thin, flat sole.</td>\n",
       "      <td>First, all the sailors wear shoes with a horse-drawn carriage and a flat, rather narrow sleeve.</td>\n",
       "      <td>First, the bull riders wear shoes with a tight, tight heel designed for riding.</td>\n",
       "    </tr>\n",
       "    <tr>\n",
       "      <th>3</th>\n",
       "      <td>Նա նա այդ ծբաղվում է շատ երկրների համար, թը խտադրամների փորագրծման ուպները աշխատանքի վերջին, որինակներ են էր արյավ Վարջապետի դիմանըկարները կանադական նոր հինգ և հարյուր դոլար աշխողությամբ թը խտադրամների դիմեր էսին։</td>\n",
       "      <td>He also works for many countries. He is the last example of his work. For example, he donated $5,000 and $100,000 worth of photos of the President of the United States to the foundation of the foundation.</td>\n",
       "      <td>He is engaged in the engraving of stamps for many countries, including the last examples of his work, the portraits of the Prime Minister, the new Canadian five and a hundred dollar stamps of the Dimeress.</td>\n",
       "      <td>He also worked on the printing of coins for many countries, including the Prime Minister's portraits, the new five-hundred-dollar Canadian stamps, and the Demers.</td>\n",
       "      <td>He's been doing this for many countries, the engraving of the coins at the end of his career, the prints</td>\n",
       "    </tr>\n",
       "    <tr>\n",
       "      <th>4</th>\n",
       "      <td>բլոգները կարող են նաև օգտակարծ լինել ուսանողների գրավորները բարել ավելու հարցում։ Մինչ ուսանողները հաճախ իրենց բլոգի փորդարություն է սկսում անպույտ կերականցամբ և ուղագրությամբ ընտերցողների ներկայացունը գխավրապես պոխում է դա։</td>\n",
       "      <td>Blogs can also be useful for students to improve their writing skills. Before students start using their blogs, it changes the way they present themselves.</td>\n",
       "      <td>Blogs can also be useful in improving students' writing, while students often start their blog experience with abstract grammar and spelling, and the presence of readers fundamentally changes that.</td>\n",
       "      <td>Blogs can also be useful for improving student writing, while students often start their blog experience with ambiguity and the presence of readers with spelling mainly changes that.</td>\n",
       "      <td>Blogs can also be useful for improving student writing. While students often start their blog with a blank page, a voter representative</td>\n",
       "    </tr>\n",
       "  </tbody>\n",
       "</table>\n",
       "</div>"
      ],
      "text/plain": [
       "                                                                                                                                                                                                                Whisper large-v2_asr  \\\n",
       "0                                                                                                                                                                     այն մեզ տվել է գնացքը, ավտոմեկինան և շատ այլ փոխադրման սարքեր։   \n",
       "1                                                                                            Մյուս կողմից արուցի և ջան պայմաները բնական այն շատ երկրնենում և ամբողջ տարին երդհեվեքությունը շարնակվում է հիմնականում անընդհատ կերպով։   \n",
       "2                                                                                                                        Նախ բուլուր ձիավորները կրում են ձիավարման համար նախատեսված կրունքով և հարդ բավականին նեղ ներբանով կոշիքներ։   \n",
       "3              Նա նա այդ ծբաղվում է շատ երկրների համար, թը խտադրամների փորագրծման ուպները աշխատանքի վերջին, որինակներ են էր արյավ Վարջապետի դիմանըկարները կանադական նոր հինգ և հարյուր դոլար աշխողությամբ թը խտադրամների դիմեր էսին։   \n",
       "4   բլոգները կարող են նաև օգտակարծ լինել ուսանողների գրավորները բարել ավելու հարցում։ Մինչ ուսանողները հաճախ իրենց բլոգի փորդարություն է սկսում անպույտ կերականցամբ և ուղագրությամբ ընտերցողների ներկայացունը գխավրապես պոխում է դա։   \n",
       "\n",
       "                                                                                                                                                                                                Whisper large-v2  \\\n",
       "0                                                                                                                                              It gave us access to a car and many other transportation devices.   \n",
       "1                                                   On the other hand, the weather and living conditions are generally good in the country, and the humidity continues throughout the year, mainly continuously.   \n",
       "2                                                                                              In the beginning, all the warriors wore the armor they were ordered to wear, and the armor was made of fine silk.   \n",
       "3   He also works for many countries. He is the last example of his work. For example, he donated $5,000 and $100,000 worth of photos of the President of the United States to the foundation of the foundation.   \n",
       "4                                                    Blogs can also be useful for students to improve their writing skills. Before students start using their blogs, it changes the way they present themselves.   \n",
       "\n",
       "                                                                                                                                                                                                  Seamless large  \\\n",
       "0                                                                                                                                                It gave us trains, cars, and many other transportation devices.   \n",
       "1                                                                On the other hand, ice and snow conditions are normal in many countries, and transportation continues throughout the year, mostly continuously.   \n",
       "2                                                                                                                           First, the bulldozers wear shoes with a mounting braid and a rather thin, flat sole.   \n",
       "3  He is engaged in the engraving of stamps for many countries, including the last examples of his work, the portraits of the Prime Minister, the new Canadian five and a hundred dollar stamps of the Dimeress.   \n",
       "4          Blogs can also be useful in improving students' writing, while students often start their blog experience with abstract grammar and spelling, and the presence of readers fundamentally changes that.   \n",
       "\n",
       "                                                                                                                                                                          Seamless medium  \\\n",
       "0                                                                                                                         It gave us trains, cars, and many other transportation devices.   \n",
       "1                                     On the other hand, snow and ice conditions are natural in many countries, and traffic continues throughout the year, mainly in a continuous manner.   \n",
       "2                                                                                         First, all the sailors wear shoes with a horse-drawn carriage and a flat, rather narrow sleeve.   \n",
       "3                      He also worked on the printing of coins for many countries, including the Prime Minister's portraits, the new five-hundred-dollar Canadian stamps, and the Demers.   \n",
       "4  Blogs can also be useful for improving student writing, while students often start their blog experience with ambiguity and the presence of readers with spelling mainly changes that.   \n",
       "\n",
       "                                                                                                             Whisper Large-v2 ASR + NLLB-1  \n",
       "0                                                                         It gave us trains, cars, and many other means of transportation.  \n",
       "1        On the other hand, the conditions of the rainforest and the jungle are natural in most of the country and throughout the year the  \n",
       "2                                                          First, the bull riders wear shoes with a tight, tight heel designed for riding.  \n",
       "3                                 He's been doing this for many countries, the engraving of the coins at the end of his career, the prints  \n",
       "4  Blogs can also be useful for improving student writing. While students often start their blog with a blank page, a voter representative  "
      ]
     },
     "execution_count": 59,
     "metadata": {},
     "output_type": "execute_result"
    }
   ],
   "source": [
    "pd.DataFrame(results_dict)"
   ]
  },
  {
   "cell_type": "markdown",
   "id": "76e85291",
   "metadata": {
    "tags": []
   },
   "source": [
    "## Reproduced results summaries"
   ]
  },
  {
   "cell_type": "markdown",
   "id": "204908f6",
   "metadata": {
    "tags": []
   },
   "source": [
    "### CoVoST2 evaluation summary"
   ]
  },
  {
   "cell_type": "markdown",
   "id": "71e56f95",
   "metadata": {},
   "source": [
    "Lets first summarize the results of the CoVoST2 evaluation. We have the scores for four models on this data for X→eng translations for 21 languages. These models are: \n",
    "\n",
    "1) Whisper \n",
    "2) XLS-R\n",
    "3) Seamless Medium\n",
    "4) Seamless Large\n"
   ]
  },
  {
   "cell_type": "markdown",
   "id": "57531b75-8e61-463a-8f41-c0d533349c62",
   "metadata": {
    "tags": []
   },
   "source": [
    "#### Divide language in different categories\n"
   ]
  },
  {
   "cell_type": "markdown",
   "id": "ede6663d-83ed-46ae-a814-3ee57c70f122",
   "metadata": {},
   "source": [
    "While evaluating performance in terms of translation capabilities, we need to divide our languages between high, mid and low resource categories depending on what amount of data is available in each language. This distribution has been provided by Babu et al.,2021 in their XLS-R [paper](https://arxiv.org/pdf/2111.09296.pdf)."
   ]
  },
  {
   "cell_type": "code",
   "execution_count": 8,
   "id": "500dcbac-0e0c-4543-8723-375233dae00c",
   "metadata": {},
   "outputs": [],
   "source": [
    "res_levels=[\"low_res\",\"mid_res\",\"high_res\"]\n",
    "\n",
    "high_res=['ca','de','fr','es']\n",
    "mid_res=['zh-CN','fa','it','ru','pt']\n",
    "low_res=['mn','ta','lv','et','cy','sl','ja','tr','ar','nl','sv-SE','id']\n"
   ]
  },
  {
   "cell_type": "code",
   "execution_count": 9,
   "id": "164ac4d5-3d76-41dc-8758-b622528805c8",
   "metadata": {},
   "outputs": [],
   "source": [
    "import collections\n",
    "def resource_level_results(scores,model_name):\n",
    "    res_scores=collections.defaultdict(float)\n",
    "    for level in res_levels:\n",
    "        for lang in eval(level):\n",
    "            res_scores[level]+=scores[lang]\n",
    "        res_scores['all']+=res_scores[level]\n",
    "        res_scores[level]/=len(eval(level))\n",
    "    res_scores['all']/=21.0\n",
    "    return {\n",
    "      \"Model\":model_name,\n",
    "      \"High\" : round(res_scores[\"high_res\"],1),\n",
    "      \"Mid\" : round(res_scores[\"mid_res\"],1),\n",
    "      \"Low\" : round(res_scores[\"low_res\"],1),\n",
    "      \"All\" : round(res_scores['all'],1)\n",
    "    }"
   ]
  },
  {
   "cell_type": "code",
   "execution_count": 10,
   "id": "40453157-3a85-4544-9e08-6f44eb4d80d5",
   "metadata": {},
   "outputs": [],
   "source": [
    "\n",
    "re_results=[]\n",
    "score_directory_covost='results/covost2/scores/'\n",
    "#read all the json files\n",
    "for files in os.listdir(score_directory_covost):\n",
    "    if files.endswith('.json'):\n",
    "        with open(score_directory_covost+files) as f:\n",
    "            scores=json.load(f)\n",
    "        model_name=files.split('.')[0]\n",
    "        re_results.append(resource_level_results(scores,model_name))\n",
    "\n",
    "re_results_df=pd.DataFrame(re_results)\n",
    "\n",
    "\n"
   ]
  },
  {
   "cell_type": "code",
   "execution_count": 11,
   "id": "363206a7-bbee-4ce9-a0d7-af1361781682",
   "metadata": {},
   "outputs": [
    {
     "data": {
      "text/html": [
       "<div>\n",
       "<style scoped>\n",
       "    .dataframe tbody tr th:only-of-type {\n",
       "        vertical-align: middle;\n",
       "    }\n",
       "\n",
       "    .dataframe tbody tr th {\n",
       "        vertical-align: top;\n",
       "    }\n",
       "\n",
       "    .dataframe thead th {\n",
       "        text-align: right;\n",
       "    }\n",
       "</style>\n",
       "<table border=\"1\" class=\"dataframe\">\n",
       "  <thead>\n",
       "    <tr style=\"text-align: right;\">\n",
       "      <th></th>\n",
       "      <th>Model</th>\n",
       "      <th>High</th>\n",
       "      <th>Mid</th>\n",
       "      <th>Low</th>\n",
       "      <th>All</th>\n",
       "    </tr>\n",
       "  </thead>\n",
       "  <tbody>\n",
       "    <tr>\n",
       "      <th>0</th>\n",
       "      <td>XLS-R (2B)</td>\n",
       "      <td>36.1</td>\n",
       "      <td>27.7</td>\n",
       "      <td>15.1</td>\n",
       "      <td>22.1</td>\n",
       "    </tr>\n",
       "    <tr>\n",
       "      <th>1</th>\n",
       "      <td>Whisper Large-v2</td>\n",
       "      <td>36.3</td>\n",
       "      <td>33.6</td>\n",
       "      <td>24.9</td>\n",
       "      <td>29.2</td>\n",
       "    </tr>\n",
       "    <tr>\n",
       "      <th>2</th>\n",
       "      <td>Seamless Medium</td>\n",
       "      <td>37.3</td>\n",
       "      <td>33.6</td>\n",
       "      <td>28.3</td>\n",
       "      <td>31.3</td>\n",
       "    </tr>\n",
       "    <tr>\n",
       "      <th>3</th>\n",
       "      <td>Seamless large</td>\n",
       "      <td>39.3</td>\n",
       "      <td>36.2</td>\n",
       "      <td>31.9</td>\n",
       "      <td>34.3</td>\n",
       "    </tr>\n",
       "    <tr>\n",
       "      <th>4</th>\n",
       "      <td>Seamless medium</td>\n",
       "      <td>37.3</td>\n",
       "      <td>33.6</td>\n",
       "      <td>28.3</td>\n",
       "      <td>31.3</td>\n",
       "    </tr>\n",
       "  </tbody>\n",
       "</table>\n",
       "</div>"
      ],
      "text/plain": [
       "              Model  High   Mid   Low   All\n",
       "0        XLS-R (2B)  36.1  27.7  15.1  22.1\n",
       "1  Whisper Large-v2  36.3  33.6  24.9  29.2\n",
       "2   Seamless Medium  37.3  33.6  28.3  31.3\n",
       "3    Seamless large  39.3  36.2  31.9  34.3\n",
       "4   Seamless medium  37.3  33.6  28.3  31.3"
      ]
     },
     "execution_count": 11,
     "metadata": {},
     "output_type": "execute_result"
    }
   ],
   "source": [
    "re_results_df"
   ]
  },
  {
   "cell_type": "code",
   "execution_count": 12,
   "id": "fb4eec98",
   "metadata": {},
   "outputs": [],
   "source": [
    "re_results_df.to_json('claims/re_covost_summary.json',orient='split')"
   ]
  },
  {
   "cell_type": "markdown",
   "id": "24fb58d6",
   "metadata": {},
   "source": [
    "### Fleurs evaluation summary"
   ]
  },
  {
   "cell_type": "markdown",
   "id": "d5066f5a",
   "metadata": {},
   "source": [
    "For Fleurs, the division of languages is not as clear as CoVoST2. We will divide the languages into high, mid and low resource categories based on resource-level information available in Table 38 in [SeamlessM4T](https://arxiv.org/pdf/2308.11596.pdf) (Barrault et al., 2023). \n",
    "\n",
    "Apart from the information in the Seamless paper, we had to manually check in the Whisper paper, if the language was supported or not. This is becuase while citing the results, author stated that they provided results only for languages that were supported by all three models - Whisper, AudioPaLM and Seamless."
   ]
  },
  {
   "cell_type": "code",
   "execution_count": 13,
   "id": "791fc414",
   "metadata": {},
   "outputs": [],
   "source": [
    "whisper_fleurs= ['afr', 'amh', 'asm', 'bel', 'bul', 'ben', 'bos', 'cat', 'cmn', 'ces', 'cym', 'dan', 'deu', 'ell', \n",
    "                  'spa', 'est', 'fin', 'fra', 'glg', 'guj', 'hau', 'heb', 'hin', 'hrv', 'hun', 'hye', 'ind', 'isl', 'ita', \n",
    "                  'jpn', 'jav', 'kat', 'kaz', 'khm', 'kan', 'kor', 'ltz', 'lin', 'lao', 'lit', 'mri', 'mkd', 'mal', 'mar', \n",
    "                  'mlt', 'mya', 'nob', 'nld', 'oci', 'pan', 'pol', 'por', 'ron', 'rus', 'snd', 'slk', 'slv', 'sna', 'som', \n",
    "                  'srp', 'swe', 'tam', 'tel', 'tgk', 'tha', 'tur', 'ukr', 'urd', 'vie', 'yor', 'yue', 'zlm', 'uzn', 'pes', \n",
    "                  'npi', 'lvs', 'arb', 'azj', 'pbt', 'khk', 'swh']\n",
    "\n",
    "\n",
    "high_res = [\n",
    "    \"arb\", \"bel\", \"ben\", \"cat\",\"ces\", \"cmn\", \"deu\",\"fin\", \"fra\", \"ita\", \n",
    "    \"jpn\", \"nld\", \"pol\", \"ron\", \"spa\" #15\n",
    "]\n",
    "\n",
    "mid_res = [\n",
    "    \"cym\", \"dan\", \"ell\", \"est\", \"hin\", \"hrv\", \"hun\", \"ind\", \"jav\", \"kaz\", \"kor\",\n",
    "    \"pbt\", \"por\", \"rus\", \"slk\", \"swh\", \"tam\", \"tel\", \"tgl\", \"tha\", \"tur\", \"ukr\", \"urd\", \"uzn\", \"vie\" #25\n",
    "]\n",
    "\n",
    "low_res = [\n",
    "    \"afr\", \"amh\", \"asm\", \"azj\", \"bos\", \"bul\", \"glg\", \"guj\", \"heb\", \"hye\", \n",
    "    \"isl\", \"kan\", \"kat\", \"khk\", \"khm\", \"lao\",\n",
    "    \"lit\", \"lvs\", \"mal\", \"mar\", \"mkd\", \"mlt\", \"mya\", \"nob\", \"npi\", \"pan\", \n",
    "    \"pes\", \"slv\", \"som\", \"srp\", \"swe\", \"tgk\", \"yor\", \"zlm\"       #34\n",
    "]\n"
   ]
  },
  {
   "cell_type": "markdown",
   "id": "8fe06024",
   "metadata": {},
   "source": [
    "On top of the usual High, Mid and Low resource categories, the authors created one more category for low resource langauges which excluded languages that were Zero-shot in AudioPaLM, to eliminate any confounding factor like Zer0-shot evaluation for other models. We had to manually check for languages which were Zero-shot in AudioPaLM, mention in the Table 17 in [Rubenstein et al., 2023](https://arxiv.org/pdf/2306.12925.pdf)."
   ]
  },
  {
   "cell_type": "code",
   "execution_count": 14,
   "id": "be589a8e",
   "metadata": {},
   "outputs": [],
   "source": [
    "zeroshot_audiopalm = [\n",
    "    \"yor\", \"uzn\", \"tgk\", \"som\", \"sna\", \"snd\", \"pbt\", \"oci\", \"nob\", \"mya\", \"mri\", \"lao\",\n",
    "    \"lin\", \"ltz\", \"kan\", \"khm\", \"jav\", \"heb\", \"tgl\", \"amh\", \"bos\"\n",
    "]# Languages marked as 'zero-shot' in audioPalm\n",
    "\n",
    "#remove the zeroshot languages from the low_res\n",
    "low_res2= list(set(low_res)-set(zeroshot_audiopalm))"
   ]
  },
  {
   "cell_type": "code",
   "execution_count": 15,
   "id": "be758b99",
   "metadata": {},
   "outputs": [],
   "source": [
    "res_levels=[\"high_res\",\"mid_res\",\"low_res\",\"low_res2\"]"
   ]
  },
  {
   "cell_type": "markdown",
   "id": "8f604237-c627-4072-b493-c3a520072717",
   "metadata": {},
   "source": [
    "Aggregation function to compile results under required categories"
   ]
  },
  {
   "cell_type": "code",
   "execution_count": 16,
   "id": "905b02f0",
   "metadata": {},
   "outputs": [],
   "source": [
    "def resource_level_results_fleurs(scores,model_name):\n",
    "    res_scores=collections.defaultdict(float)\n",
    "    for level in res_levels:\n",
    "        for lang in eval(level):\n",
    "            try:\n",
    "                res_scores[level]+=scores[lang]\n",
    "            except:\n",
    "                continue\n",
    "        res_scores[level]/=len(eval(level))\n",
    "\n",
    "    for lang in whisper_fleurs:\n",
    "        res_scores['whisper_fleurs']+=scores[lang]\n",
    "    res_scores['whisper_fleurs']/=81.0 \n",
    "    \n",
    "    return {\n",
    "      \"Model\":model_name,\n",
    "      \"High (n=15)\" : round(res_scores[\"high_res\"],1),\n",
    "      \"Medium (n=25)\" : round(res_scores[\"mid_res\"],1),\n",
    "      \"Low (n=34)\" : round(res_scores[\"low_res\"],1),\n",
    "      \"Low† (n=23)\" : round(res_scores['low_res2'],1),\n",
    "      \"FLEURS X→eng (n=81)\" : round(res_scores['whisper_fleurs'],1)\n",
    "      \n",
    "\n",
    "    }"
   ]
  },
  {
   "cell_type": "markdown",
   "id": "b5d87630-c07b-477b-9cf3-98e4f0e02bd5",
   "metadata": {},
   "source": [
    "Read the json files we fetched from our experiment to aggregate the results"
   ]
  },
  {
   "cell_type": "code",
   "execution_count": 17,
   "id": "f7c66f43",
   "metadata": {},
   "outputs": [],
   "source": [
    "score_directory_fleurs='results/fleurs/scores/'\n",
    "re_results=[]\n",
    "#read all the json files\n",
    "for files in os.listdir(score_directory_fleurs):\n",
    "    if files.endswith('.json'):\n",
    "        with open(score_directory_fleurs+files) as f:\n",
    "            scores=json.load(f)\n",
    "        model_name=\".\".join(files.split('.')[:-1])\n",
    "        re_results.append(resource_level_results_fleurs(scores,model_name))\n",
    "\n",
    "re_results_df=pd.DataFrame(re_results)\n"
   ]
  },
  {
   "cell_type": "markdown",
   "id": "11d26623-b1e4-4fbf-922c-33f2e2d5a1b0",
   "metadata": {},
   "source": [
    "Save this summary handy to compare against different claims in later sections"
   ]
  },
  {
   "cell_type": "code",
   "execution_count": 18,
   "id": "f80cafbc",
   "metadata": {},
   "outputs": [
    {
     "data": {
      "text/html": [
       "<div>\n",
       "<style scoped>\n",
       "    .dataframe tbody tr th:only-of-type {\n",
       "        vertical-align: middle;\n",
       "    }\n",
       "\n",
       "    .dataframe tbody tr th {\n",
       "        vertical-align: top;\n",
       "    }\n",
       "\n",
       "    .dataframe thead th {\n",
       "        text-align: right;\n",
       "    }\n",
       "</style>\n",
       "<table border=\"1\" class=\"dataframe\">\n",
       "  <thead>\n",
       "    <tr style=\"text-align: right;\">\n",
       "      <th></th>\n",
       "      <th>Model</th>\n",
       "      <th>High (n=15)</th>\n",
       "      <th>Medium (n=25)</th>\n",
       "      <th>Low (n=34)</th>\n",
       "      <th>Low† (n=23)</th>\n",
       "      <th>FLEURS X→eng (n=81)</th>\n",
       "    </tr>\n",
       "  </thead>\n",
       "  <tbody>\n",
       "    <tr>\n",
       "      <th>0</th>\n",
       "      <td>Whisper large-v2</td>\n",
       "      <td>23.7</td>\n",
       "      <td>17.5</td>\n",
       "      <td>14.8</td>\n",
       "      <td>17.0</td>\n",
       "      <td>16.7</td>\n",
       "    </tr>\n",
       "    <tr>\n",
       "      <th>1</th>\n",
       "      <td>Seamless large</td>\n",
       "      <td>26.6</td>\n",
       "      <td>24.5</td>\n",
       "      <td>24.9</td>\n",
       "      <td>26.5</td>\n",
       "      <td>23.4</td>\n",
       "    </tr>\n",
       "    <tr>\n",
       "      <th>2</th>\n",
       "      <td>Seamless medium</td>\n",
       "      <td>23.7</td>\n",
       "      <td>21.1</td>\n",
       "      <td>21.7</td>\n",
       "      <td>22.8</td>\n",
       "      <td>20.3</td>\n",
       "    </tr>\n",
       "    <tr>\n",
       "      <th>3</th>\n",
       "      <td>Whisper Large-v2 ASR + NLLB-1.3B</td>\n",
       "      <td>24.3</td>\n",
       "      <td>20.5</td>\n",
       "      <td>15.4</td>\n",
       "      <td>17.6</td>\n",
       "      <td>18.2</td>\n",
       "    </tr>\n",
       "  </tbody>\n",
       "</table>\n",
       "</div>"
      ],
      "text/plain": [
       "                              Model  High (n=15)  Medium (n=25)  Low (n=34)  \\\n",
       "0                  Whisper large-v2         23.7           17.5        14.8   \n",
       "1                    Seamless large         26.6           24.5        24.9   \n",
       "2                   Seamless medium         23.7           21.1        21.7   \n",
       "3  Whisper Large-v2 ASR + NLLB-1.3B         24.3           20.5        15.4   \n",
       "\n",
       "   Low† (n=23)  FLEURS X→eng (n=81)  \n",
       "0         17.0                 16.7  \n",
       "1         26.5                 23.4  \n",
       "2         22.8                 20.3  \n",
       "3         17.6                 18.2  "
      ]
     },
     "execution_count": 18,
     "metadata": {},
     "output_type": "execute_result"
    }
   ],
   "source": [
    "re_results_df.to_json('claims/re_fleurs_summary.json',orient='split')\n",
    "re_results_df"
   ]
  },
  {
   "cell_type": "markdown",
   "id": "2f2de27d-dc43-4bc1-af86-8f986ecc25e6",
   "metadata": {
    "tags": []
   },
   "source": [
    "## Helper Function to merge results against original claims"
   ]
  },
  {
   "cell_type": "markdown",
   "id": "025ff37d",
   "metadata": {},
   "source": [
    "We will now merge the actual claims and reproduced results in Single view using some helper functions."
   ]
  },
  {
   "cell_type": "markdown",
   "id": "498e6e1f",
   "metadata": {},
   "source": [
    "This function adds brackets to values in actual claims table while merging"
   ]
  },
  {
   "cell_type": "code",
   "execution_count": 22,
   "id": "6417077e",
   "metadata": {},
   "outputs": [],
   "source": [
    "def apply_brackets(claims_df, avoid_cols=[\"Model\"]):\n",
    "    df=claims_df.copy()\n",
    "    for col in df.columns:\n",
    "        if col not in avoid_cols:\n",
    "            df[col]=df[col].apply(lambda x: f\"({x})\")\n",
    "    return df"
   ]
  },
  {
   "cell_type": "markdown",
   "id": "88077283",
   "metadata": {},
   "source": [
    "It is obvious that the naming convention for the models changes in every other claim. Thus it becomes important to have a mapping between the model names in the actual claims and the model names in the reproduced results. So, we would need to have a fuzzy matching between the model names in the actual claims and the model names in the reproduced results. This function does that."
   ]
  },
  {
   "cell_type": "code",
   "execution_count": 57,
   "id": "bc6bfe23",
   "metadata": {},
   "outputs": [
    {
     "name": "stdout",
     "output_type": "stream",
     "text": [
      "Requirement already satisfied: fuzzywuzzy==0.18.0 in /opt/conda/lib/python3.10/site-packages (0.18.0)\n",
      "Collecting python-Levenshtein\n",
      "  Downloading python_Levenshtein-0.25.1-py3-none-any.whl (9.4 kB)\n",
      "Collecting Levenshtein==0.25.1\n",
      "  Downloading Levenshtein-0.25.1-cp310-cp310-manylinux_2_17_x86_64.manylinux2014_x86_64.whl (177 kB)\n",
      "\u001b[2K     \u001b[90m━━━━━━━━━━━━━━━━━━━━━━━━━━━━━━━━━━━━━━━\u001b[0m \u001b[32m177.4/177.4 kB\u001b[0m \u001b[31m5.3 MB/s\u001b[0m eta \u001b[36m0:00:00\u001b[0m\n",
      "\u001b[?25hCollecting rapidfuzz<4.0.0,>=3.8.0\n",
      "  Downloading rapidfuzz-3.9.0-cp310-cp310-manylinux_2_17_x86_64.manylinux2014_x86_64.whl (3.4 MB)\n",
      "\u001b[2K     \u001b[90m━━━━━━━━━━━━━━━━━━━━━━━━━━━━━━━━━━━━━━━━\u001b[0m \u001b[32m3.4/3.4 MB\u001b[0m \u001b[31m15.4 MB/s\u001b[0m eta \u001b[36m0:00:00\u001b[0m00:01\u001b[0m00:01\u001b[0m\n",
      "\u001b[?25hInstalling collected packages: rapidfuzz, Levenshtein, python-Levenshtein\n",
      "Successfully installed Levenshtein-0.25.1 python-Levenshtein-0.25.1 rapidfuzz-3.9.0\n"
     ]
    }
   ],
   "source": [
    "!pip install fuzzywuzzy==0.18.0\n",
    "!pip install python-Levenshtein"
   ]
  },
  {
   "cell_type": "code",
   "execution_count": 59,
   "id": "6a8685c5",
   "metadata": {},
   "outputs": [],
   "source": [
    "from fuzzywuzzy import process"
   ]
  },
  {
   "cell_type": "code",
   "execution_count": 60,
   "id": "a359a443",
   "metadata": {},
   "outputs": [],
   "source": [
    "def fuzzy_combine_results(claims_df, re_results_df, value_cols=['High', 'Mid', 'Low', 'All'],cut_off=55):\n",
    "    combined_results=claims_df.copy()\n",
    "\n",
    "    # Create a set to keep track of matched models from final_results_df\n",
    "    matched_models = set()\n",
    "    \n",
    "    index_lookup={v:k for k,v in claims_df['Model'].items()}\n",
    "\n",
    "    # ensuring that each model from final_results_df is only used once\n",
    "    for index, model in re_results_df['Model'].items():\n",
    "\n",
    "        lookup_list=[claim_model for claim_model in claims_df['Model'] if claim_model not in matched_models]\n",
    "\n",
    "        if not lookup_list:\n",
    "            break\n",
    "\n",
    "        # Extract best match that hasn't been used already\n",
    "        best_match, score = process.extractOne(\n",
    "            model,\n",
    "            lookup_list\n",
    "            \n",
    "        )\n",
    "\n",
    "        # If a good match is found and not already used\n",
    "        if best_match and score >= cut_off:\n",
    "            # Mark this model as matched to prevent further matches\n",
    "            matched_models.add(best_match)\n",
    "\n",
    "            # For each score column, append the final_results value to the claims value\n",
    "            for col in value_cols:\n",
    "                final_value = re_results_df.loc[re_results_df['Model'] == model, col].iloc[0]\n",
    "                combined_results.at[index_lookup[best_match], col] = f\"{final_value} {combined_results.at[index_lookup[best_match], col]}\"\n",
    "\n",
    "    return combined_results\n",
    "    \n",
    "        "
   ]
  },
  {
   "cell_type": "markdown",
   "id": "0e66db00",
   "metadata": {},
   "source": [
    "## Whisper Claim 1"
   ]
  },
  {
   "cell_type": "markdown",
   "id": "11c78e84-79e8-438e-9e77-aad94494dbd6",
   "metadata": {},
   "source": [
    "Below is the initial claim in Whisper paper where authors compared performance of different models on resource-level categorization of languages based on amount of data present for each language. These results are evaluated on CoVoST 2 dataset."
   ]
  },
  {
   "cell_type": "code",
   "execution_count": 61,
   "id": "71b2d976-e3ed-4df8-9858-e68aa16c4d91",
   "metadata": {},
   "outputs": [],
   "source": [
    "#read the claim data\n",
    "import pandas as pd\n",
    "claims_df= pd.read_json('claims/whisper_claim_1.json',orient='split')"
   ]
  },
  {
   "cell_type": "code",
   "execution_count": 62,
   "id": "de79392f",
   "metadata": {},
   "outputs": [
    {
     "data": {
      "text/html": [
       "<div>\n",
       "<style scoped>\n",
       "    .dataframe tbody tr th:only-of-type {\n",
       "        vertical-align: middle;\n",
       "    }\n",
       "\n",
       "    .dataframe tbody tr th {\n",
       "        vertical-align: top;\n",
       "    }\n",
       "\n",
       "    .dataframe thead th {\n",
       "        text-align: right;\n",
       "    }\n",
       "</style>\n",
       "<table border=\"1\" class=\"dataframe\">\n",
       "  <thead>\n",
       "    <tr style=\"text-align: right;\">\n",
       "      <th></th>\n",
       "      <th>Model</th>\n",
       "      <th>High</th>\n",
       "      <th>Mid</th>\n",
       "      <th>Low</th>\n",
       "      <th>All</th>\n",
       "    </tr>\n",
       "  </thead>\n",
       "  <tbody>\n",
       "    <tr>\n",
       "      <th>0</th>\n",
       "      <td>XMEF-X</td>\n",
       "      <td>34.2</td>\n",
       "      <td>20.2</td>\n",
       "      <td>5.9</td>\n",
       "      <td>14.7</td>\n",
       "    </tr>\n",
       "    <tr>\n",
       "      <th>1</th>\n",
       "      <td>XLS-R (2B)</td>\n",
       "      <td>36.1</td>\n",
       "      <td>27.7</td>\n",
       "      <td>15.1</td>\n",
       "      <td>22.1</td>\n",
       "    </tr>\n",
       "    <tr>\n",
       "      <th>2</th>\n",
       "      <td>mSLAM-CTC (2B)</td>\n",
       "      <td>37.8</td>\n",
       "      <td>29.6</td>\n",
       "      <td>18.5</td>\n",
       "      <td>24.8</td>\n",
       "    </tr>\n",
       "    <tr>\n",
       "      <th>3</th>\n",
       "      <td>Maestro</td>\n",
       "      <td>38.2</td>\n",
       "      <td>31.3</td>\n",
       "      <td>18.4</td>\n",
       "      <td>25.2</td>\n",
       "    </tr>\n",
       "    <tr>\n",
       "      <th>4</th>\n",
       "      <td>Zero-Shot Whisper</td>\n",
       "      <td>36.2</td>\n",
       "      <td>32.6</td>\n",
       "      <td>25.2</td>\n",
       "      <td>29.1</td>\n",
       "    </tr>\n",
       "  </tbody>\n",
       "</table>\n",
       "</div>"
      ],
      "text/plain": [
       "               Model  High   Mid   Low   All\n",
       "0             XMEF-X  34.2  20.2   5.9  14.7\n",
       "1         XLS-R (2B)  36.1  27.7  15.1  22.1\n",
       "2     mSLAM-CTC (2B)  37.8  29.6  18.5  24.8\n",
       "3            Maestro  38.2  31.3  18.4  25.2\n",
       "4  Zero-Shot Whisper  36.2  32.6  25.2  29.1"
      ]
     },
     "execution_count": 62,
     "metadata": {},
     "output_type": "execute_result"
    }
   ],
   "source": [
    "claims_df"
   ]
  },
  {
   "cell_type": "markdown",
   "id": "fbf678ee-4c75-416b-97e2-38e90f05abd8",
   "metadata": {},
   "source": [
    "Lets load the initial summary we obtained earlier"
   ]
  },
  {
   "cell_type": "code",
   "execution_count": 63,
   "id": "74686335",
   "metadata": {},
   "outputs": [
    {
     "data": {
      "text/html": [
       "<div>\n",
       "<style scoped>\n",
       "    .dataframe tbody tr th:only-of-type {\n",
       "        vertical-align: middle;\n",
       "    }\n",
       "\n",
       "    .dataframe tbody tr th {\n",
       "        vertical-align: top;\n",
       "    }\n",
       "\n",
       "    .dataframe thead th {\n",
       "        text-align: right;\n",
       "    }\n",
       "</style>\n",
       "<table border=\"1\" class=\"dataframe\">\n",
       "  <thead>\n",
       "    <tr style=\"text-align: right;\">\n",
       "      <th></th>\n",
       "      <th>Model</th>\n",
       "      <th>High</th>\n",
       "      <th>Mid</th>\n",
       "      <th>Low</th>\n",
       "      <th>All</th>\n",
       "    </tr>\n",
       "  </thead>\n",
       "  <tbody>\n",
       "    <tr>\n",
       "      <th>0</th>\n",
       "      <td>XLS-R (2B)</td>\n",
       "      <td>36.1</td>\n",
       "      <td>27.7</td>\n",
       "      <td>15.1</td>\n",
       "      <td>22.1</td>\n",
       "    </tr>\n",
       "    <tr>\n",
       "      <th>1</th>\n",
       "      <td>Whisper Large-v2</td>\n",
       "      <td>36.3</td>\n",
       "      <td>33.6</td>\n",
       "      <td>24.9</td>\n",
       "      <td>29.2</td>\n",
       "    </tr>\n",
       "    <tr>\n",
       "      <th>2</th>\n",
       "      <td>Seamless Medium</td>\n",
       "      <td>37.3</td>\n",
       "      <td>33.6</td>\n",
       "      <td>28.3</td>\n",
       "      <td>31.3</td>\n",
       "    </tr>\n",
       "    <tr>\n",
       "      <th>3</th>\n",
       "      <td>Seamless large</td>\n",
       "      <td>39.3</td>\n",
       "      <td>36.2</td>\n",
       "      <td>31.9</td>\n",
       "      <td>34.3</td>\n",
       "    </tr>\n",
       "    <tr>\n",
       "      <th>4</th>\n",
       "      <td>Seamless medium</td>\n",
       "      <td>37.3</td>\n",
       "      <td>33.6</td>\n",
       "      <td>28.3</td>\n",
       "      <td>31.3</td>\n",
       "    </tr>\n",
       "  </tbody>\n",
       "</table>\n",
       "</div>"
      ],
      "text/plain": [
       "              Model  High   Mid   Low   All\n",
       "0        XLS-R (2B)  36.1  27.7  15.1  22.1\n",
       "1  Whisper Large-v2  36.3  33.6  24.9  29.2\n",
       "2   Seamless Medium  37.3  33.6  28.3  31.3\n",
       "3    Seamless large  39.3  36.2  31.9  34.3\n",
       "4   Seamless medium  37.3  33.6  28.3  31.3"
      ]
     },
     "execution_count": 63,
     "metadata": {},
     "output_type": "execute_result"
    }
   ],
   "source": [
    "re_results_df= pd.read_json('claims/re_covost_summary.json',orient='split')\n",
    "re_results_df"
   ]
  },
  {
   "cell_type": "markdown",
   "id": "484b97fb-e609-4bcc-afbe-7b8eb1cc952c",
   "metadata": {},
   "source": [
    "Map these in a single view to validate against original claim."
   ]
  },
  {
   "cell_type": "code",
   "execution_count": 64,
   "id": "8894c7cb",
   "metadata": {},
   "outputs": [
    {
     "data": {
      "text/html": [
       "<div>\n",
       "<style scoped>\n",
       "    .dataframe tbody tr th:only-of-type {\n",
       "        vertical-align: middle;\n",
       "    }\n",
       "\n",
       "    .dataframe tbody tr th {\n",
       "        vertical-align: top;\n",
       "    }\n",
       "\n",
       "    .dataframe thead th {\n",
       "        text-align: right;\n",
       "    }\n",
       "</style>\n",
       "<table border=\"1\" class=\"dataframe\">\n",
       "  <thead>\n",
       "    <tr style=\"text-align: right;\">\n",
       "      <th></th>\n",
       "      <th>Model</th>\n",
       "      <th>High</th>\n",
       "      <th>Mid</th>\n",
       "      <th>Low</th>\n",
       "      <th>All</th>\n",
       "    </tr>\n",
       "  </thead>\n",
       "  <tbody>\n",
       "    <tr>\n",
       "      <th>0</th>\n",
       "      <td>XMEF-X</td>\n",
       "      <td>(34.2)</td>\n",
       "      <td>(20.2)</td>\n",
       "      <td>(5.9)</td>\n",
       "      <td>(14.7)</td>\n",
       "    </tr>\n",
       "    <tr>\n",
       "      <th>1</th>\n",
       "      <td>XLS-R (2B)</td>\n",
       "      <td>36.1 (36.1)</td>\n",
       "      <td>27.7 (27.7)</td>\n",
       "      <td>15.1 (15.1)</td>\n",
       "      <td>22.1 (22.1)</td>\n",
       "    </tr>\n",
       "    <tr>\n",
       "      <th>2</th>\n",
       "      <td>mSLAM-CTC (2B)</td>\n",
       "      <td>(37.8)</td>\n",
       "      <td>(29.6)</td>\n",
       "      <td>(18.5)</td>\n",
       "      <td>(24.8)</td>\n",
       "    </tr>\n",
       "    <tr>\n",
       "      <th>3</th>\n",
       "      <td>Maestro</td>\n",
       "      <td>(38.2)</td>\n",
       "      <td>(31.3)</td>\n",
       "      <td>(18.4)</td>\n",
       "      <td>(25.2)</td>\n",
       "    </tr>\n",
       "    <tr>\n",
       "      <th>4</th>\n",
       "      <td>Zero-Shot Whisper</td>\n",
       "      <td>36.3 (36.2)</td>\n",
       "      <td>33.6 (32.6)</td>\n",
       "      <td>24.9 (25.2)</td>\n",
       "      <td>29.2 (29.1)</td>\n",
       "    </tr>\n",
       "  </tbody>\n",
       "</table>\n",
       "</div>"
      ],
      "text/plain": [
       "               Model         High          Mid          Low          All\n",
       "0             XMEF-X       (34.2)       (20.2)        (5.9)       (14.7)\n",
       "1         XLS-R (2B)  36.1 (36.1)  27.7 (27.7)  15.1 (15.1)  22.1 (22.1)\n",
       "2     mSLAM-CTC (2B)       (37.8)       (29.6)       (18.5)       (24.8)\n",
       "3            Maestro       (38.2)       (31.3)       (18.4)       (25.2)\n",
       "4  Zero-Shot Whisper  36.3 (36.2)  33.6 (32.6)  24.9 (25.2)  29.2 (29.1)"
      ]
     },
     "execution_count": 64,
     "metadata": {},
     "output_type": "execute_result"
    }
   ],
   "source": [
    "merged_df=fuzzy_combine_results(apply_brackets(claims_df), re_results_df)\n",
    "merged_df"
   ]
  },
  {
   "cell_type": "markdown",
   "id": "b6999a44-eaa5-4bd7-a3f6-18e6fdcd3fc4",
   "metadata": {},
   "source": [
    "The values under the parenthesis are original values in the claim. The reproduced results in the above table look consistent with the actual results"
   ]
  },
  {
   "cell_type": "code",
   "execution_count": 65,
   "id": "0d51d092",
   "metadata": {},
   "outputs": [],
   "source": [
    "merged_df.to_json('claims/re_whisper_claim_1.json',orient='split')"
   ]
  },
  {
   "cell_type": "markdown",
   "id": "832752ba",
   "metadata": {
    "tags": []
   },
   "source": [
    "## Seamless Claim 1"
   ]
  },
  {
   "cell_type": "markdown",
   "id": "136f37ed-fafc-40eb-bbd1-b92964e8c076",
   "metadata": {},
   "source": [
    "In this claim in seamless paper, authors compared performance of different models on Fleurs and CoVoST 2 datasets. Although the original claim also account for eng→X results, we would just consider X→eng translations for our analysis"
   ]
  },
  {
   "cell_type": "code",
   "execution_count": 66,
   "id": "d44d5797",
   "metadata": {},
   "outputs": [],
   "source": [
    "#read the claim data\n",
    "claims_df= pd.read_json('claims/seamless_claim_1.json',orient='split')"
   ]
  },
  {
   "cell_type": "code",
   "execution_count": 67,
   "id": "381f5c08",
   "metadata": {},
   "outputs": [
    {
     "data": {
      "text/html": [
       "<div>\n",
       "<style scoped>\n",
       "    .dataframe tbody tr th:only-of-type {\n",
       "        vertical-align: middle;\n",
       "    }\n",
       "\n",
       "    .dataframe tbody tr th {\n",
       "        vertical-align: top;\n",
       "    }\n",
       "\n",
       "    .dataframe thead th {\n",
       "        text-align: right;\n",
       "    }\n",
       "</style>\n",
       "<table border=\"1\" class=\"dataframe\">\n",
       "  <thead>\n",
       "    <tr style=\"text-align: right;\">\n",
       "      <th></th>\n",
       "      <th>Model</th>\n",
       "      <th>size</th>\n",
       "      <th>FLEURS X→eng (n=81)</th>\n",
       "      <th>FLEURS eng→X (n=88)</th>\n",
       "      <th>CoVoST 2 X→eng (n=21)</th>\n",
       "      <th>CoVoST 2 eng→X (n=15)</th>\n",
       "    </tr>\n",
       "  </thead>\n",
       "  <tbody>\n",
       "    <tr>\n",
       "      <th>0</th>\n",
       "      <td>XLS-R-2B-S2T</td>\n",
       "      <td>2.6B</td>\n",
       "      <td></td>\n",
       "      <td>x</td>\n",
       "      <td>22.1</td>\n",
       "      <td>27.8</td>\n",
       "    </tr>\n",
       "    <tr>\n",
       "      <th>1</th>\n",
       "      <td>WHISPER-LARGE-v2</td>\n",
       "      <td>1.5B</td>\n",
       "      <td>17.9</td>\n",
       "      <td>x</td>\n",
       "      <td>29.1</td>\n",
       "      <td>x</td>\n",
       "    </tr>\n",
       "    <tr>\n",
       "      <th>2</th>\n",
       "      <td>AUDIOPaLM-2-8B-AST</td>\n",
       "      <td>8.0B</td>\n",
       "      <td>19.7</td>\n",
       "      <td>x</td>\n",
       "      <td>37.8</td>\n",
       "      <td>x</td>\n",
       "    </tr>\n",
       "    <tr>\n",
       "      <th>3</th>\n",
       "      <td>SEAMLESSM4T-MEDIUM</td>\n",
       "      <td>1.2B</td>\n",
       "      <td>20.9</td>\n",
       "      <td>19.2</td>\n",
       "      <td>29.8</td>\n",
       "      <td>26.6</td>\n",
       "    </tr>\n",
       "    <tr>\n",
       "      <th>4</th>\n",
       "      <td>SEAMLESSM4T-LARGE</td>\n",
       "      <td>2.3B</td>\n",
       "      <td>24.0</td>\n",
       "      <td>21.5</td>\n",
       "      <td>34.1</td>\n",
       "      <td>30.6</td>\n",
       "    </tr>\n",
       "  </tbody>\n",
       "</table>\n",
       "</div>"
      ],
      "text/plain": [
       "                Model  size FLEURS X→eng (n=81) FLEURS eng→X (n=88)  \\\n",
       "0        XLS-R-2B-S2T  2.6B                                       x   \n",
       "1    WHISPER-LARGE-v2  1.5B                17.9                   x   \n",
       "2  AUDIOPaLM-2-8B-AST  8.0B                19.7                   x   \n",
       "3  SEAMLESSM4T-MEDIUM  1.2B                20.9                19.2   \n",
       "4   SEAMLESSM4T-LARGE  2.3B                24.0                21.5   \n",
       "\n",
       "   CoVoST 2 X→eng (n=21) CoVoST 2 eng→X (n=15)  \n",
       "0                   22.1                  27.8  \n",
       "1                   29.1                     x  \n",
       "2                   37.8                     x  \n",
       "3                   29.8                  26.6  \n",
       "4                   34.1                  30.6  "
      ]
     },
     "execution_count": 67,
     "metadata": {},
     "output_type": "execute_result"
    }
   ],
   "source": [
    "claims_df"
   ]
  },
  {
   "cell_type": "markdown",
   "id": "40230ef1",
   "metadata": {
    "tags": []
   },
   "source": [
    "#### CoVoST2 X→eng related entries"
   ]
  },
  {
   "cell_type": "markdown",
   "id": "e168330f-cbb1-4af9-ab31-f91abcfa5529",
   "metadata": {},
   "source": [
    "Load the CoVoST2 summary we generated earlier"
   ]
  },
  {
   "cell_type": "code",
   "execution_count": 68,
   "id": "10f80ded",
   "metadata": {},
   "outputs": [
    {
     "data": {
      "text/html": [
       "<div>\n",
       "<style scoped>\n",
       "    .dataframe tbody tr th:only-of-type {\n",
       "        vertical-align: middle;\n",
       "    }\n",
       "\n",
       "    .dataframe tbody tr th {\n",
       "        vertical-align: top;\n",
       "    }\n",
       "\n",
       "    .dataframe thead th {\n",
       "        text-align: right;\n",
       "    }\n",
       "</style>\n",
       "<table border=\"1\" class=\"dataframe\">\n",
       "  <thead>\n",
       "    <tr style=\"text-align: right;\">\n",
       "      <th></th>\n",
       "      <th>Model</th>\n",
       "      <th>High</th>\n",
       "      <th>Mid</th>\n",
       "      <th>Low</th>\n",
       "      <th>All</th>\n",
       "    </tr>\n",
       "  </thead>\n",
       "  <tbody>\n",
       "    <tr>\n",
       "      <th>0</th>\n",
       "      <td>XLS-R (2B)</td>\n",
       "      <td>36.1</td>\n",
       "      <td>27.7</td>\n",
       "      <td>15.1</td>\n",
       "      <td>22.1</td>\n",
       "    </tr>\n",
       "    <tr>\n",
       "      <th>1</th>\n",
       "      <td>Whisper Large-v2</td>\n",
       "      <td>36.3</td>\n",
       "      <td>33.6</td>\n",
       "      <td>24.9</td>\n",
       "      <td>29.2</td>\n",
       "    </tr>\n",
       "    <tr>\n",
       "      <th>2</th>\n",
       "      <td>Seamless Medium</td>\n",
       "      <td>37.3</td>\n",
       "      <td>33.6</td>\n",
       "      <td>28.3</td>\n",
       "      <td>31.3</td>\n",
       "    </tr>\n",
       "    <tr>\n",
       "      <th>3</th>\n",
       "      <td>Seamless large</td>\n",
       "      <td>39.3</td>\n",
       "      <td>36.2</td>\n",
       "      <td>31.9</td>\n",
       "      <td>34.3</td>\n",
       "    </tr>\n",
       "    <tr>\n",
       "      <th>4</th>\n",
       "      <td>Seamless medium</td>\n",
       "      <td>37.3</td>\n",
       "      <td>33.6</td>\n",
       "      <td>28.3</td>\n",
       "      <td>31.3</td>\n",
       "    </tr>\n",
       "  </tbody>\n",
       "</table>\n",
       "</div>"
      ],
      "text/plain": [
       "              Model  High   Mid   Low   All\n",
       "0        XLS-R (2B)  36.1  27.7  15.1  22.1\n",
       "1  Whisper Large-v2  36.3  33.6  24.9  29.2\n",
       "2   Seamless Medium  37.3  33.6  28.3  31.3\n",
       "3    Seamless large  39.3  36.2  31.9  34.3\n",
       "4   Seamless medium  37.3  33.6  28.3  31.3"
      ]
     },
     "execution_count": 68,
     "metadata": {},
     "output_type": "execute_result"
    }
   ],
   "source": [
    "re_results_df=pd.read_json('claims/re_covost_summary.json',orient='split')\n",
    "re_results_df"
   ]
  },
  {
   "cell_type": "markdown",
   "id": "1c7215d1-2875-4c6f-b008-fbfa24a49f6b",
   "metadata": {},
   "source": [
    "Filter for All languages column over the summary"
   ]
  },
  {
   "cell_type": "code",
   "execution_count": 69,
   "id": "62047ba6",
   "metadata": {},
   "outputs": [
    {
     "data": {
      "text/html": [
       "<div>\n",
       "<style scoped>\n",
       "    .dataframe tbody tr th:only-of-type {\n",
       "        vertical-align: middle;\n",
       "    }\n",
       "\n",
       "    .dataframe tbody tr th {\n",
       "        vertical-align: top;\n",
       "    }\n",
       "\n",
       "    .dataframe thead th {\n",
       "        text-align: right;\n",
       "    }\n",
       "</style>\n",
       "<table border=\"1\" class=\"dataframe\">\n",
       "  <thead>\n",
       "    <tr style=\"text-align: right;\">\n",
       "      <th></th>\n",
       "      <th>Model</th>\n",
       "      <th>CoVoST 2 X→eng (n=21)</th>\n",
       "    </tr>\n",
       "  </thead>\n",
       "  <tbody>\n",
       "    <tr>\n",
       "      <th>0</th>\n",
       "      <td>XLS-R (2B)</td>\n",
       "      <td>22.1</td>\n",
       "    </tr>\n",
       "    <tr>\n",
       "      <th>1</th>\n",
       "      <td>Whisper Large-v2</td>\n",
       "      <td>29.2</td>\n",
       "    </tr>\n",
       "    <tr>\n",
       "      <th>2</th>\n",
       "      <td>Seamless Medium</td>\n",
       "      <td>31.3</td>\n",
       "    </tr>\n",
       "    <tr>\n",
       "      <th>3</th>\n",
       "      <td>Seamless large</td>\n",
       "      <td>34.3</td>\n",
       "    </tr>\n",
       "    <tr>\n",
       "      <th>4</th>\n",
       "      <td>Seamless medium</td>\n",
       "      <td>31.3</td>\n",
       "    </tr>\n",
       "  </tbody>\n",
       "</table>\n",
       "</div>"
      ],
      "text/plain": [
       "              Model  CoVoST 2 X→eng (n=21)\n",
       "0        XLS-R (2B)                   22.1\n",
       "1  Whisper Large-v2                   29.2\n",
       "2   Seamless Medium                   31.3\n",
       "3    Seamless large                   34.3\n",
       "4   Seamless medium                   31.3"
      ]
     },
     "execution_count": 69,
     "metadata": {},
     "output_type": "execute_result"
    }
   ],
   "source": [
    "#keep only Model and All columns and rename All column to CoVoST 2 X→eng (n=21)\n",
    "\n",
    "re_results_df=re_results_df[['Model','All']]\n",
    "re_results_df=re_results_df.rename(columns = {'All':'CoVoST 2 X→eng (n=21)'})\n",
    "\n",
    "re_results_df"
   ]
  },
  {
   "cell_type": "markdown",
   "id": "499f1e1c-dbb0-4ad5-ad42-38f2855eaffa",
   "metadata": {},
   "source": [
    "Map these values in a single view to compare against original claim values indicated in parenthesis"
   ]
  },
  {
   "cell_type": "code",
   "execution_count": 70,
   "id": "a32b0b7d",
   "metadata": {},
   "outputs": [],
   "source": [
    "merged_df=fuzzy_combine_results(apply_brackets(claims_df,[\"Model\",\"size\"]), re_results_df,value_cols=['CoVoST 2 X→eng (n=21)'])"
   ]
  },
  {
   "cell_type": "code",
   "execution_count": 71,
   "id": "452730a1",
   "metadata": {},
   "outputs": [
    {
     "data": {
      "text/html": [
       "<div>\n",
       "<style scoped>\n",
       "    .dataframe tbody tr th:only-of-type {\n",
       "        vertical-align: middle;\n",
       "    }\n",
       "\n",
       "    .dataframe tbody tr th {\n",
       "        vertical-align: top;\n",
       "    }\n",
       "\n",
       "    .dataframe thead th {\n",
       "        text-align: right;\n",
       "    }\n",
       "</style>\n",
       "<table border=\"1\" class=\"dataframe\">\n",
       "  <thead>\n",
       "    <tr style=\"text-align: right;\">\n",
       "      <th></th>\n",
       "      <th>Model</th>\n",
       "      <th>size</th>\n",
       "      <th>FLEURS X→eng (n=81)</th>\n",
       "      <th>FLEURS eng→X (n=88)</th>\n",
       "      <th>CoVoST 2 X→eng (n=21)</th>\n",
       "      <th>CoVoST 2 eng→X (n=15)</th>\n",
       "    </tr>\n",
       "  </thead>\n",
       "  <tbody>\n",
       "    <tr>\n",
       "      <th>0</th>\n",
       "      <td>XLS-R-2B-S2T</td>\n",
       "      <td>2.6B</td>\n",
       "      <td>()</td>\n",
       "      <td>(x)</td>\n",
       "      <td>22.1 (22.1)</td>\n",
       "      <td>(27.8)</td>\n",
       "    </tr>\n",
       "    <tr>\n",
       "      <th>1</th>\n",
       "      <td>WHISPER-LARGE-v2</td>\n",
       "      <td>1.5B</td>\n",
       "      <td>(17.9)</td>\n",
       "      <td>(x)</td>\n",
       "      <td>29.2 (29.1)</td>\n",
       "      <td>(x)</td>\n",
       "    </tr>\n",
       "    <tr>\n",
       "      <th>2</th>\n",
       "      <td>AUDIOPaLM-2-8B-AST</td>\n",
       "      <td>8.0B</td>\n",
       "      <td>(19.7)</td>\n",
       "      <td>(x)</td>\n",
       "      <td>(37.8)</td>\n",
       "      <td>(x)</td>\n",
       "    </tr>\n",
       "    <tr>\n",
       "      <th>3</th>\n",
       "      <td>SEAMLESSM4T-MEDIUM</td>\n",
       "      <td>1.2B</td>\n",
       "      <td>(20.9)</td>\n",
       "      <td>(19.2)</td>\n",
       "      <td>31.3 (29.8)</td>\n",
       "      <td>(26.6)</td>\n",
       "    </tr>\n",
       "    <tr>\n",
       "      <th>4</th>\n",
       "      <td>SEAMLESSM4T-LARGE</td>\n",
       "      <td>2.3B</td>\n",
       "      <td>(24.0)</td>\n",
       "      <td>(21.5)</td>\n",
       "      <td>34.3 (34.1)</td>\n",
       "      <td>(30.6)</td>\n",
       "    </tr>\n",
       "  </tbody>\n",
       "</table>\n",
       "</div>"
      ],
      "text/plain": [
       "                Model  size FLEURS X→eng (n=81) FLEURS eng→X (n=88)  \\\n",
       "0        XLS-R-2B-S2T  2.6B                  ()                 (x)   \n",
       "1    WHISPER-LARGE-v2  1.5B              (17.9)                 (x)   \n",
       "2  AUDIOPaLM-2-8B-AST  8.0B              (19.7)                 (x)   \n",
       "3  SEAMLESSM4T-MEDIUM  1.2B              (20.9)              (19.2)   \n",
       "4   SEAMLESSM4T-LARGE  2.3B              (24.0)              (21.5)   \n",
       "\n",
       "  CoVoST 2 X→eng (n=21) CoVoST 2 eng→X (n=15)  \n",
       "0           22.1 (22.1)                (27.8)  \n",
       "1           29.2 (29.1)                   (x)  \n",
       "2                (37.8)                   (x)  \n",
       "3           31.3 (29.8)                (26.6)  \n",
       "4           34.3 (34.1)                (30.6)  "
      ]
     },
     "execution_count": 71,
     "metadata": {},
     "output_type": "execute_result"
    }
   ],
   "source": [
    "merged_df"
   ]
  },
  {
   "cell_type": "markdown",
   "id": "33dd25f0-84c0-4ab0-8acd-df7e42b71114",
   "metadata": {},
   "source": [
    "Till now we have finished populating the entries for CoVoST 2 dataset, lets now feed the FLEURS related entries"
   ]
  },
  {
   "cell_type": "markdown",
   "id": "5c6cb507",
   "metadata": {
    "tags": []
   },
   "source": [
    "#### Fleurs related entries"
   ]
  },
  {
   "cell_type": "markdown",
   "id": "5a84cac2-bafa-4412-a7a1-816aad1ca993",
   "metadata": {},
   "source": [
    "Load the FLEURS summary we generated earlier and filter the dataframe "
   ]
  },
  {
   "cell_type": "code",
   "execution_count": 72,
   "id": "42468e5b",
   "metadata": {},
   "outputs": [
    {
     "data": {
      "text/html": [
       "<div>\n",
       "<style scoped>\n",
       "    .dataframe tbody tr th:only-of-type {\n",
       "        vertical-align: middle;\n",
       "    }\n",
       "\n",
       "    .dataframe tbody tr th {\n",
       "        vertical-align: top;\n",
       "    }\n",
       "\n",
       "    .dataframe thead th {\n",
       "        text-align: right;\n",
       "    }\n",
       "</style>\n",
       "<table border=\"1\" class=\"dataframe\">\n",
       "  <thead>\n",
       "    <tr style=\"text-align: right;\">\n",
       "      <th></th>\n",
       "      <th>Model</th>\n",
       "      <th>FLEURS X→eng (n=81)</th>\n",
       "    </tr>\n",
       "  </thead>\n",
       "  <tbody>\n",
       "    <tr>\n",
       "      <th>0</th>\n",
       "      <td>Whisper large-v2</td>\n",
       "      <td>16.7</td>\n",
       "    </tr>\n",
       "    <tr>\n",
       "      <th>1</th>\n",
       "      <td>Seamless large</td>\n",
       "      <td>23.4</td>\n",
       "    </tr>\n",
       "    <tr>\n",
       "      <th>2</th>\n",
       "      <td>Seamless medium</td>\n",
       "      <td>20.3</td>\n",
       "    </tr>\n",
       "    <tr>\n",
       "      <th>3</th>\n",
       "      <td>Whisper Large-v2 ASR + NLLB-1.3B</td>\n",
       "      <td>18.2</td>\n",
       "    </tr>\n",
       "  </tbody>\n",
       "</table>\n",
       "</div>"
      ],
      "text/plain": [
       "                              Model  FLEURS X→eng (n=81)\n",
       "0                  Whisper large-v2                 16.7\n",
       "1                    Seamless large                 23.4\n",
       "2                   Seamless medium                 20.3\n",
       "3  Whisper Large-v2 ASR + NLLB-1.3B                 18.2"
      ]
     },
     "execution_count": 72,
     "metadata": {},
     "output_type": "execute_result"
    }
   ],
   "source": [
    "re_results_df= pd.read_json('claims/re_fleurs_summary.json',orient='split')\n",
    "re_results_df=re_results_df[['Model','FLEURS X→eng (n=81)']]\n",
    "\n",
    "re_results_df"
   ]
  },
  {
   "cell_type": "markdown",
   "id": "6f736523-69be-422d-9bba-52ba26dbca6c",
   "metadata": {},
   "source": [
    "Map these values in a single view to compare against original claim values indicated in parenthesis"
   ]
  },
  {
   "cell_type": "code",
   "execution_count": 73,
   "id": "25fbd9fc",
   "metadata": {},
   "outputs": [
    {
     "data": {
      "text/html": [
       "<div>\n",
       "<style scoped>\n",
       "    .dataframe tbody tr th:only-of-type {\n",
       "        vertical-align: middle;\n",
       "    }\n",
       "\n",
       "    .dataframe tbody tr th {\n",
       "        vertical-align: top;\n",
       "    }\n",
       "\n",
       "    .dataframe thead th {\n",
       "        text-align: right;\n",
       "    }\n",
       "</style>\n",
       "<table border=\"1\" class=\"dataframe\">\n",
       "  <thead>\n",
       "    <tr style=\"text-align: right;\">\n",
       "      <th></th>\n",
       "      <th>Model</th>\n",
       "      <th>size</th>\n",
       "      <th>FLEURS X→eng (n=81)</th>\n",
       "      <th>FLEURS eng→X (n=88)</th>\n",
       "      <th>CoVoST 2 X→eng (n=21)</th>\n",
       "      <th>CoVoST 2 eng→X (n=15)</th>\n",
       "    </tr>\n",
       "  </thead>\n",
       "  <tbody>\n",
       "    <tr>\n",
       "      <th>0</th>\n",
       "      <td>XLS-R-2B-S2T</td>\n",
       "      <td>2.6B</td>\n",
       "      <td>()</td>\n",
       "      <td>(x)</td>\n",
       "      <td>22.1 (22.1)</td>\n",
       "      <td>(27.8)</td>\n",
       "    </tr>\n",
       "    <tr>\n",
       "      <th>1</th>\n",
       "      <td>WHISPER-LARGE-v2</td>\n",
       "      <td>1.5B</td>\n",
       "      <td>16.7 (17.9)</td>\n",
       "      <td>(x)</td>\n",
       "      <td>29.2 (29.1)</td>\n",
       "      <td>(x)</td>\n",
       "    </tr>\n",
       "    <tr>\n",
       "      <th>2</th>\n",
       "      <td>AUDIOPaLM-2-8B-AST</td>\n",
       "      <td>8.0B</td>\n",
       "      <td>(19.7)</td>\n",
       "      <td>(x)</td>\n",
       "      <td>(37.8)</td>\n",
       "      <td>(x)</td>\n",
       "    </tr>\n",
       "    <tr>\n",
       "      <th>3</th>\n",
       "      <td>SEAMLESSM4T-MEDIUM</td>\n",
       "      <td>1.2B</td>\n",
       "      <td>20.3 (20.9)</td>\n",
       "      <td>(19.2)</td>\n",
       "      <td>31.3 (29.8)</td>\n",
       "      <td>(26.6)</td>\n",
       "    </tr>\n",
       "    <tr>\n",
       "      <th>4</th>\n",
       "      <td>SEAMLESSM4T-LARGE</td>\n",
       "      <td>2.3B</td>\n",
       "      <td>23.4 (24.0)</td>\n",
       "      <td>(21.5)</td>\n",
       "      <td>34.3 (34.1)</td>\n",
       "      <td>(30.6)</td>\n",
       "    </tr>\n",
       "  </tbody>\n",
       "</table>\n",
       "</div>"
      ],
      "text/plain": [
       "                Model  size FLEURS X→eng (n=81) FLEURS eng→X (n=88)  \\\n",
       "0        XLS-R-2B-S2T  2.6B                  ()                 (x)   \n",
       "1    WHISPER-LARGE-v2  1.5B         16.7 (17.9)                 (x)   \n",
       "2  AUDIOPaLM-2-8B-AST  8.0B              (19.7)                 (x)   \n",
       "3  SEAMLESSM4T-MEDIUM  1.2B         20.3 (20.9)              (19.2)   \n",
       "4   SEAMLESSM4T-LARGE  2.3B         23.4 (24.0)              (21.5)   \n",
       "\n",
       "  CoVoST 2 X→eng (n=21) CoVoST 2 eng→X (n=15)  \n",
       "0           22.1 (22.1)                (27.8)  \n",
       "1           29.2 (29.1)                   (x)  \n",
       "2                (37.8)                   (x)  \n",
       "3           31.3 (29.8)                (26.6)  \n",
       "4           34.3 (34.1)                (30.6)  "
      ]
     },
     "execution_count": 73,
     "metadata": {},
     "output_type": "execute_result"
    }
   ],
   "source": [
    "merged_df2=fuzzy_combine_results(merged_df, re_results_df,value_cols=['FLEURS X→eng (n=81)'])\n",
    "merged_df2"
   ]
  },
  {
   "cell_type": "markdown",
   "id": "73b40d07-9692-4ab5-ad82-2b88c4dd8404",
   "metadata": {},
   "source": [
    "Above view shows that almost all reproduced results are consistent with original values in the claim. We did notice some difference in values for Whisper Large-v2 model, this difference might account for a different decoding strategy that could have been used but not stated in the paper."
   ]
  },
  {
   "cell_type": "markdown",
   "id": "b596fbac-edc2-4f51-9dd2-85c94e72e8d9",
   "metadata": {},
   "source": [
    "Lets save the reproduced claim view"
   ]
  },
  {
   "cell_type": "code",
   "execution_count": 74,
   "id": "f550c5fc-12b1-49a2-8776-7425547896ea",
   "metadata": {},
   "outputs": [],
   "source": [
    "merged_df.to_json('claims/re_seamless_claim_1.json',orient='split')"
   ]
  },
  {
   "cell_type": "markdown",
   "id": "745ab496",
   "metadata": {},
   "source": [
    "## Seamless Claim 2"
   ]
  },
  {
   "cell_type": "markdown",
   "id": "80299ba0-43f4-431c-ae74-ceb593e854cc",
   "metadata": {},
   "source": [
    "Load the claim 2 from whisper. This claim compares resource level performance of models over languages in FLEURS dataset. This is similar to the earlier claim we evauated against CoVoST 2 data for Whisper"
   ]
  },
  {
   "cell_type": "code",
   "execution_count": 75,
   "id": "624bb162",
   "metadata": {},
   "outputs": [
    {
     "data": {
      "text/html": [
       "<div>\n",
       "<style scoped>\n",
       "    .dataframe tbody tr th:only-of-type {\n",
       "        vertical-align: middle;\n",
       "    }\n",
       "\n",
       "    .dataframe tbody tr th {\n",
       "        vertical-align: top;\n",
       "    }\n",
       "\n",
       "    .dataframe thead th {\n",
       "        text-align: right;\n",
       "    }\n",
       "</style>\n",
       "<table border=\"1\" class=\"dataframe\">\n",
       "  <thead>\n",
       "    <tr style=\"text-align: right;\">\n",
       "      <th></th>\n",
       "      <th>Model</th>\n",
       "      <th>High (n=15)</th>\n",
       "      <th>Medium (n=25)</th>\n",
       "      <th>Low (n=34)</th>\n",
       "      <th>Low† (n=23)</th>\n",
       "    </tr>\n",
       "  </thead>\n",
       "  <tbody>\n",
       "    <tr>\n",
       "      <th>0</th>\n",
       "      <td>WHISPER-LARGE-v2</td>\n",
       "      <td>24.2</td>\n",
       "      <td>19.4</td>\n",
       "      <td>16.1</td>\n",
       "      <td>18.1</td>\n",
       "    </tr>\n",
       "    <tr>\n",
       "      <th>1</th>\n",
       "      <td>AUDIOPALM-2-8B-AST</td>\n",
       "      <td>27.9</td>\n",
       "      <td>20.9</td>\n",
       "      <td>18.0</td>\n",
       "      <td>22.0</td>\n",
       "    </tr>\n",
       "    <tr>\n",
       "      <th>2</th>\n",
       "      <td>SEAMLESSM4T-MEDIUM</td>\n",
       "      <td>23.9</td>\n",
       "      <td>21.8</td>\n",
       "      <td>22.2</td>\n",
       "      <td>23.5</td>\n",
       "    </tr>\n",
       "    <tr>\n",
       "      <th>3</th>\n",
       "      <td>SEAMLESSM4T-LARGE</td>\n",
       "      <td>26.9</td>\n",
       "      <td>25.2</td>\n",
       "      <td>25.4</td>\n",
       "      <td>27.0</td>\n",
       "    </tr>\n",
       "  </tbody>\n",
       "</table>\n",
       "</div>"
      ],
      "text/plain": [
       "                Model  High (n=15)  Medium (n=25)  Low (n=34)  Low† (n=23)\n",
       "0    WHISPER-LARGE-v2         24.2           19.4        16.1         18.1\n",
       "1  AUDIOPALM-2-8B-AST         27.9           20.9        18.0         22.0\n",
       "2  SEAMLESSM4T-MEDIUM         23.9           21.8        22.2         23.5\n",
       "3   SEAMLESSM4T-LARGE         26.9           25.2        25.4         27.0"
      ]
     },
     "execution_count": 75,
     "metadata": {},
     "output_type": "execute_result"
    }
   ],
   "source": [
    "claim_df= pd.read_json('claims/seamless_claim_2.json',orient='split')\n",
    "claim_df"
   ]
  },
  {
   "cell_type": "markdown",
   "id": "8acb0aa6-e582-45d6-a47f-ea80aeeeb5d3",
   "metadata": {},
   "source": [
    "Load the FLEURS summary we generated earlier"
   ]
  },
  {
   "cell_type": "code",
   "execution_count": 76,
   "id": "4680cf7f",
   "metadata": {},
   "outputs": [],
   "source": [
    "re_results_df=pd.read_json('claims/re_fleurs_summary.json',orient='split')"
   ]
  },
  {
   "cell_type": "markdown",
   "id": "3ac52e71-a899-454f-8ae8-341bec7607b0",
   "metadata": {},
   "source": [
    "Map these values in a single view to compare against original claim values indicated in parenthesis"
   ]
  },
  {
   "cell_type": "code",
   "execution_count": 77,
   "id": "dae43d83",
   "metadata": {},
   "outputs": [
    {
     "data": {
      "text/html": [
       "<div>\n",
       "<style scoped>\n",
       "    .dataframe tbody tr th:only-of-type {\n",
       "        vertical-align: middle;\n",
       "    }\n",
       "\n",
       "    .dataframe tbody tr th {\n",
       "        vertical-align: top;\n",
       "    }\n",
       "\n",
       "    .dataframe thead th {\n",
       "        text-align: right;\n",
       "    }\n",
       "</style>\n",
       "<table border=\"1\" class=\"dataframe\">\n",
       "  <thead>\n",
       "    <tr style=\"text-align: right;\">\n",
       "      <th></th>\n",
       "      <th>Model</th>\n",
       "      <th>High (n=15)</th>\n",
       "      <th>Medium (n=25)</th>\n",
       "      <th>Low (n=34)</th>\n",
       "      <th>Low† (n=23)</th>\n",
       "    </tr>\n",
       "  </thead>\n",
       "  <tbody>\n",
       "    <tr>\n",
       "      <th>0</th>\n",
       "      <td>WHISPER-LARGE-v2</td>\n",
       "      <td>23.7 (24.2)</td>\n",
       "      <td>17.5 (19.4)</td>\n",
       "      <td>14.8 (16.1)</td>\n",
       "      <td>17.0 (18.1)</td>\n",
       "    </tr>\n",
       "    <tr>\n",
       "      <th>1</th>\n",
       "      <td>AUDIOPALM-2-8B-AST</td>\n",
       "      <td>(27.9)</td>\n",
       "      <td>(20.9)</td>\n",
       "      <td>(18.0)</td>\n",
       "      <td>(22.0)</td>\n",
       "    </tr>\n",
       "    <tr>\n",
       "      <th>2</th>\n",
       "      <td>SEAMLESSM4T-MEDIUM</td>\n",
       "      <td>23.7 (23.9)</td>\n",
       "      <td>21.1 (21.8)</td>\n",
       "      <td>21.7 (22.2)</td>\n",
       "      <td>22.8 (23.5)</td>\n",
       "    </tr>\n",
       "    <tr>\n",
       "      <th>3</th>\n",
       "      <td>SEAMLESSM4T-LARGE</td>\n",
       "      <td>26.6 (26.9)</td>\n",
       "      <td>24.5 (25.2)</td>\n",
       "      <td>24.9 (25.4)</td>\n",
       "      <td>26.5 (27.0)</td>\n",
       "    </tr>\n",
       "  </tbody>\n",
       "</table>\n",
       "</div>"
      ],
      "text/plain": [
       "                Model  High (n=15) Medium (n=25)   Low (n=34)  Low† (n=23)\n",
       "0    WHISPER-LARGE-v2  23.7 (24.2)   17.5 (19.4)  14.8 (16.1)  17.0 (18.1)\n",
       "1  AUDIOPALM-2-8B-AST       (27.9)        (20.9)       (18.0)       (22.0)\n",
       "2  SEAMLESSM4T-MEDIUM  23.7 (23.9)   21.1 (21.8)  21.7 (22.2)  22.8 (23.5)\n",
       "3   SEAMLESSM4T-LARGE  26.6 (26.9)   24.5 (25.2)  24.9 (25.4)  26.5 (27.0)"
      ]
     },
     "execution_count": 77,
     "metadata": {},
     "output_type": "execute_result"
    }
   ],
   "source": [
    "merged_df=fuzzy_combine_results(apply_brackets(claim_df), re_results_df,value_cols=['High (n=15)', 'Medium (n=25)', 'Low (n=34)', 'Low† (n=23)'])\n",
    "merged_df"
   ]
  },
  {
   "cell_type": "markdown",
   "id": "2b29d1f1-0a73-4bf7-bdb3-fedc76af24d7",
   "metadata": {},
   "source": [
    "Above view shows that almost all reproduced results are consistent with original values in the claim. We did notice some difference in values for Whisper Large-v2 model, this difference might account for a different decoding strategy that could have been used but not stated in the paper."
   ]
  },
  {
   "cell_type": "markdown",
   "id": "db52f806-1be0-42ea-8ae5-f151e5dcc7be",
   "metadata": {},
   "source": [
    "Save the reproduced claim"
   ]
  },
  {
   "cell_type": "code",
   "execution_count": 78,
   "id": "499001b2-3a03-476b-9168-5cfd3d58b303",
   "metadata": {},
   "outputs": [],
   "source": [
    "merged_df.to_json('claims/re_seamless_claim_2.json',orient='split')"
   ]
  },
  {
   "cell_type": "markdown",
   "id": "c76d94af",
   "metadata": {},
   "source": [
    "## Seamless Claim 3\n"
   ]
  },
  {
   "cell_type": "markdown",
   "id": "3897664d-1fbe-4f23-9afc-b1597499c91e",
   "metadata": {},
   "source": [
    "This is one of the secondary claim in Seamless paper that highlights the performance of cascaded model pipelines consisting of trancription and translation stages against direct models"
   ]
  },
  {
   "cell_type": "code",
   "execution_count": 79,
   "id": "e284d753",
   "metadata": {},
   "outputs": [
    {
     "data": {
      "text/html": [
       "<div>\n",
       "<style scoped>\n",
       "    .dataframe tbody tr th:only-of-type {\n",
       "        vertical-align: middle;\n",
       "    }\n",
       "\n",
       "    .dataframe tbody tr th {\n",
       "        vertical-align: top;\n",
       "    }\n",
       "\n",
       "    .dataframe thead th {\n",
       "        text-align: right;\n",
       "    }\n",
       "</style>\n",
       "<table border=\"1\" class=\"dataframe\">\n",
       "  <thead>\n",
       "    <tr style=\"text-align: right;\">\n",
       "      <th></th>\n",
       "      <th>Model</th>\n",
       "      <th>type</th>\n",
       "      <th>size</th>\n",
       "      <th>X-eng (n=81)</th>\n",
       "      <th>eng-X (n=88)</th>\n",
       "    </tr>\n",
       "  </thead>\n",
       "  <tbody>\n",
       "    <tr>\n",
       "      <th>0</th>\n",
       "      <td>WHISPER-MEDIUM (ASR) + NLLB-1.3B</td>\n",
       "      <td>cascaded</td>\n",
       "      <td>2B</td>\n",
       "      <td>19.7</td>\n",
       "      <td>20.5</td>\n",
       "    </tr>\n",
       "    <tr>\n",
       "      <th>1</th>\n",
       "      <td>WHISPER-MEDIUM (ASR) + NLLB-3.3B</td>\n",
       "      <td>cascaded</td>\n",
       "      <td>4B</td>\n",
       "      <td>20.4</td>\n",
       "      <td>21.8</td>\n",
       "    </tr>\n",
       "    <tr>\n",
       "      <th>2</th>\n",
       "      <td>WHISPER-LARGE-v2 (ASR) + NLLB-1.3B</td>\n",
       "      <td>cascaded</td>\n",
       "      <td>2.8B</td>\n",
       "      <td>22.0</td>\n",
       "      <td>21.0</td>\n",
       "    </tr>\n",
       "    <tr>\n",
       "      <th>3</th>\n",
       "      <td>WHISPER-LARGE-v2 (ASR) + NLLB-3.3B</td>\n",
       "      <td>cascaded</td>\n",
       "      <td>4.8B</td>\n",
       "      <td>22.7</td>\n",
       "      <td>22.2</td>\n",
       "    </tr>\n",
       "    <tr>\n",
       "      <th>4</th>\n",
       "      <td>WHISPER-LARGE-v2</td>\n",
       "      <td>direct</td>\n",
       "      <td>1.5B</td>\n",
       "      <td>17.9</td>\n",
       "      <td>-</td>\n",
       "    </tr>\n",
       "    <tr>\n",
       "      <th>5</th>\n",
       "      <td>AudioPaLM-2-8B-AST</td>\n",
       "      <td>direct</td>\n",
       "      <td>8B</td>\n",
       "      <td>19.7</td>\n",
       "      <td>-</td>\n",
       "    </tr>\n",
       "    <tr>\n",
       "      <th>6</th>\n",
       "      <td>SEAMLESSM4T-MEDIUM</td>\n",
       "      <td>direct</td>\n",
       "      <td>1B</td>\n",
       "      <td>20.9</td>\n",
       "      <td>19.2</td>\n",
       "    </tr>\n",
       "    <tr>\n",
       "      <th>7</th>\n",
       "      <td>SEAMLESSM4T-LARGE</td>\n",
       "      <td>direct</td>\n",
       "      <td>2B</td>\n",
       "      <td>24.0</td>\n",
       "      <td>21.5</td>\n",
       "    </tr>\n",
       "  </tbody>\n",
       "</table>\n",
       "</div>"
      ],
      "text/plain": [
       "                                Model      type  size  X-eng (n=81)  \\\n",
       "0    WHISPER-MEDIUM (ASR) + NLLB-1.3B  cascaded    2B          19.7   \n",
       "1    WHISPER-MEDIUM (ASR) + NLLB-3.3B  cascaded    4B          20.4   \n",
       "2  WHISPER-LARGE-v2 (ASR) + NLLB-1.3B  cascaded  2.8B          22.0   \n",
       "3  WHISPER-LARGE-v2 (ASR) + NLLB-3.3B  cascaded  4.8B          22.7   \n",
       "4                    WHISPER-LARGE-v2    direct  1.5B          17.9   \n",
       "5                  AudioPaLM-2-8B-AST    direct    8B          19.7   \n",
       "6                  SEAMLESSM4T-MEDIUM    direct    1B          20.9   \n",
       "7                   SEAMLESSM4T-LARGE    direct    2B          24.0   \n",
       "\n",
       "  eng-X (n=88)  \n",
       "0         20.5  \n",
       "1         21.8  \n",
       "2         21.0  \n",
       "3         22.2  \n",
       "4            -  \n",
       "5            -  \n",
       "6         19.2  \n",
       "7         21.5  "
      ]
     },
     "execution_count": 79,
     "metadata": {},
     "output_type": "execute_result"
    }
   ],
   "source": [
    "claim_df=pd.read_json('claims/seamless_claim_3.json',orient='split')\n",
    "claim_df"
   ]
  },
  {
   "cell_type": "markdown",
   "id": "23a6de7b-c90d-4fe4-9bb5-04cb806c1823",
   "metadata": {},
   "source": [
    "Lets again load the summary of results for FLEURS dataset and filter appropriate column"
   ]
  },
  {
   "cell_type": "code",
   "execution_count": 80,
   "id": "f08a2f0c",
   "metadata": {},
   "outputs": [
    {
     "data": {
      "text/html": [
       "<div>\n",
       "<style scoped>\n",
       "    .dataframe tbody tr th:only-of-type {\n",
       "        vertical-align: middle;\n",
       "    }\n",
       "\n",
       "    .dataframe tbody tr th {\n",
       "        vertical-align: top;\n",
       "    }\n",
       "\n",
       "    .dataframe thead th {\n",
       "        text-align: right;\n",
       "    }\n",
       "</style>\n",
       "<table border=\"1\" class=\"dataframe\">\n",
       "  <thead>\n",
       "    <tr style=\"text-align: right;\">\n",
       "      <th></th>\n",
       "      <th>Model</th>\n",
       "      <th>X-eng (n=81)</th>\n",
       "    </tr>\n",
       "  </thead>\n",
       "  <tbody>\n",
       "    <tr>\n",
       "      <th>0</th>\n",
       "      <td>Whisper large-v2</td>\n",
       "      <td>16.7</td>\n",
       "    </tr>\n",
       "    <tr>\n",
       "      <th>1</th>\n",
       "      <td>Seamless large</td>\n",
       "      <td>23.4</td>\n",
       "    </tr>\n",
       "    <tr>\n",
       "      <th>2</th>\n",
       "      <td>Seamless medium</td>\n",
       "      <td>20.3</td>\n",
       "    </tr>\n",
       "    <tr>\n",
       "      <th>3</th>\n",
       "      <td>Whisper Large-v2 ASR + NLLB-1.3B</td>\n",
       "      <td>18.2</td>\n",
       "    </tr>\n",
       "  </tbody>\n",
       "</table>\n",
       "</div>"
      ],
      "text/plain": [
       "                              Model  X-eng (n=81)\n",
       "0                  Whisper large-v2          16.7\n",
       "1                    Seamless large          23.4\n",
       "2                   Seamless medium          20.3\n",
       "3  Whisper Large-v2 ASR + NLLB-1.3B          18.2"
      ]
     },
     "execution_count": 80,
     "metadata": {},
     "output_type": "execute_result"
    }
   ],
   "source": [
    "re_results_df=pd.read_json('claims/re_fleurs_summary.json',orient='split')\n",
    "re_results_df=re_results_df[['Model','FLEURS X→eng (n=81)']]\n",
    "re_results_df.rename(columns = {'FLEURS X→eng (n=81)': 'X-eng (n=81)'}, inplace = True)\n",
    "\n",
    "re_results_df"
   ]
  },
  {
   "cell_type": "markdown",
   "id": "a5601795-e5ab-4914-80d9-1dc67e14d9c5",
   "metadata": {},
   "source": [
    "Combine these values in a single view to compare against original claim values indicated in parenthesis"
   ]
  },
  {
   "cell_type": "code",
   "execution_count": 81,
   "id": "9ac35faf",
   "metadata": {},
   "outputs": [
    {
     "data": {
      "text/html": [
       "<div>\n",
       "<style scoped>\n",
       "    .dataframe tbody tr th:only-of-type {\n",
       "        vertical-align: middle;\n",
       "    }\n",
       "\n",
       "    .dataframe tbody tr th {\n",
       "        vertical-align: top;\n",
       "    }\n",
       "\n",
       "    .dataframe thead th {\n",
       "        text-align: right;\n",
       "    }\n",
       "</style>\n",
       "<table border=\"1\" class=\"dataframe\">\n",
       "  <thead>\n",
       "    <tr style=\"text-align: right;\">\n",
       "      <th></th>\n",
       "      <th>Model</th>\n",
       "      <th>type</th>\n",
       "      <th>size</th>\n",
       "      <th>X-eng (n=81)</th>\n",
       "      <th>eng-X (n=88)</th>\n",
       "    </tr>\n",
       "  </thead>\n",
       "  <tbody>\n",
       "    <tr>\n",
       "      <th>0</th>\n",
       "      <td>WHISPER-MEDIUM (ASR) + NLLB-1.3B</td>\n",
       "      <td>cascaded</td>\n",
       "      <td>2B</td>\n",
       "      <td>(19.7)</td>\n",
       "      <td>(20.5)</td>\n",
       "    </tr>\n",
       "    <tr>\n",
       "      <th>1</th>\n",
       "      <td>WHISPER-MEDIUM (ASR) + NLLB-3.3B</td>\n",
       "      <td>cascaded</td>\n",
       "      <td>4B</td>\n",
       "      <td>(20.4)</td>\n",
       "      <td>(21.8)</td>\n",
       "    </tr>\n",
       "    <tr>\n",
       "      <th>2</th>\n",
       "      <td>WHISPER-LARGE-v2 (ASR) + NLLB-1.3B</td>\n",
       "      <td>cascaded</td>\n",
       "      <td>2.8B</td>\n",
       "      <td>18.2 (22.0)</td>\n",
       "      <td>(21.0)</td>\n",
       "    </tr>\n",
       "    <tr>\n",
       "      <th>3</th>\n",
       "      <td>WHISPER-LARGE-v2 (ASR) + NLLB-3.3B</td>\n",
       "      <td>cascaded</td>\n",
       "      <td>4.8B</td>\n",
       "      <td>(22.7)</td>\n",
       "      <td>(22.2)</td>\n",
       "    </tr>\n",
       "    <tr>\n",
       "      <th>4</th>\n",
       "      <td>WHISPER-LARGE-v2</td>\n",
       "      <td>direct</td>\n",
       "      <td>1.5B</td>\n",
       "      <td>16.7 (17.9)</td>\n",
       "      <td>(-)</td>\n",
       "    </tr>\n",
       "    <tr>\n",
       "      <th>5</th>\n",
       "      <td>AudioPaLM-2-8B-AST</td>\n",
       "      <td>direct</td>\n",
       "      <td>8B</td>\n",
       "      <td>(19.7)</td>\n",
       "      <td>(-)</td>\n",
       "    </tr>\n",
       "    <tr>\n",
       "      <th>6</th>\n",
       "      <td>SEAMLESSM4T-MEDIUM</td>\n",
       "      <td>direct</td>\n",
       "      <td>1B</td>\n",
       "      <td>20.3 (20.9)</td>\n",
       "      <td>(19.2)</td>\n",
       "    </tr>\n",
       "    <tr>\n",
       "      <th>7</th>\n",
       "      <td>SEAMLESSM4T-LARGE</td>\n",
       "      <td>direct</td>\n",
       "      <td>2B</td>\n",
       "      <td>23.4 (24.0)</td>\n",
       "      <td>(21.5)</td>\n",
       "    </tr>\n",
       "  </tbody>\n",
       "</table>\n",
       "</div>"
      ],
      "text/plain": [
       "                                Model      type  size X-eng (n=81)  \\\n",
       "0    WHISPER-MEDIUM (ASR) + NLLB-1.3B  cascaded    2B       (19.7)   \n",
       "1    WHISPER-MEDIUM (ASR) + NLLB-3.3B  cascaded    4B       (20.4)   \n",
       "2  WHISPER-LARGE-v2 (ASR) + NLLB-1.3B  cascaded  2.8B  18.2 (22.0)   \n",
       "3  WHISPER-LARGE-v2 (ASR) + NLLB-3.3B  cascaded  4.8B       (22.7)   \n",
       "4                    WHISPER-LARGE-v2    direct  1.5B  16.7 (17.9)   \n",
       "5                  AudioPaLM-2-8B-AST    direct    8B       (19.7)   \n",
       "6                  SEAMLESSM4T-MEDIUM    direct    1B  20.3 (20.9)   \n",
       "7                   SEAMLESSM4T-LARGE    direct    2B  23.4 (24.0)   \n",
       "\n",
       "  eng-X (n=88)  \n",
       "0       (20.5)  \n",
       "1       (21.8)  \n",
       "2       (21.0)  \n",
       "3       (22.2)  \n",
       "4          (-)  \n",
       "5          (-)  \n",
       "6       (19.2)  \n",
       "7       (21.5)  "
      ]
     },
     "execution_count": 81,
     "metadata": {},
     "output_type": "execute_result"
    }
   ],
   "source": [
    "merged_df=fuzzy_combine_results(apply_brackets(claim_df,avoid_cols=[\"Model\",\"type\",\"size\"]), re_results_df,value_cols=['X-eng (n=81)'])\n",
    "merged_df"
   ]
  },
  {
   "cell_type": "markdown",
   "id": "e4b46534-06bd-44ca-b218-aa47805b5a5c",
   "metadata": {},
   "source": [
    "Note: we limited our scope to WHISPER-LARGE-v2 (ASR) + NLLB-1.3B cascaded pipeline to provide a comparative view. Others aren't evaluated right now but can be evaluated easily using the same inference code we provided in `fleurs_eval.ipynb`"
   ]
  },
  {
   "cell_type": "markdown",
   "id": "336192ad-f188-4cb2-b213-a49a933cc112",
   "metadata": {},
   "source": [
    "Lets save this merged result"
   ]
  },
  {
   "cell_type": "code",
   "execution_count": 82,
   "id": "04f727b0-b7a6-4206-b27e-6cd1018c95bb",
   "metadata": {},
   "outputs": [],
   "source": [
    "merged_df.to_json('claims/re_seamless_claim_3.json',orient='split')"
   ]
  },
  {
   "cell_type": "markdown",
   "id": "acfb0789",
   "metadata": {},
   "source": [
    "## Challanges, we overcame 💪 "
   ]
  },
  {
   "cell_type": "markdown",
   "id": "5d35fa23",
   "metadata": {},
   "source": [
    "1. The naming convention for the models changes in every other claim. Thus it becomes important to have a mapping between the model names in the actual claims and the model names in the reproduced results. So, we would need to have a fuzzy matching between the model names in the actual claims and the model names in the reproduced results. We used the `fuzzywuzzy` library to do this.\n",
    "\n",
    "2. For one of the claims in Seamless paper, we had to divide languages across high, medium and low resorce-level categories based on Table 38 in Seamless paper. On top of it we had to constrain ourselved to only consider those languages which was supported across all models. This took some time to figure out.\n",
    "\n",
    "3. In the same claim, they mentioned about an additional category for low resource-level languages which excluded languages that were Zero-shot in AudioPaLM. We had to manually check for languages which were Zero-shot in AudioPaLM, mention in the Table 17 in Rubenstein et al., 2023 by inspecting if training data hours were zero or not. This was a bit time consuming, as the language names mentioned in Table 5 in Seamless weren't consistent with the ones in AudioPaLM paper."
   ]
  }
 ],
 "metadata": {
  "kernelspec": {
   "display_name": "Python 3 (ipykernel)",
   "language": "python",
   "name": "python3"
  },
  "language_info": {
   "codemirror_mode": {
    "name": "ipython",
    "version": 3
   },
   "file_extension": ".py",
   "mimetype": "text/x-python",
   "name": "python",
   "nbconvert_exporter": "python",
   "pygments_lexer": "ipython3",
   "version": "3.10.9"
  }
 },
 "nbformat": 4,
 "nbformat_minor": 5
}
