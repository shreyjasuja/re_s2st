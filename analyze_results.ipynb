{
 "cells": [
  {
   "cell_type": "markdown",
   "id": "3c7e32dd-240d-4b2e-9fd7-be176a0831e2",
   "metadata": {},
   "source": [
    "# Results Analysis"
   ]
  },
  {
   "cell_type": "markdown",
   "id": "e108dfcc-649d-42f3-a4cb-69cfbb52ef42",
   "metadata": {},
   "source": [
    "## transfer the results (or skip)"
   ]
  },
  {
   "cell_type": "code",
   "execution_count": null,
   "id": "d3838b48-42d9-4c0e-af51-e0c644e03923",
   "metadata": {},
   "outputs": [],
   "source": [
    "why server?"
   ]
  },
  {
   "cell_type": "markdown",
   "id": "2d3aeb89-dd56-43dd-8db1-e9e2fc98202e",
   "metadata": {},
   "source": [
    "Let set up the basic Chameleon Configuration\n"
   ]
  },
  {
   "cell_type": "code",
   "execution_count": 1,
   "id": "b8993820-43bb-4ab3-8667-9a57039cb89a",
   "metadata": {},
   "outputs": [
    {
     "name": "stdout",
     "output_type": "stream",
     "text": [
      "Now using CHI@UC:\n",
      "URL: https://chi.uc.chameleoncloud.org\n",
      "Location: Argonne National Laboratory, Lemont, Illinois, USA\n",
      "Support contact: help@chameleoncloud.org\n"
     ]
    }
   ],
   "source": [
    "import chi, os, time\n",
    "from chi import lease\n",
    "from chi import server\n",
    "\n",
    "PROJECT_NAME = os.getenv('OS_PROJECT_NAME') # change this if you need to\n",
    "chi.use_site(\"CHI@UC\")\n",
    "chi.set(\"project_name\", PROJECT_NAME)\n",
    "username = os.getenv('USER') # all exp resources will have this prefix"
   ]
  },
  {
   "cell_type": "markdown",
   "id": "ca5da136-642b-4c50-b0d5-c711a245ae9a",
   "metadata": {},
   "source": [
    "Set the `NODE_TYPE` to resource server where you performed your experiment"
   ]
  },
  {
   "cell_type": "code",
   "execution_count": 2,
   "id": "5d9595bd-4000-4497-a1e1-c1f6ea3e0146",
   "metadata": {},
   "outputs": [],
   "source": [
    "NODE_TYPE=\"gpu_rtx_6000\""
   ]
  },
  {
   "cell_type": "markdown",
   "id": "e1e8b246-b16a-42e1-9c24-45077611d317",
   "metadata": {},
   "source": [
    "Lets access the resources where our evaluation was conducted"
   ]
  },
  {
   "cell_type": "code",
   "execution_count": 3,
   "id": "ea777214-dc37-4b17-94f2-61641341f4c0",
   "metadata": {},
   "outputs": [],
   "source": [
    "l = lease.get_lease(f\"colab-{username}-{NODE_TYPE}-v2\")\n",
    "reservation_id = lease.get_node_reservation(l[\"id\"])\n",
    "server_id = server.get_server_id(f\"colab-{username}-{NODE_TYPE}-v2\")\n",
    "server.wait_for_active(server_id)\n",
    "reserved_fip = [d['addr'] for d in chi.server.show_server(server_id).addresses['sharednet1'] if d['OS-EXT-IPS:type']=='floating'][0]"
   ]
  },
  {
   "cell_type": "markdown",
   "id": "7b8186bc",
   "metadata": {},
   "source": [
    "### Transfer raw results from the resource server to the jupyter server"
   ]
  },
  {
   "cell_type": "code",
   "execution_count": 4,
   "id": "c7de1639-7deb-400b-b7eb-a9e19b94e2fb",
   "metadata": {},
   "outputs": [],
   "source": [
    "from chi import ssh\n",
    "node = ssh.Remote(reserved_fip)"
   ]
  },
  {
   "cell_type": "code",
   "execution_count": 5,
   "id": "b410a53e-a920-42bf-884d-4e92dfae66dd",
   "metadata": {},
   "outputs": [],
   "source": [
    "# Define the remote directory path and the local path to download to\n",
    "remote_directory = 'results/'\n",
    "archive_name='results.tar.gz'\n"
   ]
  },
  {
   "cell_type": "markdown",
   "id": "d2563569-bb14-4107-b2db-ae6e39174b30",
   "metadata": {},
   "source": [
    "The ssh implementation provided by `python-chi` as a wrapper over Fabric, only allows for single file transfer. In order to transfer the directory we would nead to archive the entire remote directory then transfer the archive file"
   ]
  },
  {
   "cell_type": "code",
   "execution_count": 6,
   "id": "9b1fce90-e608-4bd5-8efe-8fd31a8feac6",
   "metadata": {},
   "outputs": [
    {
     "name": "stderr",
     "output_type": "stream",
     "text": [
      "/opt/conda/lib/python3.10/site-packages/paramiko/client.py:852: UserWarning: Unknown ssh-ed25519 host key for 192.5.86.195: b'7f0dde22c4db6cdbbe54db8bc4b68201'\n",
      "  warnings.warn(\n"
     ]
    },
    {
     "data": {
      "text/plain": [
       "<Result cmd='tar -czf results.tar.gz -C results/ .' exited=0>"
      ]
     },
     "execution_count": 6,
     "metadata": {},
     "output_type": "execute_result"
    }
   ],
   "source": [
    "node.run(f'tar -czf {archive_name} -C {remote_directory} .') #archive the results"
   ]
  },
  {
   "cell_type": "code",
   "execution_count": 7,
   "id": "5d411bd7-8d96-4885-bee0-95c7a2286eec",
   "metadata": {},
   "outputs": [
    {
     "data": {
      "text/plain": [
       "<fabric.transfer.Result at 0x7f88c95b72e0>"
      ]
     },
     "execution_count": 7,
     "metadata": {},
     "output_type": "execute_result"
    }
   ],
   "source": [
    "node.get(archive_name) #download the archive"
   ]
  },
  {
   "cell_type": "code",
   "execution_count": 8,
   "id": "8c2614a7-546a-4f8f-a9df-2840680ff0de",
   "metadata": {},
   "outputs": [],
   "source": [
    "import tarfile\n",
    "with tarfile.open(archive_name) as tar:\n",
    "    tar.extractall(path=remote_directory) #extract the archive"
   ]
  },
  {
   "cell_type": "markdown",
   "id": "76e85291",
   "metadata": {},
   "source": [
    "## Reproduced results summaries"
   ]
  },
  {
   "cell_type": "markdown",
   "id": "204908f6",
   "metadata": {},
   "source": [
    "### CoVoST2 evaluation summary"
   ]
  },
  {
   "cell_type": "markdown",
   "id": "71e56f95",
   "metadata": {},
   "source": [
    "Lets first summarize the results of the CoVoST2 evaluation. We have the scores for four models on this data for X→eng translations for 21 languages. These models are: \n",
    "\n",
    "1) Whisper \n",
    "2) XLS-R\n",
    "3) Seamless Medium\n",
    "4) Seamless Large\n"
   ]
  },
  {
   "cell_type": "markdown",
   "id": "57531b75-8e61-463a-8f41-c0d533349c62",
   "metadata": {
    "tags": []
   },
   "source": [
    "#### Divide language in different categories\n"
   ]
  },
  {
   "cell_type": "markdown",
   "id": "ede6663d-83ed-46ae-a814-3ee57c70f122",
   "metadata": {},
   "source": [
    "While evaluating performance in terms of translation capabilities, we need to divide our languages between high, mid and low resource categories depending on what amount of data is available in each language. This distribution has been provided by Babu et al.,2021 in their XLS-R [paper](https://arxiv.org/pdf/2111.09296.pdf)."
   ]
  },
  {
   "cell_type": "code",
   "execution_count": 9,
   "id": "e45aaa4d",
   "metadata": {},
   "outputs": [],
   "source": [
    "import os, json\n",
    "import pandas as pd"
   ]
  },
  {
   "cell_type": "code",
   "execution_count": 10,
   "id": "500dcbac-0e0c-4543-8723-375233dae00c",
   "metadata": {},
   "outputs": [],
   "source": [
    "res_levels=[\"low_res\",\"mid_res\",\"high_res\"]\n",
    "\n",
    "high_res=['ca','de','fr','es']\n",
    "mid_res=['zh-CN','fa','it','ru','pt']\n",
    "low_res=['mn','ta','lv','et','cy','sl','ja','tr','ar','nl','sv-SE','id']\n"
   ]
  },
  {
   "cell_type": "code",
   "execution_count": 11,
   "id": "164ac4d5-3d76-41dc-8758-b622528805c8",
   "metadata": {},
   "outputs": [],
   "source": [
    "import collections\n",
    "def resource_level_results(scores,model_name):\n",
    "    res_scores=collections.defaultdict(float)\n",
    "    for level in res_levels:\n",
    "        for lang in eval(level):\n",
    "            res_scores[level]+=scores[lang]\n",
    "        res_scores['all']+=res_scores[level]\n",
    "        res_scores[level]/=len(eval(level))\n",
    "    res_scores['all']/=21.0\n",
    "    return {\n",
    "      \"Model\":model_name,\n",
    "      \"High\" : round(res_scores[\"high_res\"],1),\n",
    "      \"Mid\" : round(res_scores[\"mid_res\"],1),\n",
    "      \"Low\" : round(res_scores[\"low_res\"],1),\n",
    "      \"All\" : round(res_scores['all'],1)\n",
    "    }"
   ]
  },
  {
   "cell_type": "code",
   "execution_count": 12,
   "id": "40453157-3a85-4544-9e08-6f44eb4d80d5",
   "metadata": {},
   "outputs": [],
   "source": [
    "\n",
    "re_results=[]\n",
    "score_directory_covost='results/covost2/scores/'\n",
    "#read all the json files\n",
    "for files in os.listdir(score_directory_covost):\n",
    "    if files.endswith('.json'):\n",
    "        with open(score_directory_covost+files) as f:\n",
    "            scores=json.load(f)\n",
    "        model_name=files.split('.')[0]\n",
    "        re_results.append(resource_level_results(scores,model_name))\n",
    "\n",
    "re_results_df=pd.DataFrame(re_results)\n",
    "\n",
    "\n"
   ]
  },
  {
   "cell_type": "code",
   "execution_count": 13,
   "id": "363206a7-bbee-4ce9-a0d7-af1361781682",
   "metadata": {},
   "outputs": [
    {
     "data": {
      "text/html": [
       "<div>\n",
       "<style scoped>\n",
       "    .dataframe tbody tr th:only-of-type {\n",
       "        vertical-align: middle;\n",
       "    }\n",
       "\n",
       "    .dataframe tbody tr th {\n",
       "        vertical-align: top;\n",
       "    }\n",
       "\n",
       "    .dataframe thead th {\n",
       "        text-align: right;\n",
       "    }\n",
       "</style>\n",
       "<table border=\"1\" class=\"dataframe\">\n",
       "  <thead>\n",
       "    <tr style=\"text-align: right;\">\n",
       "      <th></th>\n",
       "      <th>Model</th>\n",
       "      <th>High</th>\n",
       "      <th>Mid</th>\n",
       "      <th>Low</th>\n",
       "      <th>All</th>\n",
       "    </tr>\n",
       "  </thead>\n",
       "  <tbody>\n",
       "    <tr>\n",
       "      <th>0</th>\n",
       "      <td>XLS-R (2B)</td>\n",
       "      <td>36.0</td>\n",
       "      <td>27.8</td>\n",
       "      <td>15.4</td>\n",
       "      <td>22.3</td>\n",
       "    </tr>\n",
       "    <tr>\n",
       "      <th>1</th>\n",
       "      <td>Seamless Large</td>\n",
       "      <td>39.3</td>\n",
       "      <td>36.2</td>\n",
       "      <td>31.9</td>\n",
       "      <td>34.3</td>\n",
       "    </tr>\n",
       "    <tr>\n",
       "      <th>2</th>\n",
       "      <td>Whisper Large-v2</td>\n",
       "      <td>35.2</td>\n",
       "      <td>32.6</td>\n",
       "      <td>23.8</td>\n",
       "      <td>28.1</td>\n",
       "    </tr>\n",
       "    <tr>\n",
       "      <th>3</th>\n",
       "      <td>Seamless Medium</td>\n",
       "      <td>37.3</td>\n",
       "      <td>33.6</td>\n",
       "      <td>28.3</td>\n",
       "      <td>31.3</td>\n",
       "    </tr>\n",
       "  </tbody>\n",
       "</table>\n",
       "</div>"
      ],
      "text/plain": [
       "              Model  High   Mid   Low   All\n",
       "0        XLS-R (2B)  36.0  27.8  15.4  22.3\n",
       "1    Seamless Large  39.3  36.2  31.9  34.3\n",
       "2  Whisper Large-v2  35.2  32.6  23.8  28.1\n",
       "3   Seamless Medium  37.3  33.6  28.3  31.3"
      ]
     },
     "execution_count": 13,
     "metadata": {},
     "output_type": "execute_result"
    }
   ],
   "source": [
    "re_results_df"
   ]
  },
  {
   "cell_type": "code",
   "execution_count": 14,
   "id": "fb4eec98",
   "metadata": {},
   "outputs": [],
   "source": [
    "re_results_df.to_json('claims/re_covost_summary.json',orient='split')"
   ]
  },
  {
   "cell_type": "markdown",
   "id": "24fb58d6",
   "metadata": {},
   "source": [
    "### Fleurs evaluation summary"
   ]
  },
  {
   "cell_type": "markdown",
   "id": "d5066f5a",
   "metadata": {},
   "source": [
    "For Fleurs, the division of languages is not as clear as CoVoST2. We will divide the languages into high, mid and low resource categories based on resource-level information available in Table 38 in [SeamlessM4T](https://arxiv.org/pdf/2308.11596.pdf) (Barrault et al., 2023). \n",
    "\n",
    "Apart from the information in the Seamless paper, we had to manually check in the Whisper paper, if the language was supported or not. This is becuase while citing the results, author stated that they provided results only for languages that were supported by all three models - Whisper, AudioPaLM and Seamless."
   ]
  },
  {
   "cell_type": "code",
   "execution_count": 15,
   "id": "791fc414",
   "metadata": {},
   "outputs": [],
   "source": [
    "whisper_fleurs= ['afr', 'amh', 'asm', 'bel', 'bul', 'ben', 'bos', 'cat', 'cmn', 'ces', 'cym', 'dan', 'deu', 'ell', \n",
    "                  'spa', 'est', 'fin', 'fra', 'glg', 'guj', 'hau', 'heb', 'hin', 'hrv', 'hun', 'hye', 'ind', 'isl', 'ita', \n",
    "                  'jpn', 'jav', 'kat', 'kaz', 'khm', 'kan', 'kor', 'ltz', 'lin', 'lao', 'lit', 'mri', 'mkd', 'mal', 'mar', \n",
    "                  'mlt', 'mya', 'nob', 'nld', 'oci', 'pan', 'pol', 'por', 'ron', 'rus', 'snd', 'slk', 'slv', 'sna', 'som', \n",
    "                  'srp', 'swe', 'tam', 'tel', 'tgk', 'tha', 'tur', 'ukr', 'urd', 'vie', 'yor', 'yue', 'zlm', 'uzn', 'pes', \n",
    "                  'npi', 'lvs', 'arb', 'azj', 'pbt', 'khk', 'swh']\n",
    "\n",
    "\n",
    "high_res = [\n",
    "    \"arb\", \"bel\", \"ben\", \"cat\",\"ces\", \"cmn\", \"deu\",\"fin\", \"fra\", \"ita\", \n",
    "    \"jpn\", \"nld\", \"pol\", \"ron\", \"spa\" #15\n",
    "]\n",
    "\n",
    "mid_res = [\n",
    "    \"cym\", \"dan\", \"ell\", \"est\", \"hin\", \"hrv\", \"hun\", \"ind\", \"jav\", \"kaz\", \"kor\",\n",
    "    \"pbt\", \"por\", \"rus\", \"slk\", \"swh\", \"tam\", \"tel\", \"tgl\", \"tha\", \"tur\", \"ukr\", \"urd\", \"uzn\", \"vie\" #25\n",
    "]\n",
    "\n",
    "low_res = [\n",
    "    \"afr\", \"amh\", \"asm\", \"azj\", \"bos\", \"bul\", \"glg\", \"guj\", \"heb\", \"hye\", \n",
    "    \"isl\", \"kan\", \"kat\", \"khk\", \"khm\", \"lao\",\n",
    "    \"lit\", \"lvs\", \"mal\", \"mar\", \"mkd\", \"mlt\", \"mya\", \"nob\", \"npi\", \"pan\", \n",
    "    \"pes\", \"slv\", \"som\", \"srp\", \"swe\", \"tgk\", \"yor\", \"zlm\"       #34\n",
    "]\n"
   ]
  },
  {
   "cell_type": "markdown",
   "id": "8fe06024",
   "metadata": {},
   "source": [
    "On top of the usual High, Mid and Low resource categories, the authors created one more category for low resource langauges which excluded languages that were Zero-shot in AudioPaLM, to eliminate any confounding factor like Zer0-shot evaluation for other models. We had to manually check for languages which were Zero-shot in AudioPaLM, mention in the Table 17 in [Rubenstein et al., 2023](https://arxiv.org/pdf/2306.12925.pdf)."
   ]
  },
  {
   "cell_type": "code",
   "execution_count": 16,
   "id": "be589a8e",
   "metadata": {},
   "outputs": [],
   "source": [
    "zeroshot_audiopalm = [\n",
    "    \"yor\", \"uzn\", \"tgk\", \"som\", \"sna\", \"snd\", \"pbt\", \"oci\", \"nob\", \"mya\", \"mri\", \"lao\",\n",
    "    \"lin\", \"ltz\", \"kan\", \"khm\", \"jav\", \"heb\", \"tgl\", \"amh\", \"bos\"\n",
    "]# Languages marked as 'zero-shot' in audioPalm\n",
    "\n",
    "#remove the zeroshot languages from the low_res\n",
    "low_res2= list(set(low_res)-set(zeroshot_audiopalm))"
   ]
  },
  {
   "cell_type": "code",
   "execution_count": 17,
   "id": "be758b99",
   "metadata": {},
   "outputs": [],
   "source": [
    "res_levels=[\"high_res\",\"mid_res\",\"low_res\",\"low_res2\"]"
   ]
  },
  {
   "cell_type": "code",
   "execution_count": 21,
   "id": "905b02f0",
   "metadata": {},
   "outputs": [],
   "source": [
    "def resource_level_results_fleurs(scores,model_name):\n",
    "    res_scores=collections.defaultdict(float)\n",
    "    for level in res_levels:\n",
    "        for lang in eval(level):\n",
    "            try:\n",
    "                res_scores[level]+=scores[lang]\n",
    "            except:\n",
    "                continue\n",
    "        res_scores[level]/=len(eval(level))\n",
    "\n",
    "    for lang in whisper_fleurs:\n",
    "        res_scores['whisper_fleurs']+=scores[lang]\n",
    "    res_scores['whisper_fleurs']/=81.0 \n",
    "    \n",
    "    return {\n",
    "      \"Model\":model_name,\n",
    "      \"High (n=15)\" : round(res_scores[\"high_res\"],1),\n",
    "      \"Medium (n=25)\" : round(res_scores[\"mid_res\"],1),\n",
    "      \"Low (n=34)\" : round(res_scores[\"low_res\"],1),\n",
    "      \"Low† (n=23)\" : round(res_scores['low_res2'],1),\n",
    "      \"FLEURS X→eng (n=81)\" : round(res_scores['whisper_fleurs'],1)\n",
    "      \n",
    "\n",
    "    }"
   ]
  },
  {
   "cell_type": "code",
   "execution_count": 22,
   "id": "f7c66f43",
   "metadata": {},
   "outputs": [],
   "source": [
    "score_directory_fleurs='results/fleurs/scores/'\n",
    "re_results=[]\n",
    "#read all the json files\n",
    "for files in os.listdir(score_directory_fleurs):\n",
    "    if files.endswith('.json'):\n",
    "        with open(score_directory_fleurs+files) as f:\n",
    "            scores=json.load(f)\n",
    "        model_name=files.split('.')[0]\n",
    "        re_results.append(resource_level_results_fleurs(scores,model_name))\n",
    "\n",
    "re_results_df=pd.DataFrame(re_results)\n"
   ]
  },
  {
   "cell_type": "code",
   "execution_count": 23,
   "id": "f80cafbc",
   "metadata": {},
   "outputs": [
    {
     "data": {
      "text/html": [
       "<div>\n",
       "<style scoped>\n",
       "    .dataframe tbody tr th:only-of-type {\n",
       "        vertical-align: middle;\n",
       "    }\n",
       "\n",
       "    .dataframe tbody tr th {\n",
       "        vertical-align: top;\n",
       "    }\n",
       "\n",
       "    .dataframe thead th {\n",
       "        text-align: right;\n",
       "    }\n",
       "</style>\n",
       "<table border=\"1\" class=\"dataframe\">\n",
       "  <thead>\n",
       "    <tr style=\"text-align: right;\">\n",
       "      <th></th>\n",
       "      <th>Model</th>\n",
       "      <th>High (n=15)</th>\n",
       "      <th>Medium (n=25)</th>\n",
       "      <th>Low (n=34)</th>\n",
       "      <th>Low† (n=23)</th>\n",
       "      <th>FLEURS X→eng (n=81)</th>\n",
       "    </tr>\n",
       "  </thead>\n",
       "  <tbody>\n",
       "    <tr>\n",
       "      <th>0</th>\n",
       "      <td>Whisper large-v2</td>\n",
       "      <td>23.6</td>\n",
       "      <td>17.3</td>\n",
       "      <td>14.9</td>\n",
       "      <td>17.0</td>\n",
       "      <td>16.7</td>\n",
       "    </tr>\n",
       "    <tr>\n",
       "      <th>1</th>\n",
       "      <td>Seamless large</td>\n",
       "      <td>26.6</td>\n",
       "      <td>24.5</td>\n",
       "      <td>24.9</td>\n",
       "      <td>26.5</td>\n",
       "      <td>23.4</td>\n",
       "    </tr>\n",
       "    <tr>\n",
       "      <th>2</th>\n",
       "      <td>Seamless medium</td>\n",
       "      <td>23.7</td>\n",
       "      <td>21.1</td>\n",
       "      <td>21.7</td>\n",
       "      <td>22.8</td>\n",
       "      <td>20.3</td>\n",
       "    </tr>\n",
       "  </tbody>\n",
       "</table>\n",
       "</div>"
      ],
      "text/plain": [
       "              Model  High (n=15)  Medium (n=25)  Low (n=34)  Low† (n=23)  \\\n",
       "0  Whisper large-v2         23.6           17.3        14.9         17.0   \n",
       "1    Seamless large         26.6           24.5        24.9         26.5   \n",
       "2   Seamless medium         23.7           21.1        21.7         22.8   \n",
       "\n",
       "   FLEURS X→eng (n=81)  \n",
       "0                 16.7  \n",
       "1                 23.4  \n",
       "2                 20.3  "
      ]
     },
     "execution_count": 23,
     "metadata": {},
     "output_type": "execute_result"
    }
   ],
   "source": [
    "re_results_df.to_json('claims/re_fleurs_summary.json',orient='split')\n",
    "re_results_df"
   ]
  },
  {
   "cell_type": "markdown",
   "id": "0e66db00",
   "metadata": {},
   "source": [
    "## Whisper Claim 1"
   ]
  },
  {
   "cell_type": "markdown",
   "id": "11c78e84-79e8-438e-9e77-aad94494dbd6",
   "metadata": {},
   "source": [
    "talk about claims "
   ]
  },
  {
   "cell_type": "code",
   "execution_count": 24,
   "id": "71b2d976-e3ed-4df8-9858-e68aa16c4d91",
   "metadata": {},
   "outputs": [],
   "source": [
    "#read the claim data\n",
    "import pandas as pd\n",
    "claims_df= pd.read_json('claims/whisper_claim_1.json',orient='split')"
   ]
  },
  {
   "cell_type": "code",
   "execution_count": 25,
   "id": "de79392f",
   "metadata": {},
   "outputs": [
    {
     "data": {
      "text/html": [
       "<div>\n",
       "<style scoped>\n",
       "    .dataframe tbody tr th:only-of-type {\n",
       "        vertical-align: middle;\n",
       "    }\n",
       "\n",
       "    .dataframe tbody tr th {\n",
       "        vertical-align: top;\n",
       "    }\n",
       "\n",
       "    .dataframe thead th {\n",
       "        text-align: right;\n",
       "    }\n",
       "</style>\n",
       "<table border=\"1\" class=\"dataframe\">\n",
       "  <thead>\n",
       "    <tr style=\"text-align: right;\">\n",
       "      <th></th>\n",
       "      <th>Model</th>\n",
       "      <th>High</th>\n",
       "      <th>Mid</th>\n",
       "      <th>Low</th>\n",
       "      <th>All</th>\n",
       "    </tr>\n",
       "  </thead>\n",
       "  <tbody>\n",
       "    <tr>\n",
       "      <th>0</th>\n",
       "      <td>XMEF-X</td>\n",
       "      <td>34.2</td>\n",
       "      <td>20.2</td>\n",
       "      <td>5.9</td>\n",
       "      <td>14.7</td>\n",
       "    </tr>\n",
       "    <tr>\n",
       "      <th>1</th>\n",
       "      <td>XLS-R (2B)</td>\n",
       "      <td>36.1</td>\n",
       "      <td>27.7</td>\n",
       "      <td>15.1</td>\n",
       "      <td>22.1</td>\n",
       "    </tr>\n",
       "    <tr>\n",
       "      <th>2</th>\n",
       "      <td>mSLAM-CTC (2B)</td>\n",
       "      <td>37.8</td>\n",
       "      <td>29.6</td>\n",
       "      <td>18.5</td>\n",
       "      <td>24.8</td>\n",
       "    </tr>\n",
       "    <tr>\n",
       "      <th>3</th>\n",
       "      <td>Maestro</td>\n",
       "      <td>38.2</td>\n",
       "      <td>31.3</td>\n",
       "      <td>18.4</td>\n",
       "      <td>25.2</td>\n",
       "    </tr>\n",
       "    <tr>\n",
       "      <th>4</th>\n",
       "      <td>Zero-Shot Whisper</td>\n",
       "      <td>36.2</td>\n",
       "      <td>32.6</td>\n",
       "      <td>25.2</td>\n",
       "      <td>29.1</td>\n",
       "    </tr>\n",
       "  </tbody>\n",
       "</table>\n",
       "</div>"
      ],
      "text/plain": [
       "               Model  High   Mid   Low   All\n",
       "0             XMEF-X  34.2  20.2   5.9  14.7\n",
       "1         XLS-R (2B)  36.1  27.7  15.1  22.1\n",
       "2     mSLAM-CTC (2B)  37.8  29.6  18.5  24.8\n",
       "3            Maestro  38.2  31.3  18.4  25.2\n",
       "4  Zero-Shot Whisper  36.2  32.6  25.2  29.1"
      ]
     },
     "execution_count": 25,
     "metadata": {},
     "output_type": "execute_result"
    }
   ],
   "source": [
    "claims_df"
   ]
  },
  {
   "cell_type": "markdown",
   "id": "fbf678ee-4c75-416b-97e2-38e90f05abd8",
   "metadata": {},
   "source": [
    "talk about summaries"
   ]
  },
  {
   "cell_type": "code",
   "execution_count": 26,
   "id": "74686335",
   "metadata": {},
   "outputs": [
    {
     "data": {
      "text/html": [
       "<div>\n",
       "<style scoped>\n",
       "    .dataframe tbody tr th:only-of-type {\n",
       "        vertical-align: middle;\n",
       "    }\n",
       "\n",
       "    .dataframe tbody tr th {\n",
       "        vertical-align: top;\n",
       "    }\n",
       "\n",
       "    .dataframe thead th {\n",
       "        text-align: right;\n",
       "    }\n",
       "</style>\n",
       "<table border=\"1\" class=\"dataframe\">\n",
       "  <thead>\n",
       "    <tr style=\"text-align: right;\">\n",
       "      <th></th>\n",
       "      <th>Model</th>\n",
       "      <th>High</th>\n",
       "      <th>Mid</th>\n",
       "      <th>Low</th>\n",
       "      <th>All</th>\n",
       "    </tr>\n",
       "  </thead>\n",
       "  <tbody>\n",
       "    <tr>\n",
       "      <th>0</th>\n",
       "      <td>XLS-R (2B)</td>\n",
       "      <td>36.0</td>\n",
       "      <td>27.8</td>\n",
       "      <td>15.4</td>\n",
       "      <td>22.3</td>\n",
       "    </tr>\n",
       "    <tr>\n",
       "      <th>1</th>\n",
       "      <td>Seamless Large</td>\n",
       "      <td>39.3</td>\n",
       "      <td>36.2</td>\n",
       "      <td>31.9</td>\n",
       "      <td>34.3</td>\n",
       "    </tr>\n",
       "    <tr>\n",
       "      <th>2</th>\n",
       "      <td>Whisper Large-v2</td>\n",
       "      <td>35.2</td>\n",
       "      <td>32.6</td>\n",
       "      <td>23.8</td>\n",
       "      <td>28.1</td>\n",
       "    </tr>\n",
       "    <tr>\n",
       "      <th>3</th>\n",
       "      <td>Seamless Medium</td>\n",
       "      <td>37.3</td>\n",
       "      <td>33.6</td>\n",
       "      <td>28.3</td>\n",
       "      <td>31.3</td>\n",
       "    </tr>\n",
       "  </tbody>\n",
       "</table>\n",
       "</div>"
      ],
      "text/plain": [
       "              Model  High   Mid   Low   All\n",
       "0        XLS-R (2B)  36.0  27.8  15.4  22.3\n",
       "1    Seamless Large  39.3  36.2  31.9  34.3\n",
       "2  Whisper Large-v2  35.2  32.6  23.8  28.1\n",
       "3   Seamless Medium  37.3  33.6  28.3  31.3"
      ]
     },
     "execution_count": 26,
     "metadata": {},
     "output_type": "execute_result"
    }
   ],
   "source": [
    "re_results_df= pd.read_json('claims/re_covost_summary.json',orient='split')\n",
    "re_results_df"
   ]
  },
  {
   "cell_type": "markdown",
   "id": "025ff37d",
   "metadata": {},
   "source": [
    "We will now merge the actual claims and reproduced results in Single view using some helper functions."
   ]
  },
  {
   "cell_type": "markdown",
   "id": "498e6e1f",
   "metadata": {},
   "source": [
    "This function adds brackets to values in actual claims table while merging"
   ]
  },
  {
   "cell_type": "code",
   "execution_count": 27,
   "id": "6417077e",
   "metadata": {},
   "outputs": [],
   "source": [
    "def apply_brackets(claims_df, avoid_cols=[\"Model\"]):\n",
    "    df=claims_df.copy()\n",
    "    for col in df.columns:\n",
    "        if col not in avoid_cols:\n",
    "            df[col]=df[col].apply(lambda x: f\"({x})\")\n",
    "    return df"
   ]
  },
  {
   "cell_type": "markdown",
   "id": "88077283",
   "metadata": {},
   "source": [
    "It is obvious that the naming convention for the models changes in every other claim. Thus it becomes important to have a mapping between the model names in the actual claims and the model names in the reproduced results. So, we would need to have a fuzzy matching between the model names in the actual claims and the model names in the reproduced results. This function does that."
   ]
  },
  {
   "cell_type": "code",
   "execution_count": 28,
   "id": "bc6bfe23",
   "metadata": {},
   "outputs": [
    {
     "name": "stdout",
     "output_type": "stream",
     "text": [
      "Collecting fuzzywuzzy==0.18.0\n",
      "  Downloading fuzzywuzzy-0.18.0-py2.py3-none-any.whl (18 kB)\n",
      "Installing collected packages: fuzzywuzzy\n",
      "Successfully installed fuzzywuzzy-0.18.0\n"
     ]
    }
   ],
   "source": [
    "!pip install fuzzywuzzy==0.18.0"
   ]
  },
  {
   "cell_type": "code",
   "execution_count": 29,
   "id": "6a8685c5",
   "metadata": {},
   "outputs": [
    {
     "name": "stderr",
     "output_type": "stream",
     "text": [
      "/opt/conda/lib/python3.10/site-packages/fuzzywuzzy/fuzz.py:11: UserWarning: Using slow pure-python SequenceMatcher. Install python-Levenshtein to remove this warning\n",
      "  warnings.warn('Using slow pure-python SequenceMatcher. Install python-Levenshtein to remove this warning')\n"
     ]
    }
   ],
   "source": [
    "from fuzzywuzzy import process"
   ]
  },
  {
   "cell_type": "code",
   "execution_count": 30,
   "id": "a359a443",
   "metadata": {},
   "outputs": [],
   "source": [
    "def fuzzy_combine_results(claims_df, re_results_df, value_cols=['High', 'Mid', 'Low', 'All'],cut_off=55):\n",
    "    combined_results=claims_df.copy()\n",
    "\n",
    "    # Create a set to keep track of matched models from final_results_df\n",
    "    matched_models = set()\n",
    "\n",
    "    # ensuring that each model from final_results_df is only used once\n",
    "    for index, claim_model in claims_df['Model'].items():\n",
    "\n",
    "        lookup_list=[model for model in re_results_df['Model'] if model not in matched_models]\n",
    "\n",
    "        if not lookup_list:\n",
    "            break\n",
    "\n",
    "        # Extract best match that hasn't been used already\n",
    "        best_match, score = process.extractOne(\n",
    "            claim_model,\n",
    "            lookup_list\n",
    "            \n",
    "        )\n",
    "\n",
    "        # If a good match is found and not already used\n",
    "        if best_match and score >= cut_off:\n",
    "            # Mark this model as matched to prevent further matches\n",
    "            matched_models.add(best_match)\n",
    "\n",
    "            # For each score column, append the final_results value to the claims value\n",
    "            for col in value_cols:\n",
    "                final_value = re_results_df.loc[re_results_df['Model'] == best_match, col].iloc[0]\n",
    "                combined_results.at[index, col] = f\"{final_value} {combined_results.at[index, col]}\"\n",
    "\n",
    "    return combined_results\n",
    "    \n",
    "        "
   ]
  },
  {
   "cell_type": "code",
   "execution_count": 31,
   "id": "8894c7cb",
   "metadata": {},
   "outputs": [
    {
     "data": {
      "text/html": [
       "<div>\n",
       "<style scoped>\n",
       "    .dataframe tbody tr th:only-of-type {\n",
       "        vertical-align: middle;\n",
       "    }\n",
       "\n",
       "    .dataframe tbody tr th {\n",
       "        vertical-align: top;\n",
       "    }\n",
       "\n",
       "    .dataframe thead th {\n",
       "        text-align: right;\n",
       "    }\n",
       "</style>\n",
       "<table border=\"1\" class=\"dataframe\">\n",
       "  <thead>\n",
       "    <tr style=\"text-align: right;\">\n",
       "      <th></th>\n",
       "      <th>Model</th>\n",
       "      <th>High</th>\n",
       "      <th>Mid</th>\n",
       "      <th>Low</th>\n",
       "      <th>All</th>\n",
       "    </tr>\n",
       "  </thead>\n",
       "  <tbody>\n",
       "    <tr>\n",
       "      <th>0</th>\n",
       "      <td>XMEF-X</td>\n",
       "      <td>(34.2)</td>\n",
       "      <td>(20.2)</td>\n",
       "      <td>(5.9)</td>\n",
       "      <td>(14.7)</td>\n",
       "    </tr>\n",
       "    <tr>\n",
       "      <th>1</th>\n",
       "      <td>XLS-R (2B)</td>\n",
       "      <td>36.0 (36.1)</td>\n",
       "      <td>27.8 (27.7)</td>\n",
       "      <td>15.4 (15.1)</td>\n",
       "      <td>22.3 (22.1)</td>\n",
       "    </tr>\n",
       "    <tr>\n",
       "      <th>2</th>\n",
       "      <td>mSLAM-CTC (2B)</td>\n",
       "      <td>(37.8)</td>\n",
       "      <td>(29.6)</td>\n",
       "      <td>(18.5)</td>\n",
       "      <td>(24.8)</td>\n",
       "    </tr>\n",
       "    <tr>\n",
       "      <th>3</th>\n",
       "      <td>Maestro</td>\n",
       "      <td>(38.2)</td>\n",
       "      <td>(31.3)</td>\n",
       "      <td>(18.4)</td>\n",
       "      <td>(25.2)</td>\n",
       "    </tr>\n",
       "    <tr>\n",
       "      <th>4</th>\n",
       "      <td>Zero-Shot Whisper</td>\n",
       "      <td>35.2 (36.2)</td>\n",
       "      <td>32.6 (32.6)</td>\n",
       "      <td>23.8 (25.2)</td>\n",
       "      <td>28.1 (29.1)</td>\n",
       "    </tr>\n",
       "  </tbody>\n",
       "</table>\n",
       "</div>"
      ],
      "text/plain": [
       "               Model         High          Mid          Low          All\n",
       "0             XMEF-X       (34.2)       (20.2)        (5.9)       (14.7)\n",
       "1         XLS-R (2B)  36.0 (36.1)  27.8 (27.7)  15.4 (15.1)  22.3 (22.1)\n",
       "2     mSLAM-CTC (2B)       (37.8)       (29.6)       (18.5)       (24.8)\n",
       "3            Maestro       (38.2)       (31.3)       (18.4)       (25.2)\n",
       "4  Zero-Shot Whisper  35.2 (36.2)  32.6 (32.6)  23.8 (25.2)  28.1 (29.1)"
      ]
     },
     "execution_count": 31,
     "metadata": {},
     "output_type": "execute_result"
    }
   ],
   "source": [
    "merged_df=fuzzy_combine_results(apply_brackets(claims_df), re_results_df)\n",
    "merged_df"
   ]
  },
  {
   "cell_type": "code",
   "execution_count": 32,
   "id": "0d51d092",
   "metadata": {},
   "outputs": [],
   "source": [
    "merged_df.to_json('claims/re_whisper_claim_1.json',orient='split')"
   ]
  },
  {
   "cell_type": "markdown",
   "id": "832752ba",
   "metadata": {},
   "source": [
    "## Seamless Claim 1"
   ]
  },
  {
   "cell_type": "code",
   "execution_count": 33,
   "id": "d44d5797",
   "metadata": {},
   "outputs": [],
   "source": [
    "#read the claim data\n",
    "claims_df= pd.read_json('claims/seamless_claim_1.json',orient='split')"
   ]
  },
  {
   "cell_type": "code",
   "execution_count": 34,
   "id": "381f5c08",
   "metadata": {},
   "outputs": [
    {
     "data": {
      "text/html": [
       "<div>\n",
       "<style scoped>\n",
       "    .dataframe tbody tr th:only-of-type {\n",
       "        vertical-align: middle;\n",
       "    }\n",
       "\n",
       "    .dataframe tbody tr th {\n",
       "        vertical-align: top;\n",
       "    }\n",
       "\n",
       "    .dataframe thead th {\n",
       "        text-align: right;\n",
       "    }\n",
       "</style>\n",
       "<table border=\"1\" class=\"dataframe\">\n",
       "  <thead>\n",
       "    <tr style=\"text-align: right;\">\n",
       "      <th></th>\n",
       "      <th>Model</th>\n",
       "      <th>size</th>\n",
       "      <th>FLEURS X→eng (n=81)</th>\n",
       "      <th>FLEURS eng→X (n=88)</th>\n",
       "      <th>CoVoST 2 X→eng (n=21)</th>\n",
       "      <th>CoVoST 2 eng→X (n=15)</th>\n",
       "    </tr>\n",
       "  </thead>\n",
       "  <tbody>\n",
       "    <tr>\n",
       "      <th>0</th>\n",
       "      <td>XLS-R-2B-S2T</td>\n",
       "      <td>2.6B</td>\n",
       "      <td></td>\n",
       "      <td>x</td>\n",
       "      <td>22.1</td>\n",
       "      <td>27.8</td>\n",
       "    </tr>\n",
       "    <tr>\n",
       "      <th>1</th>\n",
       "      <td>WHISPER-LARGE-v2</td>\n",
       "      <td>1.5B</td>\n",
       "      <td>17.9</td>\n",
       "      <td>x</td>\n",
       "      <td>29.1</td>\n",
       "      <td>x</td>\n",
       "    </tr>\n",
       "    <tr>\n",
       "      <th>2</th>\n",
       "      <td>AUDIOPaLM-2-8B-AST</td>\n",
       "      <td>8.0B</td>\n",
       "      <td>19.7</td>\n",
       "      <td>x</td>\n",
       "      <td>37.8</td>\n",
       "      <td>x</td>\n",
       "    </tr>\n",
       "    <tr>\n",
       "      <th>3</th>\n",
       "      <td>SEAMLESSM4T-MEDIUM</td>\n",
       "      <td>1.2B</td>\n",
       "      <td>20.9</td>\n",
       "      <td>19.2</td>\n",
       "      <td>29.8</td>\n",
       "      <td>26.6</td>\n",
       "    </tr>\n",
       "    <tr>\n",
       "      <th>4</th>\n",
       "      <td>SEAMLESSM4T-LARGE</td>\n",
       "      <td>2.3B</td>\n",
       "      <td>24.0</td>\n",
       "      <td>21.5</td>\n",
       "      <td>34.1</td>\n",
       "      <td>30.6</td>\n",
       "    </tr>\n",
       "  </tbody>\n",
       "</table>\n",
       "</div>"
      ],
      "text/plain": [
       "                Model  size FLEURS X→eng (n=81) FLEURS eng→X (n=88)  \\\n",
       "0        XLS-R-2B-S2T  2.6B                                       x   \n",
       "1    WHISPER-LARGE-v2  1.5B                17.9                   x   \n",
       "2  AUDIOPaLM-2-8B-AST  8.0B                19.7                   x   \n",
       "3  SEAMLESSM4T-MEDIUM  1.2B                20.9                19.2   \n",
       "4   SEAMLESSM4T-LARGE  2.3B                24.0                21.5   \n",
       "\n",
       "   CoVoST 2 X→eng (n=21) CoVoST 2 eng→X (n=15)  \n",
       "0                   22.1                  27.8  \n",
       "1                   29.1                     x  \n",
       "2                   37.8                     x  \n",
       "3                   29.8                  26.6  \n",
       "4                   34.1                  30.6  "
      ]
     },
     "execution_count": 34,
     "metadata": {},
     "output_type": "execute_result"
    }
   ],
   "source": [
    "claims_df"
   ]
  },
  {
   "cell_type": "markdown",
   "id": "40230ef1",
   "metadata": {},
   "source": [
    "#### CoVoST2 X→eng related entries"
   ]
  },
  {
   "cell_type": "code",
   "execution_count": 35,
   "id": "10f80ded",
   "metadata": {},
   "outputs": [
    {
     "data": {
      "text/html": [
       "<div>\n",
       "<style scoped>\n",
       "    .dataframe tbody tr th:only-of-type {\n",
       "        vertical-align: middle;\n",
       "    }\n",
       "\n",
       "    .dataframe tbody tr th {\n",
       "        vertical-align: top;\n",
       "    }\n",
       "\n",
       "    .dataframe thead th {\n",
       "        text-align: right;\n",
       "    }\n",
       "</style>\n",
       "<table border=\"1\" class=\"dataframe\">\n",
       "  <thead>\n",
       "    <tr style=\"text-align: right;\">\n",
       "      <th></th>\n",
       "      <th>Model</th>\n",
       "      <th>High</th>\n",
       "      <th>Mid</th>\n",
       "      <th>Low</th>\n",
       "      <th>All</th>\n",
       "    </tr>\n",
       "  </thead>\n",
       "  <tbody>\n",
       "    <tr>\n",
       "      <th>0</th>\n",
       "      <td>XLS-R (2B)</td>\n",
       "      <td>36.0</td>\n",
       "      <td>27.8</td>\n",
       "      <td>15.4</td>\n",
       "      <td>22.3</td>\n",
       "    </tr>\n",
       "    <tr>\n",
       "      <th>1</th>\n",
       "      <td>Seamless Large</td>\n",
       "      <td>39.3</td>\n",
       "      <td>36.2</td>\n",
       "      <td>31.9</td>\n",
       "      <td>34.3</td>\n",
       "    </tr>\n",
       "    <tr>\n",
       "      <th>2</th>\n",
       "      <td>Whisper Large-v2</td>\n",
       "      <td>35.2</td>\n",
       "      <td>32.6</td>\n",
       "      <td>23.8</td>\n",
       "      <td>28.1</td>\n",
       "    </tr>\n",
       "    <tr>\n",
       "      <th>3</th>\n",
       "      <td>Seamless Medium</td>\n",
       "      <td>37.3</td>\n",
       "      <td>33.6</td>\n",
       "      <td>28.3</td>\n",
       "      <td>31.3</td>\n",
       "    </tr>\n",
       "  </tbody>\n",
       "</table>\n",
       "</div>"
      ],
      "text/plain": [
       "              Model  High   Mid   Low   All\n",
       "0        XLS-R (2B)  36.0  27.8  15.4  22.3\n",
       "1    Seamless Large  39.3  36.2  31.9  34.3\n",
       "2  Whisper Large-v2  35.2  32.6  23.8  28.1\n",
       "3   Seamless Medium  37.3  33.6  28.3  31.3"
      ]
     },
     "execution_count": 35,
     "metadata": {},
     "output_type": "execute_result"
    }
   ],
   "source": [
    "re_results_df=pd.read_json('claims/re_covost_summary.json',orient='split')\n",
    "re_results_df"
   ]
  },
  {
   "cell_type": "code",
   "execution_count": 36,
   "id": "62047ba6",
   "metadata": {},
   "outputs": [
    {
     "name": "stderr",
     "output_type": "stream",
     "text": [
      "/tmp/ipykernel_123/2281868353.py:4: SettingWithCopyWarning: \n",
      "A value is trying to be set on a copy of a slice from a DataFrame\n",
      "\n",
      "See the caveats in the documentation: https://pandas.pydata.org/pandas-docs/stable/user_guide/indexing.html#returning-a-view-versus-a-copy\n",
      "  re_results_df.rename(columns = {'All':'CoVoST 2 X→eng (n=21)'}, inplace = True)\n"
     ]
    },
    {
     "data": {
      "text/html": [
       "<div>\n",
       "<style scoped>\n",
       "    .dataframe tbody tr th:only-of-type {\n",
       "        vertical-align: middle;\n",
       "    }\n",
       "\n",
       "    .dataframe tbody tr th {\n",
       "        vertical-align: top;\n",
       "    }\n",
       "\n",
       "    .dataframe thead th {\n",
       "        text-align: right;\n",
       "    }\n",
       "</style>\n",
       "<table border=\"1\" class=\"dataframe\">\n",
       "  <thead>\n",
       "    <tr style=\"text-align: right;\">\n",
       "      <th></th>\n",
       "      <th>Model</th>\n",
       "      <th>CoVoST 2 X→eng (n=21)</th>\n",
       "    </tr>\n",
       "  </thead>\n",
       "  <tbody>\n",
       "    <tr>\n",
       "      <th>0</th>\n",
       "      <td>XLS-R (2B)</td>\n",
       "      <td>22.3</td>\n",
       "    </tr>\n",
       "    <tr>\n",
       "      <th>1</th>\n",
       "      <td>Seamless Large</td>\n",
       "      <td>34.3</td>\n",
       "    </tr>\n",
       "    <tr>\n",
       "      <th>2</th>\n",
       "      <td>Whisper Large-v2</td>\n",
       "      <td>28.1</td>\n",
       "    </tr>\n",
       "    <tr>\n",
       "      <th>3</th>\n",
       "      <td>Seamless Medium</td>\n",
       "      <td>31.3</td>\n",
       "    </tr>\n",
       "  </tbody>\n",
       "</table>\n",
       "</div>"
      ],
      "text/plain": [
       "              Model  CoVoST 2 X→eng (n=21)\n",
       "0        XLS-R (2B)                   22.3\n",
       "1    Seamless Large                   34.3\n",
       "2  Whisper Large-v2                   28.1\n",
       "3   Seamless Medium                   31.3"
      ]
     },
     "execution_count": 36,
     "metadata": {},
     "output_type": "execute_result"
    }
   ],
   "source": [
    "#keep only Model and All columns and rename All column to CoVoST 2 X→eng (n=21)\n",
    "\n",
    "re_results_df=re_results_df[['Model','All']]\n",
    "re_results_df.rename(columns = {'All':'CoVoST 2 X→eng (n=21)'}, inplace = True)\n",
    "\n",
    "re_results_df"
   ]
  },
  {
   "cell_type": "code",
   "execution_count": 37,
   "id": "a32b0b7d",
   "metadata": {},
   "outputs": [],
   "source": [
    "merged_df=fuzzy_combine_results(apply_brackets(claims_df,[\"Model\",\"size\"]), re_results_df,value_cols=['CoVoST 2 X→eng (n=21)'])"
   ]
  },
  {
   "cell_type": "code",
   "execution_count": 38,
   "id": "452730a1",
   "metadata": {},
   "outputs": [
    {
     "data": {
      "text/html": [
       "<div>\n",
       "<style scoped>\n",
       "    .dataframe tbody tr th:only-of-type {\n",
       "        vertical-align: middle;\n",
       "    }\n",
       "\n",
       "    .dataframe tbody tr th {\n",
       "        vertical-align: top;\n",
       "    }\n",
       "\n",
       "    .dataframe thead th {\n",
       "        text-align: right;\n",
       "    }\n",
       "</style>\n",
       "<table border=\"1\" class=\"dataframe\">\n",
       "  <thead>\n",
       "    <tr style=\"text-align: right;\">\n",
       "      <th></th>\n",
       "      <th>Model</th>\n",
       "      <th>size</th>\n",
       "      <th>FLEURS X→eng (n=81)</th>\n",
       "      <th>FLEURS eng→X (n=88)</th>\n",
       "      <th>CoVoST 2 X→eng (n=21)</th>\n",
       "      <th>CoVoST 2 eng→X (n=15)</th>\n",
       "    </tr>\n",
       "  </thead>\n",
       "  <tbody>\n",
       "    <tr>\n",
       "      <th>0</th>\n",
       "      <td>XLS-R-2B-S2T</td>\n",
       "      <td>2.6B</td>\n",
       "      <td>()</td>\n",
       "      <td>(x)</td>\n",
       "      <td>22.3 (22.1)</td>\n",
       "      <td>(27.8)</td>\n",
       "    </tr>\n",
       "    <tr>\n",
       "      <th>1</th>\n",
       "      <td>WHISPER-LARGE-v2</td>\n",
       "      <td>1.5B</td>\n",
       "      <td>(17.9)</td>\n",
       "      <td>(x)</td>\n",
       "      <td>28.1 (29.1)</td>\n",
       "      <td>(x)</td>\n",
       "    </tr>\n",
       "    <tr>\n",
       "      <th>2</th>\n",
       "      <td>AUDIOPaLM-2-8B-AST</td>\n",
       "      <td>8.0B</td>\n",
       "      <td>(19.7)</td>\n",
       "      <td>(x)</td>\n",
       "      <td>(37.8)</td>\n",
       "      <td>(x)</td>\n",
       "    </tr>\n",
       "    <tr>\n",
       "      <th>3</th>\n",
       "      <td>SEAMLESSM4T-MEDIUM</td>\n",
       "      <td>1.2B</td>\n",
       "      <td>(20.9)</td>\n",
       "      <td>(19.2)</td>\n",
       "      <td>31.3 (29.8)</td>\n",
       "      <td>(26.6)</td>\n",
       "    </tr>\n",
       "    <tr>\n",
       "      <th>4</th>\n",
       "      <td>SEAMLESSM4T-LARGE</td>\n",
       "      <td>2.3B</td>\n",
       "      <td>(24.0)</td>\n",
       "      <td>(21.5)</td>\n",
       "      <td>34.3 (34.1)</td>\n",
       "      <td>(30.6)</td>\n",
       "    </tr>\n",
       "  </tbody>\n",
       "</table>\n",
       "</div>"
      ],
      "text/plain": [
       "                Model  size FLEURS X→eng (n=81) FLEURS eng→X (n=88)  \\\n",
       "0        XLS-R-2B-S2T  2.6B                  ()                 (x)   \n",
       "1    WHISPER-LARGE-v2  1.5B              (17.9)                 (x)   \n",
       "2  AUDIOPaLM-2-8B-AST  8.0B              (19.7)                 (x)   \n",
       "3  SEAMLESSM4T-MEDIUM  1.2B              (20.9)              (19.2)   \n",
       "4   SEAMLESSM4T-LARGE  2.3B              (24.0)              (21.5)   \n",
       "\n",
       "  CoVoST 2 X→eng (n=21) CoVoST 2 eng→X (n=15)  \n",
       "0           22.3 (22.1)                (27.8)  \n",
       "1           28.1 (29.1)                   (x)  \n",
       "2                (37.8)                   (x)  \n",
       "3           31.3 (29.8)                (26.6)  \n",
       "4           34.3 (34.1)                (30.6)  "
      ]
     },
     "execution_count": 38,
     "metadata": {},
     "output_type": "execute_result"
    }
   ],
   "source": [
    "merged_df"
   ]
  },
  {
   "cell_type": "markdown",
   "id": "5c6cb507",
   "metadata": {},
   "source": [
    "#### Fleurs related entries"
   ]
  },
  {
   "cell_type": "code",
   "execution_count": 39,
   "id": "42468e5b",
   "metadata": {},
   "outputs": [
    {
     "data": {
      "text/html": [
       "<div>\n",
       "<style scoped>\n",
       "    .dataframe tbody tr th:only-of-type {\n",
       "        vertical-align: middle;\n",
       "    }\n",
       "\n",
       "    .dataframe tbody tr th {\n",
       "        vertical-align: top;\n",
       "    }\n",
       "\n",
       "    .dataframe thead th {\n",
       "        text-align: right;\n",
       "    }\n",
       "</style>\n",
       "<table border=\"1\" class=\"dataframe\">\n",
       "  <thead>\n",
       "    <tr style=\"text-align: right;\">\n",
       "      <th></th>\n",
       "      <th>Model</th>\n",
       "      <th>FLEURS X→eng (n=81)</th>\n",
       "    </tr>\n",
       "  </thead>\n",
       "  <tbody>\n",
       "    <tr>\n",
       "      <th>0</th>\n",
       "      <td>Whisper large-v2</td>\n",
       "      <td>16.7</td>\n",
       "    </tr>\n",
       "    <tr>\n",
       "      <th>1</th>\n",
       "      <td>Seamless large</td>\n",
       "      <td>23.4</td>\n",
       "    </tr>\n",
       "    <tr>\n",
       "      <th>2</th>\n",
       "      <td>Seamless medium</td>\n",
       "      <td>20.3</td>\n",
       "    </tr>\n",
       "  </tbody>\n",
       "</table>\n",
       "</div>"
      ],
      "text/plain": [
       "              Model  FLEURS X→eng (n=81)\n",
       "0  Whisper large-v2                 16.7\n",
       "1    Seamless large                 23.4\n",
       "2   Seamless medium                 20.3"
      ]
     },
     "execution_count": 39,
     "metadata": {},
     "output_type": "execute_result"
    }
   ],
   "source": [
    "re_results_df= pd.read_json('claims/re_fleurs_summary.json',orient='split')\n",
    "re_results_df=re_results_df[['Model','FLEURS X→eng (n=81)']]\n",
    "\n",
    "re_results_df"
   ]
  },
  {
   "cell_type": "code",
   "execution_count": 40,
   "id": "25fbd9fc",
   "metadata": {},
   "outputs": [
    {
     "data": {
      "text/html": [
       "<div>\n",
       "<style scoped>\n",
       "    .dataframe tbody tr th:only-of-type {\n",
       "        vertical-align: middle;\n",
       "    }\n",
       "\n",
       "    .dataframe tbody tr th {\n",
       "        vertical-align: top;\n",
       "    }\n",
       "\n",
       "    .dataframe thead th {\n",
       "        text-align: right;\n",
       "    }\n",
       "</style>\n",
       "<table border=\"1\" class=\"dataframe\">\n",
       "  <thead>\n",
       "    <tr style=\"text-align: right;\">\n",
       "      <th></th>\n",
       "      <th>Model</th>\n",
       "      <th>size</th>\n",
       "      <th>FLEURS X→eng (n=81)</th>\n",
       "      <th>FLEURS eng→X (n=88)</th>\n",
       "      <th>CoVoST 2 X→eng (n=21)</th>\n",
       "      <th>CoVoST 2 eng→X (n=15)</th>\n",
       "    </tr>\n",
       "  </thead>\n",
       "  <tbody>\n",
       "    <tr>\n",
       "      <th>0</th>\n",
       "      <td>XLS-R-2B-S2T</td>\n",
       "      <td>2.6B</td>\n",
       "      <td>()</td>\n",
       "      <td>(x)</td>\n",
       "      <td>22.3 (22.1)</td>\n",
       "      <td>(27.8)</td>\n",
       "    </tr>\n",
       "    <tr>\n",
       "      <th>1</th>\n",
       "      <td>WHISPER-LARGE-v2</td>\n",
       "      <td>1.5B</td>\n",
       "      <td>16.7 (17.9)</td>\n",
       "      <td>(x)</td>\n",
       "      <td>28.1 (29.1)</td>\n",
       "      <td>(x)</td>\n",
       "    </tr>\n",
       "    <tr>\n",
       "      <th>2</th>\n",
       "      <td>AUDIOPaLM-2-8B-AST</td>\n",
       "      <td>8.0B</td>\n",
       "      <td>(19.7)</td>\n",
       "      <td>(x)</td>\n",
       "      <td>(37.8)</td>\n",
       "      <td>(x)</td>\n",
       "    </tr>\n",
       "    <tr>\n",
       "      <th>3</th>\n",
       "      <td>SEAMLESSM4T-MEDIUM</td>\n",
       "      <td>1.2B</td>\n",
       "      <td>20.3 (20.9)</td>\n",
       "      <td>(19.2)</td>\n",
       "      <td>31.3 (29.8)</td>\n",
       "      <td>(26.6)</td>\n",
       "    </tr>\n",
       "    <tr>\n",
       "      <th>4</th>\n",
       "      <td>SEAMLESSM4T-LARGE</td>\n",
       "      <td>2.3B</td>\n",
       "      <td>23.4 (24.0)</td>\n",
       "      <td>(21.5)</td>\n",
       "      <td>34.3 (34.1)</td>\n",
       "      <td>(30.6)</td>\n",
       "    </tr>\n",
       "  </tbody>\n",
       "</table>\n",
       "</div>"
      ],
      "text/plain": [
       "                Model  size FLEURS X→eng (n=81) FLEURS eng→X (n=88)  \\\n",
       "0        XLS-R-2B-S2T  2.6B                  ()                 (x)   \n",
       "1    WHISPER-LARGE-v2  1.5B         16.7 (17.9)                 (x)   \n",
       "2  AUDIOPaLM-2-8B-AST  8.0B              (19.7)                 (x)   \n",
       "3  SEAMLESSM4T-MEDIUM  1.2B         20.3 (20.9)              (19.2)   \n",
       "4   SEAMLESSM4T-LARGE  2.3B         23.4 (24.0)              (21.5)   \n",
       "\n",
       "  CoVoST 2 X→eng (n=21) CoVoST 2 eng→X (n=15)  \n",
       "0           22.3 (22.1)                (27.8)  \n",
       "1           28.1 (29.1)                   (x)  \n",
       "2                (37.8)                   (x)  \n",
       "3           31.3 (29.8)                (26.6)  \n",
       "4           34.3 (34.1)                (30.6)  "
      ]
     },
     "execution_count": 40,
     "metadata": {},
     "output_type": "execute_result"
    }
   ],
   "source": [
    "merged_df2=fuzzy_combine_results(merged_df, re_results_df,value_cols=['FLEURS X→eng (n=81)'])\n",
    "merged_df2"
   ]
  },
  {
   "cell_type": "markdown",
   "id": "745ab496",
   "metadata": {},
   "source": [
    "## Seamless Claim 2"
   ]
  },
  {
   "cell_type": "code",
   "execution_count": 41,
   "id": "624bb162",
   "metadata": {},
   "outputs": [
    {
     "data": {
      "text/html": [
       "<div>\n",
       "<style scoped>\n",
       "    .dataframe tbody tr th:only-of-type {\n",
       "        vertical-align: middle;\n",
       "    }\n",
       "\n",
       "    .dataframe tbody tr th {\n",
       "        vertical-align: top;\n",
       "    }\n",
       "\n",
       "    .dataframe thead th {\n",
       "        text-align: right;\n",
       "    }\n",
       "</style>\n",
       "<table border=\"1\" class=\"dataframe\">\n",
       "  <thead>\n",
       "    <tr style=\"text-align: right;\">\n",
       "      <th></th>\n",
       "      <th>Model</th>\n",
       "      <th>High (n=15)</th>\n",
       "      <th>Medium (n=25)</th>\n",
       "      <th>Low (n=34)</th>\n",
       "      <th>Low† (n=23)</th>\n",
       "    </tr>\n",
       "  </thead>\n",
       "  <tbody>\n",
       "    <tr>\n",
       "      <th>0</th>\n",
       "      <td>WHISPER-LARGE-v2</td>\n",
       "      <td>24.2</td>\n",
       "      <td>19.4</td>\n",
       "      <td>16.1</td>\n",
       "      <td>18.1</td>\n",
       "    </tr>\n",
       "    <tr>\n",
       "      <th>1</th>\n",
       "      <td>AUDIOPALM-2-8B-AST</td>\n",
       "      <td>27.9</td>\n",
       "      <td>20.9</td>\n",
       "      <td>18.0</td>\n",
       "      <td>22.0</td>\n",
       "    </tr>\n",
       "    <tr>\n",
       "      <th>2</th>\n",
       "      <td>SEAMLESSM4T-MEDIUM</td>\n",
       "      <td>23.9</td>\n",
       "      <td>21.8</td>\n",
       "      <td>22.2</td>\n",
       "      <td>23.5</td>\n",
       "    </tr>\n",
       "    <tr>\n",
       "      <th>3</th>\n",
       "      <td>SEAMLESSM4T-LARGE</td>\n",
       "      <td>26.9</td>\n",
       "      <td>25.2</td>\n",
       "      <td>25.4</td>\n",
       "      <td>27.0</td>\n",
       "    </tr>\n",
       "  </tbody>\n",
       "</table>\n",
       "</div>"
      ],
      "text/plain": [
       "                Model  High (n=15)  Medium (n=25)  Low (n=34)  Low† (n=23)\n",
       "0    WHISPER-LARGE-v2         24.2           19.4        16.1         18.1\n",
       "1  AUDIOPALM-2-8B-AST         27.9           20.9        18.0         22.0\n",
       "2  SEAMLESSM4T-MEDIUM         23.9           21.8        22.2         23.5\n",
       "3   SEAMLESSM4T-LARGE         26.9           25.2        25.4         27.0"
      ]
     },
     "execution_count": 41,
     "metadata": {},
     "output_type": "execute_result"
    }
   ],
   "source": [
    "claim_df= pd.read_json('claims/seamless_claim_2.json',orient='split')\n",
    "claim_df"
   ]
  },
  {
   "cell_type": "code",
   "execution_count": 42,
   "id": "4680cf7f",
   "metadata": {},
   "outputs": [],
   "source": [
    "re_results_df=pd.read_json('claims/re_fleurs_summary.json',orient='split')"
   ]
  },
  {
   "cell_type": "code",
   "execution_count": 43,
   "id": "dae43d83",
   "metadata": {},
   "outputs": [
    {
     "data": {
      "text/html": [
       "<div>\n",
       "<style scoped>\n",
       "    .dataframe tbody tr th:only-of-type {\n",
       "        vertical-align: middle;\n",
       "    }\n",
       "\n",
       "    .dataframe tbody tr th {\n",
       "        vertical-align: top;\n",
       "    }\n",
       "\n",
       "    .dataframe thead th {\n",
       "        text-align: right;\n",
       "    }\n",
       "</style>\n",
       "<table border=\"1\" class=\"dataframe\">\n",
       "  <thead>\n",
       "    <tr style=\"text-align: right;\">\n",
       "      <th></th>\n",
       "      <th>Model</th>\n",
       "      <th>High (n=15)</th>\n",
       "      <th>Medium (n=25)</th>\n",
       "      <th>Low (n=34)</th>\n",
       "      <th>Low† (n=23)</th>\n",
       "    </tr>\n",
       "  </thead>\n",
       "  <tbody>\n",
       "    <tr>\n",
       "      <th>0</th>\n",
       "      <td>WHISPER-LARGE-v2</td>\n",
       "      <td>23.6 (24.2)</td>\n",
       "      <td>17.3 (19.4)</td>\n",
       "      <td>14.9 (16.1)</td>\n",
       "      <td>17.0 (18.1)</td>\n",
       "    </tr>\n",
       "    <tr>\n",
       "      <th>1</th>\n",
       "      <td>AUDIOPALM-2-8B-AST</td>\n",
       "      <td>(27.9)</td>\n",
       "      <td>(20.9)</td>\n",
       "      <td>(18.0)</td>\n",
       "      <td>(22.0)</td>\n",
       "    </tr>\n",
       "    <tr>\n",
       "      <th>2</th>\n",
       "      <td>SEAMLESSM4T-MEDIUM</td>\n",
       "      <td>23.7 (23.9)</td>\n",
       "      <td>21.1 (21.8)</td>\n",
       "      <td>21.7 (22.2)</td>\n",
       "      <td>22.8 (23.5)</td>\n",
       "    </tr>\n",
       "    <tr>\n",
       "      <th>3</th>\n",
       "      <td>SEAMLESSM4T-LARGE</td>\n",
       "      <td>26.6 (26.9)</td>\n",
       "      <td>24.5 (25.2)</td>\n",
       "      <td>24.9 (25.4)</td>\n",
       "      <td>26.5 (27.0)</td>\n",
       "    </tr>\n",
       "  </tbody>\n",
       "</table>\n",
       "</div>"
      ],
      "text/plain": [
       "                Model  High (n=15) Medium (n=25)   Low (n=34)  Low† (n=23)\n",
       "0    WHISPER-LARGE-v2  23.6 (24.2)   17.3 (19.4)  14.9 (16.1)  17.0 (18.1)\n",
       "1  AUDIOPALM-2-8B-AST       (27.9)        (20.9)       (18.0)       (22.0)\n",
       "2  SEAMLESSM4T-MEDIUM  23.7 (23.9)   21.1 (21.8)  21.7 (22.2)  22.8 (23.5)\n",
       "3   SEAMLESSM4T-LARGE  26.6 (26.9)   24.5 (25.2)  24.9 (25.4)  26.5 (27.0)"
      ]
     },
     "execution_count": 43,
     "metadata": {},
     "output_type": "execute_result"
    }
   ],
   "source": [
    "merged_df=fuzzy_combine_results(apply_brackets(claim_df), re_results_df,value_cols=['High (n=15)', 'Medium (n=25)', 'Low (n=34)', 'Low† (n=23)'])\n",
    "merged_df"
   ]
  },
  {
   "cell_type": "markdown",
   "id": "c76d94af",
   "metadata": {},
   "source": [
    "## Seamless Claim 3\n"
   ]
  },
  {
   "cell_type": "code",
   "execution_count": 44,
   "id": "e284d753",
   "metadata": {},
   "outputs": [
    {
     "data": {
      "text/html": [
       "<div>\n",
       "<style scoped>\n",
       "    .dataframe tbody tr th:only-of-type {\n",
       "        vertical-align: middle;\n",
       "    }\n",
       "\n",
       "    .dataframe tbody tr th {\n",
       "        vertical-align: top;\n",
       "    }\n",
       "\n",
       "    .dataframe thead th {\n",
       "        text-align: right;\n",
       "    }\n",
       "</style>\n",
       "<table border=\"1\" class=\"dataframe\">\n",
       "  <thead>\n",
       "    <tr style=\"text-align: right;\">\n",
       "      <th></th>\n",
       "      <th>Model</th>\n",
       "      <th>type</th>\n",
       "      <th>size</th>\n",
       "      <th>X-eng (n=81)</th>\n",
       "      <th>eng-X (n=88)</th>\n",
       "    </tr>\n",
       "  </thead>\n",
       "  <tbody>\n",
       "    <tr>\n",
       "      <th>0</th>\n",
       "      <td>WHISPER-MEDIUM (ASR) + NLLB-1.3B</td>\n",
       "      <td>cascaded</td>\n",
       "      <td>2B</td>\n",
       "      <td>19.7</td>\n",
       "      <td>20.5</td>\n",
       "    </tr>\n",
       "    <tr>\n",
       "      <th>1</th>\n",
       "      <td>WHISPER-MEDIUM (ASR) + NLLB-3.3B</td>\n",
       "      <td>cascaded</td>\n",
       "      <td>4B</td>\n",
       "      <td>20.4</td>\n",
       "      <td>21.8</td>\n",
       "    </tr>\n",
       "    <tr>\n",
       "      <th>2</th>\n",
       "      <td>WHISPER-LARGE-v2 (ASR) + NLLB-1.3B</td>\n",
       "      <td>cascaded</td>\n",
       "      <td>2.8B</td>\n",
       "      <td>22.0</td>\n",
       "      <td>21.0</td>\n",
       "    </tr>\n",
       "    <tr>\n",
       "      <th>3</th>\n",
       "      <td>WHISPER-LARGE-v2 (ASR) + NLLB-3.3B</td>\n",
       "      <td>cascaded</td>\n",
       "      <td>4.8B</td>\n",
       "      <td>22.7</td>\n",
       "      <td>22.2</td>\n",
       "    </tr>\n",
       "    <tr>\n",
       "      <th>4</th>\n",
       "      <td>WHISPER-LARGE-v2</td>\n",
       "      <td>direct</td>\n",
       "      <td>1.5B</td>\n",
       "      <td>17.9</td>\n",
       "      <td>-</td>\n",
       "    </tr>\n",
       "    <tr>\n",
       "      <th>5</th>\n",
       "      <td>AudioPaLM-2-8B-AST</td>\n",
       "      <td>direct</td>\n",
       "      <td>8B</td>\n",
       "      <td>19.7</td>\n",
       "      <td>-</td>\n",
       "    </tr>\n",
       "    <tr>\n",
       "      <th>6</th>\n",
       "      <td>SEAMLESSM4T-MEDIUM</td>\n",
       "      <td>direct</td>\n",
       "      <td>1B</td>\n",
       "      <td>20.9</td>\n",
       "      <td>19.2</td>\n",
       "    </tr>\n",
       "    <tr>\n",
       "      <th>7</th>\n",
       "      <td>SEAMLESSM4T-LARGE</td>\n",
       "      <td>direct</td>\n",
       "      <td>2B</td>\n",
       "      <td>24.0</td>\n",
       "      <td>21.5</td>\n",
       "    </tr>\n",
       "  </tbody>\n",
       "</table>\n",
       "</div>"
      ],
      "text/plain": [
       "                                Model      type  size  X-eng (n=81)  \\\n",
       "0    WHISPER-MEDIUM (ASR) + NLLB-1.3B  cascaded    2B          19.7   \n",
       "1    WHISPER-MEDIUM (ASR) + NLLB-3.3B  cascaded    4B          20.4   \n",
       "2  WHISPER-LARGE-v2 (ASR) + NLLB-1.3B  cascaded  2.8B          22.0   \n",
       "3  WHISPER-LARGE-v2 (ASR) + NLLB-3.3B  cascaded  4.8B          22.7   \n",
       "4                    WHISPER-LARGE-v2    direct  1.5B          17.9   \n",
       "5                  AudioPaLM-2-8B-AST    direct    8B          19.7   \n",
       "6                  SEAMLESSM4T-MEDIUM    direct    1B          20.9   \n",
       "7                   SEAMLESSM4T-LARGE    direct    2B          24.0   \n",
       "\n",
       "  eng-X (n=88)  \n",
       "0         20.5  \n",
       "1         21.8  \n",
       "2         21.0  \n",
       "3         22.2  \n",
       "4            -  \n",
       "5            -  \n",
       "6         19.2  \n",
       "7         21.5  "
      ]
     },
     "execution_count": 44,
     "metadata": {},
     "output_type": "execute_result"
    }
   ],
   "source": [
    "claim_df=pd.read_json('claims/seamless_claim_3.json',orient='split')\n",
    "claim_df"
   ]
  },
  {
   "cell_type": "code",
   "execution_count": 45,
   "id": "f08a2f0c",
   "metadata": {},
   "outputs": [
    {
     "data": {
      "text/html": [
       "<div>\n",
       "<style scoped>\n",
       "    .dataframe tbody tr th:only-of-type {\n",
       "        vertical-align: middle;\n",
       "    }\n",
       "\n",
       "    .dataframe tbody tr th {\n",
       "        vertical-align: top;\n",
       "    }\n",
       "\n",
       "    .dataframe thead th {\n",
       "        text-align: right;\n",
       "    }\n",
       "</style>\n",
       "<table border=\"1\" class=\"dataframe\">\n",
       "  <thead>\n",
       "    <tr style=\"text-align: right;\">\n",
       "      <th></th>\n",
       "      <th>Model</th>\n",
       "      <th>X-eng (n=81)</th>\n",
       "    </tr>\n",
       "  </thead>\n",
       "  <tbody>\n",
       "    <tr>\n",
       "      <th>0</th>\n",
       "      <td>Whisper large-v2</td>\n",
       "      <td>16.7</td>\n",
       "    </tr>\n",
       "    <tr>\n",
       "      <th>1</th>\n",
       "      <td>Seamless large</td>\n",
       "      <td>23.4</td>\n",
       "    </tr>\n",
       "    <tr>\n",
       "      <th>2</th>\n",
       "      <td>Seamless medium</td>\n",
       "      <td>20.3</td>\n",
       "    </tr>\n",
       "  </tbody>\n",
       "</table>\n",
       "</div>"
      ],
      "text/plain": [
       "              Model  X-eng (n=81)\n",
       "0  Whisper large-v2          16.7\n",
       "1    Seamless large          23.4\n",
       "2   Seamless medium          20.3"
      ]
     },
     "execution_count": 45,
     "metadata": {},
     "output_type": "execute_result"
    }
   ],
   "source": [
    "re_results_df=pd.read_json('claims/re_fleurs_summary.json',orient='split')\n",
    "re_results_df=re_results_df[['Model','FLEURS X→eng (n=81)']]\n",
    "re_results_df.rename(columns = {'FLEURS X→eng (n=81)': 'X-eng (n=81)'}, inplace = True)\n",
    "\n",
    "re_results_df"
   ]
  },
  {
   "cell_type": "code",
   "execution_count": 52,
   "id": "9ac35faf",
   "metadata": {},
   "outputs": [
    {
     "data": {
      "text/html": [
       "<div>\n",
       "<style scoped>\n",
       "    .dataframe tbody tr th:only-of-type {\n",
       "        vertical-align: middle;\n",
       "    }\n",
       "\n",
       "    .dataframe tbody tr th {\n",
       "        vertical-align: top;\n",
       "    }\n",
       "\n",
       "    .dataframe thead th {\n",
       "        text-align: right;\n",
       "    }\n",
       "</style>\n",
       "<table border=\"1\" class=\"dataframe\">\n",
       "  <thead>\n",
       "    <tr style=\"text-align: right;\">\n",
       "      <th></th>\n",
       "      <th>Model</th>\n",
       "      <th>type</th>\n",
       "      <th>size</th>\n",
       "      <th>X-eng (n=81)</th>\n",
       "      <th>eng-X (n=88)</th>\n",
       "    </tr>\n",
       "  </thead>\n",
       "  <tbody>\n",
       "    <tr>\n",
       "      <th>0</th>\n",
       "      <td>WHISPER-MEDIUM (ASR) + NLLB-1.3B</td>\n",
       "      <td>cascaded</td>\n",
       "      <td>2B</td>\n",
       "      <td>(19.7)</td>\n",
       "      <td>(20.5)</td>\n",
       "    </tr>\n",
       "    <tr>\n",
       "      <th>1</th>\n",
       "      <td>WHISPER-MEDIUM (ASR) + NLLB-3.3B</td>\n",
       "      <td>cascaded</td>\n",
       "      <td>4B</td>\n",
       "      <td>(20.4)</td>\n",
       "      <td>(21.8)</td>\n",
       "    </tr>\n",
       "    <tr>\n",
       "      <th>2</th>\n",
       "      <td>WHISPER-LARGE-v2 (ASR) + NLLB-1.3B</td>\n",
       "      <td>cascaded</td>\n",
       "      <td>2.8B</td>\n",
       "      <td>16.7 (22.0)</td>\n",
       "      <td>(21.0)</td>\n",
       "    </tr>\n",
       "    <tr>\n",
       "      <th>3</th>\n",
       "      <td>WHISPER-LARGE-v2 (ASR) + NLLB-3.3B</td>\n",
       "      <td>cascaded</td>\n",
       "      <td>4.8B</td>\n",
       "      <td>(22.7)</td>\n",
       "      <td>(22.2)</td>\n",
       "    </tr>\n",
       "    <tr>\n",
       "      <th>4</th>\n",
       "      <td>WHISPER-LARGE-v2</td>\n",
       "      <td>direct</td>\n",
       "      <td>1.5B</td>\n",
       "      <td>(17.9)</td>\n",
       "      <td>(-)</td>\n",
       "    </tr>\n",
       "    <tr>\n",
       "      <th>5</th>\n",
       "      <td>AudioPaLM-2-8B-AST</td>\n",
       "      <td>direct</td>\n",
       "      <td>8B</td>\n",
       "      <td>(19.7)</td>\n",
       "      <td>(-)</td>\n",
       "    </tr>\n",
       "    <tr>\n",
       "      <th>6</th>\n",
       "      <td>SEAMLESSM4T-MEDIUM</td>\n",
       "      <td>direct</td>\n",
       "      <td>1B</td>\n",
       "      <td>20.3 (20.9)</td>\n",
       "      <td>(19.2)</td>\n",
       "    </tr>\n",
       "    <tr>\n",
       "      <th>7</th>\n",
       "      <td>SEAMLESSM4T-LARGE</td>\n",
       "      <td>direct</td>\n",
       "      <td>2B</td>\n",
       "      <td>23.4 (24.0)</td>\n",
       "      <td>(21.5)</td>\n",
       "    </tr>\n",
       "  </tbody>\n",
       "</table>\n",
       "</div>"
      ],
      "text/plain": [
       "                                Model      type  size X-eng (n=81)  \\\n",
       "0    WHISPER-MEDIUM (ASR) + NLLB-1.3B  cascaded    2B       (19.7)   \n",
       "1    WHISPER-MEDIUM (ASR) + NLLB-3.3B  cascaded    4B       (20.4)   \n",
       "2  WHISPER-LARGE-v2 (ASR) + NLLB-1.3B  cascaded  2.8B  16.7 (22.0)   \n",
       "3  WHISPER-LARGE-v2 (ASR) + NLLB-3.3B  cascaded  4.8B       (22.7)   \n",
       "4                    WHISPER-LARGE-v2    direct  1.5B       (17.9)   \n",
       "5                  AudioPaLM-2-8B-AST    direct    8B       (19.7)   \n",
       "6                  SEAMLESSM4T-MEDIUM    direct    1B  20.3 (20.9)   \n",
       "7                   SEAMLESSM4T-LARGE    direct    2B  23.4 (24.0)   \n",
       "\n",
       "  eng-X (n=88)  \n",
       "0       (20.5)  \n",
       "1       (21.8)  \n",
       "2       (21.0)  \n",
       "3       (22.2)  \n",
       "4          (-)  \n",
       "5          (-)  \n",
       "6       (19.2)  \n",
       "7       (21.5)  "
      ]
     },
     "execution_count": 52,
     "metadata": {},
     "output_type": "execute_result"
    }
   ],
   "source": [
    "merged_df=fuzzy_combine_results(apply_brackets(claim_df,avoid_cols=[\"Model\",\"type\",\"size\"]), re_results_df,value_cols=['X-eng (n=81)'],cut_off=90)\n",
    "merged_df"
   ]
  },
  {
   "cell_type": "markdown",
   "id": "acfb0789",
   "metadata": {},
   "source": [
    "## Challanges, we overcame 💪 "
   ]
  },
  {
   "cell_type": "markdown",
   "id": "5d35fa23",
   "metadata": {},
   "source": [
    "1. The naming convention for the models changes in every other claim. Thus it becomes important to have a mapping between the model names in the actual claims and the model names in the reproduced results. So, we would need to have a fuzzy matching between the model names in the actual claims and the model names in the reproduced results. We used the `fuzzywuzzy` library to do this.\n",
    "\n",
    "2. For one of the claims in Seamless paper, we had to divide languages across high, medium and low resorce-level categories based on Table 38 in Seamless paper. On top of it we had to constrain ourselved to only consider those languages which was supported across all models. This took some time to figure out.\n",
    "\n",
    "3. In the same claim, they mentioned about an additional category for low resource-level languages which excluded languages that were Zero-shot in AudioPaLM. We had to manually check for languages which were Zero-shot in AudioPaLM, mention in the Table 17 in Rubenstein et al., 2023 by inspecting if training data hours were zero or not. This was a bit time consuming, as the language names mentioned in Table 5 in Seamless weren't consistent with the ones in AudioPaLM paper."
   ]
  }
 ],
 "metadata": {
  "kernelspec": {
   "display_name": "Python 3 (ipykernel)",
   "language": "python",
   "name": "python3"
  },
  "language_info": {
   "codemirror_mode": {
    "name": "ipython",
    "version": 3
   },
   "file_extension": ".py",
   "mimetype": "text/x-python",
   "name": "python",
   "nbconvert_exporter": "python",
   "pygments_lexer": "ipython3",
   "version": "3.10.9"
  }
 },
 "nbformat": 4,
 "nbformat_minor": 5
}
